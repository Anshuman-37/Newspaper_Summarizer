{
  "nbformat": 4,
  "nbformat_minor": 0,
  "metadata": {
    "colab": {
      "name": "News_Paper_Summarizer.ipynb",
      "provenance": [],
      "collapsed_sections": [],
      "machine_shape": "hm",
      "authorship_tag": "ABX9TyMXE4baqDl7l+LKJ6Ys3M+Z",
      "include_colab_link": true
    },
    "kernelspec": {
      "name": "python3",
      "display_name": "Python 3"
    },
    "language_info": {
      "name": "python"
    },
    "accelerator": "GPU"
  },
  "cells": [
    {
      "cell_type": "markdown",
      "metadata": {
        "id": "view-in-github",
        "colab_type": "text"
      },
      "source": [
        "<a href=\"https://colab.research.google.com/github/Anshuman-37/Newspaper_Summarizer/blob/main/News_Paper_Summarizer.ipynb\" target=\"_parent\"><img src=\"https://colab.research.google.com/assets/colab-badge.svg\" alt=\"Open In Colab\"/></a>"
      ]
    },
    {
      "cell_type": "code",
      "execution_count": null,
      "metadata": {
        "id": "pST75VbI_3fC"
      },
      "outputs": [],
      "source": [
        "!pip install pygooglenews --upgrade\n",
        "!pip install beautifulsoup4"
      ]
    },
    {
      "cell_type": "code",
      "source": [
        "from pygooglenews import *\n",
        "\n",
        "# Google news object\n",
        "gn = GoogleNews(country='GB')\n",
        "\n",
        "# Topics array\n",
        "topics = ['Sports' , 'Technology', 'Business', 'Science']"
      ],
      "metadata": {
        "id": "86tk_eT1BL8M"
      },
      "execution_count": 40,
      "outputs": []
    },
    {
      "cell_type": "code",
      "source": [
        "# Dictonary to store the topic of news as a key and the top news of that topic as value\n",
        "news_type = {}\n",
        "for i in topics:\n",
        "    news = gn.topic_headlines(i)\n",
        "    news_type[i] = news"
      ],
      "metadata": {
        "id": "SxF2gRiPEQgk"
      },
      "execution_count": 41,
      "outputs": []
    },
    {
      "cell_type": "code",
      "source": [
        "# Print the news to make sure everythings is working\n",
        "for i,j in news_type.items():\n",
        "    print(i)\n",
        "    z = 0\n",
        "    for x in j['entries']:\n",
        "        if z >=1 : break\n",
        "        link = x['links']\n",
        "        for a in link:\n",
        "            print('\\t',a['href']); z+=1;"
      ],
      "metadata": {
        "colab": {
          "base_uri": "https://localhost:8080/"
        },
        "id": "vWmaFNePEfRe",
        "outputId": "70c6067c-4572-4242-c75e-fdb18e4c58ac"
      },
      "execution_count": 59,
      "outputs": [
        {
          "output_type": "stream",
          "name": "stdout",
          "text": [
            "Sports\n",
            "\t https://news.google.com/__i/rss/rd/articles/CBMihwFodHRwczovL25ld3MucGFkZHlwb3dlci5jb20vaG9yc2UtcmFjaW5nLzIwMjIvMDQvMDgvZ3JhbmQtbmF0aW9uYWwtdGlwcy1ob3JzZS1yYWNpbmctdGlwcy1jaGVhdC1zaGVldC1iZXN0LWJldHMtdG9kYXktc2F0dXJkYXktYWludHJlZS_SAQA?oc=5\n",
            "Technology\n",
            "\t https://news.google.com/__i/rss/rd/articles/CBMiZ2h0dHBzOi8vd3d3LnB1c2hzcXVhcmUuY29tL25ld3MvMjAyMi8wNC9yZXR1cm5hbC10ZWFtLWhvcGVmdWwtcHMtcGx1cy1leHRyYS1tZW1iZXJzLXdpbGwtZGFyZS10by10cnktaXTSAQA?oc=5\n",
            "Business\n",
            "\t https://news.google.com/__i/rss/rd/articles/CBMiZGh0dHBzOi8vbmV3cy5za3kuY29tL3N0b3J5L2JlbGdpdW0tb3JkZXJzLWZlcnJlcm8tcGxhbnQtdG8tc2h1dC1vdmVyLWtpbmRlci1zYWxtb25lbGxhLWxpbmstMTI1ODU1MzTSAWhodHRwczovL25ld3Muc2t5LmNvbS9zdG9yeS9hbXAvYmVsZ2l1bS1vcmRlcnMtZmVycmVyby1wbGFudC10by1zaHV0LW92ZXIta2luZGVyLXNhbG1vbmVsbGEtbGluay0xMjU4NTUzNA?oc=5\n",
            "Science\n",
            "\t https://news.google.com/__i/rss/rd/articles/CBMid2h0dHBzOi8vd3d3LmRhaWx5bWFpbC5jby51ay9zY2llbmNldGVjaC9hcnRpY2xlLTEwNjk5OTg3L1NwYWNlWC1BeGlvbS1TcGFjZS1sYXVuY2gtZnVsbHktY29tbWVyY2lhbC1jcmV3LUlTUy10b2RheS5odG1s0gEA?oc=5\n"
          ]
        }
      ]
    },
    {
      "cell_type": "markdown",
      "source": [
        ""
      ],
      "metadata": {
        "id": "XZj91Odry6Jl"
      }
    },
    {
      "cell_type": "code",
      "source": [
        "# Getting the url of the topic "
      ],
      "metadata": {
        "id": "fDetcQHey6uX"
      },
      "execution_count": null,
      "outputs": []
    },
    {
      "cell_type": "code",
      "source": [
        "# Now get the whole text from the website\n",
        "import requests\n",
        "\n",
        "# try:\n",
        "#     url = \"https://www.thisisafaultyurl.com/faulty/url/\"\n",
        "#     r = requests.get(url)\n",
        "#     print(\"HTML:\\n\", r.text)\n",
        "# except:\n",
        "#     print(\"Invalid URL or some error occured while making the GET request to the specified URL\")\n",
        "\n",
        "\n",
        "for i,j in news_type.items():\n",
        "    print(i); z=0;\n",
        "    for x in j['entries']:\n",
        "        if z >=1 : break\n",
        "        links = x['links']\n",
        "        for a in links:\n",
        "            url = str(a['href']);\n",
        "        try:\n",
        "            r = requests.get(url)\n",
        "            print('NEWS - \\n', r.text)\n",
        "            print('-'*50); z+=1;\n",
        "        except:\n",
        "            print(\"Invalid URL or some error occured while making the GET request to the specified URL\")\n",
        "        #print('\\t',x['title']); z+=1;\n"
      ],
      "metadata": {
        "id": "4Auqy2htF3Hz"
      },
      "execution_count": null,
      "outputs": []
    },
    {
      "cell_type": "code",
      "source": [
        ""
      ],
      "metadata": {
        "id": "3VIrVG4Izqiu"
      },
      "execution_count": null,
      "outputs": []
    }
  ]
}