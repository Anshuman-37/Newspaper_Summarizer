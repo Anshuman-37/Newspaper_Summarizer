{
  "nbformat": 4,
  "nbformat_minor": 0,
  "metadata": {
    "colab": {
      "name": "News_Paper_Summarizer.ipynb",
      "provenance": [],
      "collapsed_sections": [],
      "machine_shape": "hm",
      "authorship_tag": "ABX9TyPe7+QkI0mg1VvdUThWRQhJ",
      "include_colab_link": true
    },
    "kernelspec": {
      "name": "python3",
      "display_name": "Python 3"
    },
    "language_info": {
      "name": "python"
    },
    "accelerator": "GPU"
  },
  "cells": [
    {
      "cell_type": "markdown",
      "metadata": {
        "id": "view-in-github",
        "colab_type": "text"
      },
      "source": [
        "<a href=\"https://colab.research.google.com/github/Anshuman-37/Newspaper_Summarizer/blob/main/News_Paper_Summarizer.ipynb\" target=\"_parent\"><img src=\"https://colab.research.google.com/assets/colab-badge.svg\" alt=\"Open In Colab\"/></a>"
      ]
    },
    {
      "cell_type": "markdown",
      "source": [
        "### Header File"
      ],
      "metadata": {
        "id": "FoYLDXJsZEfY"
      }
    },
    {
      "cell_type": "code",
      "execution_count": null,
      "metadata": {
        "id": "pST75VbI_3fC"
      },
      "outputs": [],
      "source": [
        "!pip install pygooglenews --upgrade\n",
        "!pip install newspaper3k"
      ]
    },
    {
      "cell_type": "markdown",
      "source": [
        "## Creating a pickle file"
      ],
      "metadata": {
        "id": "3lZN4HDrMa8v"
      }
    },
    {
      "cell_type": "markdown",
      "source": [
        "### Container Class"
      ],
      "metadata": {
        "id": "BJniXSKCZH6M"
      }
    },
    {
      "cell_type": "code",
      "source": [
        "### container for the news\n",
        "class News_article:\n",
        "    # Category : The type of news\n",
        "    # Title : The title of the news\n",
        "    # News : The news\n",
        "    # Hyper_link : to Store the link\n",
        "    # Summay : Stores the summary of the news\n",
        "    def __init__(self, category):\n",
        "        '''Update category of the news'''\n",
        "        self.category = category\n",
        "    def set_title(self,title,link):\n",
        "        ''' Update the news and the Category '''\n",
        "        self.title = title\n",
        "        self.hyper_link = link\n",
        "    def get_link(self):\n",
        "        ''' Return the link '''\n",
        "        return self.hyper_link\n",
        "    def set_news(self,news):\n",
        "        ''' Updates the news for the link '''\n",
        "        self.news = news\n",
        "    def get_news(self):\n",
        "        ''' Return the news for specific article '''\n",
        "        return self.news \n",
        "    def set_summary(self,summary):\n",
        "        ''' Updates the summary for the news '''\n",
        "        self.summary = summary\n",
        "    def get_category(self):\n",
        "        ''' Returns the category of the news '''\n",
        "        return self.category\n",
        "    def get_summary(self):\n",
        "        ''' Returns the Title of the news and its summary '''\n",
        "        return self.title , self.summary\n",
        "    def get_category(self):\n",
        "        ''' Return the category '''\n",
        "        return self.category\n",
        "    def get_n(self):\n",
        "        '''Return the category, title and the link of the news'''\n",
        "        return  self.category,self.title,self.hyper_link\n",
        "    def get_n1(self):\n",
        "        '''Return the category, title, the link, and news'''\n",
        "        return  self.category,self.title,self.hyper_link,self.news\n",
        "    "
      ],
      "metadata": {
        "id": "1LZk4jn_ZKuc"
      },
      "execution_count": 15,
      "outputs": []
    },
    {
      "cell_type": "markdown",
      "source": [
        "### News Acquisition "
      ],
      "metadata": {
        "id": "WVZLAQrxcXrh"
      }
    },
    {
      "cell_type": "code",
      "source": [
        "from pygooglenews import *\n",
        "# Google news object\n",
        "gn = GoogleNews(country='GB')\n",
        "# Topics array\n",
        "topics = ['Sports' , 'Technology', 'Business', 'Science']\n",
        "news_lst = []\n",
        "# Traverse in the topics array and store them for the objects \n",
        "for i in topics:\n",
        "    news_article = News_article(i)\n",
        "    news_lst.append(news_article)\n",
        "\n",
        "# # printing the category of the news for the objects\n",
        "for i in news_lst:\n",
        "    print(i.get_category())\n"
      ],
      "metadata": {
        "id": "86tk_eT1BL8M",
        "colab": {
          "base_uri": "https://localhost:8080/"
        },
        "outputId": "4e5cb892-e4b7-49f8-e675-da87ac78e79b"
      },
      "execution_count": 16,
      "outputs": [
        {
          "output_type": "stream",
          "name": "stdout",
          "text": [
            "Sports\n",
            "Technology\n",
            "Business\n",
            "Science\n"
          ]
        }
      ]
    },
    {
      "cell_type": "code",
      "source": [
        "## Traverse in the news article\n",
        "for article in news_lst:\n",
        "    category = article.get_category()\n",
        "    news = gn.topic_headlines(category)\n",
        "    z=0\n",
        "    ## Getting the title of the news\n",
        "    for n in news['entries']: \n",
        "        if z>0 : break;\n",
        "        title = n['title']\n",
        "        #print(n['title']); \n",
        "        z+=1; k=0;\n",
        "        # Getting the link for the specific news\n",
        "        for l in n['links']:\n",
        "            if k>0 : break;\n",
        "            link = l['href']\n",
        "            #print(l['href']); \n",
        "            k+=1\n",
        "    ## popluate the objects with title and link\n",
        "    article.set_title(title,link)\n",
        "\n",
        "    for n in news['entries']:\n",
        "        print(n)"
      ],
      "metadata": {
        "id": "SxF2gRiPEQgk"
      },
      "execution_count": null,
      "outputs": []
    },
    {
      "cell_type": "code",
      "source": [
        "# Printing to make sure everything is running smooth\n",
        "for article in news_lst:\n",
        "    c , t , l = article.get_n()\n",
        "    print('Category : ',c,'\\n\\t Title : ', t,'\\n\\t Link :',l) "
      ],
      "metadata": {
        "colab": {
          "base_uri": "https://localhost:8080/"
        },
        "id": "0j1czawlHVgy",
        "outputId": "2eb9d2d3-9ea2-4cce-8247-93435d23cb92"
      },
      "execution_count": 18,
      "outputs": [
        {
          "output_type": "stream",
          "name": "stdout",
          "text": [
            "Category :  Sports \n",
            "\t Title :  Manchester United’s blueprint for transformation was right in front of their own eyes at Anfield - The Independent \n",
            "\t Link : https://news.google.com/__i/rss/rd/articles/CBMiamh0dHBzOi8vd3d3LmluZGVwZW5kZW50LmNvLnVrL3Nwb3J0L2Zvb3RiYWxsL21hbmNoZXN0ZXItdW5pdGVkLWxpdmVycG9vbC1yYWxmLXJhbmduaWNrLWtsb3BwLWIyMDYxMjk1Lmh0bWzSAQA?oc=5\n",
            "Category :  Technology \n",
            "\t Title :  The latest leak of Google's upcoming Pixel Watch shows off a familiar design - The Verge \n",
            "\t Link : https://news.google.com/__i/rss/rd/articles/CBMiWmh0dHBzOi8vd3d3LnRoZXZlcmdlLmNvbS8yMDIyLzQvMjAvMjMwMzMzNDEvZ29vZ2xlLXBpeGVsLXdhdGNoLWxlYWstcmVuZGVyLXJ1bW9ycy1sZy1zdHlsZdIBAA?oc=5\n",
            "Category :  Business \n",
            "\t Title :  Netflix hints at password sharing crackdown as subscribers fall - BBC \n",
            "\t Link : https://news.google.com/__i/rss/rd/articles/CBMiLGh0dHBzOi8vd3d3LmJiYy5jby51ay9uZXdzL2J1c2luZXNzLTYxMTUzMjUy0gEwaHR0cHM6Ly93d3cuYmJjLmNvLnVrL25ld3MvYnVzaW5lc3MtNjExNTMyNTIuYW1w?oc=5\n",
            "Category :  Science \n",
            "\t Title :  Hunt is on for fallen meteorite after massive fireball is seen streaking over the west of England - Daily Mail \n",
            "\t Link : https://news.google.com/__i/rss/rd/articles/CBMigAFodHRwczovL3d3dy5kYWlseW1haWwuY28udWsvc2NpZW5jZXRlY2gvYXJ0aWNsZS0xMDczNDU4My9IdW50LWZhbGxlbi1tZXRlb3JpdGUtbWFzc2l2ZS1maXJlYmFsbC1zZWVuLXN0cmVha2luZy13ZXN0LUVuZ2xhbmQuaHRtbNIBAA?oc=5\n"
          ]
        }
      ]
    },
    {
      "cell_type": "code",
      "source": [
        "import newspaper \n",
        "## Now getting the news for the specific link using Newspaper3k \n",
        "for article in news_lst:\n",
        "    url = article.get_link()\n",
        "    url_i = newspaper.Article(url=\"%s\"%(url), language='en')\n",
        "    url_i.download()\n",
        "    url_i.parse()\n",
        "    text = url_i.text\n",
        "    article.set_news(text)\n",
        "    # Display scrapped data\n",
        "    #print(url_i.text,'\\n','---'*100)\n"
      ],
      "metadata": {
        "id": "zJGSHzzxHlQg"
      },
      "execution_count": 19,
      "outputs": []
    },
    {
      "cell_type": "code",
      "source": [
        "## Printing to make sure everything runs fine\n",
        "for article in news_lst:\n",
        "    c , t , l , n = article.get_n1()\n",
        "    print('Category : ',c,'\\n\\t Title : ', t,'\\n\\t Link :',l)\n",
        "    print('\\n\\t NEWS : ',n)\n",
        "    print('\\n','---'*50) "
      ],
      "metadata": {
        "id": "cd5YzUM2L5ar",
        "colab": {
          "base_uri": "https://localhost:8080/"
        },
        "outputId": "ba1141d3-2df0-46c1-ba59-0d5e6c9341ec"
      },
      "execution_count": 20,
      "outputs": [
        {
          "output_type": "stream",
          "name": "stdout",
          "text": [
            "Category :  Sports \n",
            "\t Title :  Manchester United’s blueprint for transformation was right in front of their own eyes at Anfield - The Independent \n",
            "\t Link : https://news.google.com/__i/rss/rd/articles/CBMiamh0dHBzOi8vd3d3LmluZGVwZW5kZW50LmNvLnVrL3Nwb3J0L2Zvb3RiYWxsL21hbmNoZXN0ZXItdW5pdGVkLWxpdmVycG9vbC1yYWxmLXJhbmduaWNrLWtsb3BwLWIyMDYxMjk1Lmh0bWzSAQA?oc=5\n",
            "\n",
            "\t NEWS :  It was a night so bad for Manchester United that they didn’t just concede four goals, but were seemingly set back a further four years.\n",
            "\n",
            "On the day before this “humiliation” at Anfield, to use Ralph Rangnick’s own word, the German claimed it could take just two or three windows to get back to the top. By the end of it, he was talking about “six years”.\n",
            "\n",
            "It was certainly a defeat of historic proportions. The biggest aggregate difference between United and Liverpool in the two games over a single season had been a mere five goals. That was almost doubled, to nine. Liverpool beat them by a combined score by 9-0 and that was despite the fact it felt like Jurgen Klopp's team “declared” in both games.\n",
            "\n",
            "For Rangnick’s part, the trebling of the timescale was for slightly different outcomes. The first prediction was to just challenge. The second was to get to Liverpool’s kind of level, where they are a club so supremely run – with “25 Formula One racing cars” – that they are going for an unprecedented quadruple.\n",
            "\n",
            "How long it actually takes, to get to either point, entirely depends on what United do next. This moment of crisis should be one of opportunity, because the extent of the problems should allow free rein, an opportunity to finally be frank about what is required. United no longer have to be anchored to Ed Woodward’s misguided ideas about how close they are.\n",
            "\n",
            "Klopp, from the comfortable vantage point of embarrassing superiority, was able to be magnanimous. He refused to really criticise United’s display, say the game was easy, or even elaborate on their problems. Klopp’s restraint still revealed enough, though.\n",
            "\n",
            "“We did what we had to do. United is obviously a difficult situation, look at the line-up, without their central midfielders. Then when you are in a difficult situation, you get another knock.”\n",
            "\n",
            "He was referring to the injury to Paul Pogba but that substitution had already been preceded by the devastation of Liverpool’s opening goal, as facile as it was fluid.\n",
            "\n",
            "Klopp didn’t want to get into talk about “humiliating opponents”, but acknowledged supporters will enjoy it while they can.\n",
            "\n",
            "“I know it won't last forever,” the German said. “They'll strike back. They are too powerful.”\n",
            "\n",
            "But are United perceptive enough, or self-critical enough?\n",
            "\n",
            "This is why any discussion of Tuesday’s match inevitably evolved into discussion of the last decade.\n",
            "\n",
            "Rangnick shouldn’t be spared criticism, and for all his insistence that the squad have not mentally checked out, it’s obvious many just aren’t responding to him. At the same time, a night like this – on top of so many like it – does not happen as a consequence of decisions made immediately before the game.\n",
            "\n",
            "It’s also why some of the talk about United collapsing – in the way bad Liverpool or United teams of the past never did – or not having any fight is some way misplaced. This is a sport that has been constantly transformed in the last decade. It is much more systemised. That means that any elite team that has a finely tuned system can more easily beat one that is dysfunctional. It is more difficult for any individuals, no matter how inspirational or aggressive, to have the same rallying effect. The game is more scientific. If a team has a gap, it will be more difficult to bridge, and easier to exploit. You can't really dig in in the same way.\n",
            "\n",
            "All of that also means that, really, there was only one lesson from this game. There is only one response that is really worth anything.\n",
            "\n",
            "United’s Bruno Fernandes applauds his team’s travelling support (Manchester United via Getty Images)\n",
            "\n",
            "United should be thoroughly surveying how Liverpool got to this level, as well as every step they took since the 2010 takeover, and seek to update it for 2022.\n",
            "\n",
            "This is the harsh reality. Rangnick has already relayed its broad principles.\n",
            "\n",
            "“If you look at the two clubs who are dominating the Premier League, they brought in two managers but also changed the whole thing in terms of formation, what kind of players do they want to play, what kind of football do they want to play… the headline on everything was ‘how do you want to play?’”\n",
            "\n",
            "In other words, they incorporated the intelligence to articulate a clear idea, and took every major decision from there.\n",
            "\n",
            "That is how Liverpool got to this, and such a commanding victory. The absence of anything like that at Old Trafford is how United got to this, and such a chastening defeat.\n",
            "\n",
            "It was one of the nights where the nature of the post-match discussion will naturally provoke questions over whether it was more down to Liverpool’s brilliance or United’s problems.\n",
            "\n",
            "As inevitable as it might seem that the media focus on the negatives here, it’s impossible not to. Liverpool didn’t need to be that good. They didn’t need to push themselves. They looked so good, with people talking about a modern version of the 5-0 over Nottingham Forest in 1987-88, precisely because United afforded them the ample space to express themselves. It could not have been easier.\n",
            "\n",
            "It should lead to obvious decisions about what next at Old Trafford. Then again, the reluctance to take such decisions has been one of the reasons United are where they are.\n",
            "\n",
            " ------------------------------------------------------------------------------------------------------------------------------------------------------\n",
            "Category :  Technology \n",
            "\t Title :  The latest leak of Google's upcoming Pixel Watch shows off a familiar design - The Verge \n",
            "\t Link : https://news.google.com/__i/rss/rd/articles/CBMiWmh0dHBzOi8vd3d3LnRoZXZlcmdlLmNvbS8yMDIyLzQvMjAvMjMwMzMzNDEvZ29vZ2xlLXBpeGVsLXdhdGNoLWxlYWstcmVuZGVyLXJ1bW9ycy1sZy1zdHlsZdIBAA?oc=5\n",
            "\n",
            "\t NEWS :  We’ve been hearing rumors about Google’s Pixel Watch for years now, but it does finally seem like pieces for the project are finally falling into place. A purported render of the device shared by Evan Blass over at 91Mobiles lines up with past leaks and rumors, showing a device with a familiar circular design, physical crown, and Fitbit integration.\n",
            "\n",
            "Of course, there’s also a lot missing from the render. The image doesn’t include the watch’s lugs (which would show how the strap will connect to the face) or give any idea of its overall build. If the image looks a bit funny, though, it’s perhaps because of the watch’s rumored bezel-less design (also seen in mock-up renders shared last year by Jon Prosser).\n",
            "\n",
            "Interestingly, though, we have seen a smartwatch design that looks like this from Google before: the LG Watch Style, which LG designed in conjunction with the tech giant and released in 2017 to show off Android Wear 2.0. It has the same simplicity of lines and crown placement — though, of course, we’d hope for a much slimmer look five years on.\n",
            "\n",
            "As my colleague Victoria Song argued in a recent piece, 2022 does look like the year that Google will make another big push into wearables. The company has been investing in the smartwatch space for years, buying Fitbit and parts of Fossil in 2019 and trickling out Android Wear updates, but it’s been slow-moving and decisively outmaneuvered by Apple.\n",
            "\n",
            "We’re hoping that Google will reveal the Pixel Watch at next month’s I/O developers’ conference, but, as Song notes, there’s still lots of questions to answer: “Will the Pixel Watch primarily focus on fitness and wellness or will it also incorporate more smart features like LTE connectivity? Is this going to work equally well with all Android phones or will it prioritize Google’s own Pixel ecosystem? What about iOS?” Stay tuned to The Verge to find out more.\n",
            "\n",
            " ------------------------------------------------------------------------------------------------------------------------------------------------------\n",
            "Category :  Business \n",
            "\t Title :  Netflix hints at password sharing crackdown as subscribers fall - BBC \n",
            "\t Link : https://news.google.com/__i/rss/rd/articles/CBMiLGh0dHBzOi8vd3d3LmJiYy5jby51ay9uZXdzL2J1c2luZXNzLTYxMTUzMjUy0gEwaHR0cHM6Ly93d3cuYmJjLmNvLnVrL25ld3MvYnVzaW5lc3MtNjExNTMyNTIuYW1w?oc=5\n",
            "\n",
            "\t NEWS :  Boss Reed Hastings previously described the practice as \"something you have to learn to live with\", adding that much of it is \"legitimate\" between family members. The firm also said account sharing had probably fuelled its growth by getting more people using Netflix.\n",
            "\n",
            " ------------------------------------------------------------------------------------------------------------------------------------------------------\n",
            "Category :  Science \n",
            "\t Title :  Hunt is on for fallen meteorite after massive fireball is seen streaking over the west of England - Daily Mail \n",
            "\t Link : https://news.google.com/__i/rss/rd/articles/CBMigAFodHRwczovL3d3dy5kYWlseW1haWwuY28udWsvc2NpZW5jZXRlY2gvYXJ0aWNsZS0xMDczNDU4My9IdW50LWZhbGxlbi1tZXRlb3JpdGUtbWFzc2l2ZS1maXJlYmFsbC1zZWVuLXN0cmVha2luZy13ZXN0LUVuZ2xhbmQuaHRtbNIBAA?oc=5\n",
            "\n",
            "\t NEWS :  A spectacular fireball seen streaking over the west of England last Wednesday night may have dropped a meteorite in Shropshire, scientists claim.\n",
            "\n",
            "Scientists from the UK Fireball Alliance (UKFAll) believe that fragments of the meteorite landed somewhere south of the market town of Shrewsbury.\n",
            "\n",
            "They have spent the Easter bank holiday weekend searching for the space rocks, but are yet to find any.\n",
            "\n",
            "The alliance – a collaboration between academics and citizen scientists interested in meteor observation and meteorite recovery – is now appealing to the local community to help recover them.\n",
            "\n",
            "Fireball over Shropshire on Thursday 14th April at 00:45 am. The meteorite is thought to have landed somewhere south of the market town of Shrewsbury\n",
            "\n",
            "Meteorite fall zone. Scientists are asking anyone who lives in this area to look out for dark shiny rocks in places they shouldn't be\n",
            "\n",
            "'We think about 500g of meteorite survived to the ground in approximately four fragments just south of Shrewsbury,' said Dr Luke Daly of UKFAll and the University of Glasgow.\n",
            "\n",
            "'Given the amount of wheat and oilseed rape in the area, we have been literally looking for a needle in a haystack.\n",
            "\n",
            "'Now the UK Fireball Alliance are asking people in the area if they've found anything interesting in their back gardens or driveways over the bank holiday weekend to let them know.'\n",
            "\n",
            "UKFAll scientists are hoping that people in the area may have captured footage of the fireball on their car dashcams or doorbell cameras, which may help to give a better approximation of where it fell.\n",
            "\n",
            "'The more footage we have, the better we can model where it landed,' Ashley King from the Natural History Museum, and part of the UK Fireball Alliance, told The Times.\n",
            "\n",
            "WINCHCOMBE FAMILY MISTOOK METEORITE FOR LUMPS OF COAL A family who had a meteorite land outside their Cotswolds home said they thought someone had emptied a barbeque onto their drive. Hannah Wilcock, 25, and her parents were astounded to learn the 'lumps of coal' they heard hit their drive on the night of February 28 were fragments of a 4.6-billion-year-old meteorite. Weighing around 300g in total the meteorite pierced through the sky and crashed onto their driveway in Winchcombe, Gloucestershire. The meteorite is some of the most valuable space rock ever to fall on the UK and has had metal detectorists scouring fields in Gloucestershire. Hannah said she had been inside her parent's home when she heard a thud, she told the BBC: 'When I heard it drop, I stood up and looked out the window to see what was there. 'But because it was dark, I couldn't see anything. It was only the next morning when we went out that we saw it on the drive - a bit like a kind of splatter. 'And in all honesty, my original thought was - has someone been driving around the Cotswolds lobbing lumps of coal into people's gardens?' Advertisement\n",
            "\n",
            "Scientists at the University of Manchester offered tips for anyone who thinks they've found a piece.\n",
            "\n",
            "'The meteorite won't be hot and is as safe to handle as any other rock, but please don't pick it up with your bare hands as that would contaminate the stone,' said Professor Katie Joy of the Department of Earth and Environmental Sciences.\n",
            "\n",
            "'It's probably a glossy black or brown colour, maybe with the dark crust broken off in places.\n",
            "\n",
            "'The largest pieces won't be bigger than an Easter egg, and the smallest could be the size of a mini egg!\n",
            "\n",
            "'It may be in a place where rocks aren't usually found, like on a lawn or footpath. Don't take any risks looking for it and don't go where you shouldn't.\n",
            "\n",
            "'But if you do find something out-of-place, we'll certainly be interested to check it out.'\n",
            "\n",
            "Although thousands of meteorites have been found, only a few dozen occasions have they been 'witnessed', and traced to a specific impact.\n",
            "\n",
            "This allows scientists to calculate the meteorite's trajectory, helping them to work out where in the solar system it came from.\n",
            "\n",
            "The Shropshire meteorite fall comes just over a year after UKFAll led the successful retrieval of a meteorite in the town of Winchcombe in the Cotswolds.\n",
            "\n",
            "The Winchcombe meteorite fell from a fireball that lit up the sky over the UK and northern Europe on February 28, 2021.\n",
            "\n",
            "The following morning, a pile of dark stones and powder from the object were found on the driveway of a family home.\n",
            "\n",
            "Following analysis, the Winchcombe meteorite was identified as an unusual CM2 carbonaceous chondrite type of space rock.\n",
            "\n",
            "As is the case with other CM2s, Winchcombe contains 'calcium aluminum inclusions' (CAIs), the first materials to have formed in the solar nebula from which our solar system was created and the oldest matter humankind can see and touch.\n",
            "\n",
            "Hannah Wilcock, 25, and her parents Rob and Cathryn were astounded to learn that the 'lumps of coal' on their drive in Cotswolds were a 4.6-billion-year-old meteorite\n",
            "\n",
            "The meteor strike and debris in the drive of the Wilcock family in Winchcombe, Gloucestershire\n",
            "\n",
            "Astronomers say the meteorite plunged into Earth's orbit at around 31,000 mph — 40 times the speed of sound — before burning up. Pictured, the 0.6 lb chunk of the space rock, which astronomers dubbed the 'Winchcombe meteorite'\n",
            "\n",
            "Scientists think the meteorite travelled more than 110 million miles from its 'primordial home' in the main asteroid belt between the orbits of Mars and Jupiter, and that it may answer questions about how life began on Earth.\n",
            "\n",
            "'The organic molecules in the [sample of Winchcombe] are older than the Earth itself, and similar molecules would have rained down on the early Earth before life emerged,' said Dr Mark Sephton, an astrobiologist at Imperial College London.\n",
            "\n",
            "'They may represent the first chemical steps towards life in the early solar system, and could be the leftover ingredients from the recipe of life.'\n",
            "\n",
            "A 100g (3.5oz) section of the meteorite was donated to London's Natural History Museum for the public to view, but other fragments have been sold to private collectors.\n",
            "\n",
            "Earlier this year, a tiny bean-sized fragment weighing just 1.7g (0.05oz) sold for a whopping £9,256 ($12,600) at Christie's in London – making the piece of space rock 120 times the value of its weight in gold.\n",
            "\n",
            "UKFAll says if you think you've found a meteorite you shouldn't pick it up with your bare hands, but use aluminium foil or a sandwich bag\n",
            "\n",
            " ------------------------------------------------------------------------------------------------------------------------------------------------------\n"
          ]
        }
      ]
    },
    {
      "cell_type": "code",
      "source": [
        "### Now to create a summary of the text using transformers\n",
        "!pip install transformers\n",
        "!pip install bert-extractive-summarizer \n",
        "#pip install spacy==2.0.12"
      ],
      "metadata": {
        "id": "9SvLjPHMNxP_"
      },
      "execution_count": 21,
      "outputs": []
    },
    {
      "cell_type": "markdown",
      "source": [
        "### Model Bert"
      ],
      "metadata": {
        "id": "u0QbpLpsWgaI"
      }
    },
    {
      "cell_type": "code",
      "source": [
        "from transformers import pipeline\n",
        "from tokenizers import Tokenizer\n",
        "from summarizer import Summarizer,TransformerSummarizer\n",
        "from tqdm import tqdm\n",
        "\n",
        "for article in tqdm(news_lst):\n",
        "    n = article.get_news() \n",
        "    bert_model = Summarizer()\n",
        "    bert_summary = ''.join(bert_model(n, min_length=60))\n",
        "    article.set_summary(str(bert_summary))"
      ],
      "metadata": {
        "id": "wwNjIw02OUZP",
        "colab": {
          "base_uri": "https://localhost:8080/"
        },
        "outputId": "72eaa284-6096-4fcd-8fbd-c0f1804ce2bb"
      },
      "execution_count": 24,
      "outputs": [
        {
          "output_type": "stream",
          "name": "stderr",
          "text": [
            "\r  0%|          | 0/4 [00:00<?, ?it/s]Some weights of the model checkpoint at bert-large-uncased were not used when initializing BertModel: ['cls.seq_relationship.weight', 'cls.predictions.transform.dense.bias', 'cls.predictions.transform.dense.weight', 'cls.predictions.bias', 'cls.predictions.transform.LayerNorm.bias', 'cls.predictions.decoder.weight', 'cls.seq_relationship.bias', 'cls.predictions.transform.LayerNorm.weight']\n",
            "- This IS expected if you are initializing BertModel from the checkpoint of a model trained on another task or with another architecture (e.g. initializing a BertForSequenceClassification model from a BertForPreTraining model).\n",
            "- This IS NOT expected if you are initializing BertModel from the checkpoint of a model that you expect to be exactly identical (initializing a BertForSequenceClassification model from a BertForSequenceClassification model).\n",
            " 25%|██▌       | 1/4 [00:09<00:28,  9.57s/it]Some weights of the model checkpoint at bert-large-uncased were not used when initializing BertModel: ['cls.seq_relationship.weight', 'cls.predictions.transform.dense.bias', 'cls.predictions.transform.dense.weight', 'cls.predictions.bias', 'cls.predictions.transform.LayerNorm.bias', 'cls.predictions.decoder.weight', 'cls.seq_relationship.bias', 'cls.predictions.transform.LayerNorm.weight']\n",
            "- This IS expected if you are initializing BertModel from the checkpoint of a model trained on another task or with another architecture (e.g. initializing a BertForSequenceClassification model from a BertForPreTraining model).\n",
            "- This IS NOT expected if you are initializing BertModel from the checkpoint of a model that you expect to be exactly identical (initializing a BertForSequenceClassification model from a BertForSequenceClassification model).\n",
            " 50%|█████     | 2/4 [00:18<00:18,  9.15s/it]Some weights of the model checkpoint at bert-large-uncased were not used when initializing BertModel: ['cls.seq_relationship.weight', 'cls.predictions.transform.dense.bias', 'cls.predictions.transform.dense.weight', 'cls.predictions.bias', 'cls.predictions.transform.LayerNorm.bias', 'cls.predictions.decoder.weight', 'cls.seq_relationship.bias', 'cls.predictions.transform.LayerNorm.weight']\n",
            "- This IS expected if you are initializing BertModel from the checkpoint of a model trained on another task or with another architecture (e.g. initializing a BertForSequenceClassification model from a BertForPreTraining model).\n",
            "- This IS NOT expected if you are initializing BertModel from the checkpoint of a model that you expect to be exactly identical (initializing a BertForSequenceClassification model from a BertForSequenceClassification model).\n",
            " 75%|███████▌  | 3/4 [00:26<00:08,  8.65s/it]Some weights of the model checkpoint at bert-large-uncased were not used when initializing BertModel: ['cls.seq_relationship.weight', 'cls.predictions.transform.dense.bias', 'cls.predictions.transform.dense.weight', 'cls.predictions.bias', 'cls.predictions.transform.LayerNorm.bias', 'cls.predictions.decoder.weight', 'cls.seq_relationship.bias', 'cls.predictions.transform.LayerNorm.weight']\n",
            "- This IS expected if you are initializing BertModel from the checkpoint of a model trained on another task or with another architecture (e.g. initializing a BertForSequenceClassification model from a BertForPreTraining model).\n",
            "- This IS NOT expected if you are initializing BertModel from the checkpoint of a model that you expect to be exactly identical (initializing a BertForSequenceClassification model from a BertForSequenceClassification model).\n",
            "100%|██████████| 4/4 [00:35<00:00,  8.89s/it]\n"
          ]
        }
      ]
    },
    {
      "cell_type": "code",
      "source": [
        "for i in tqdm(news_lst):\n",
        "    title , summary = i.get_summary()\n",
        "    print('\\n Title : ', title)\n",
        "    print('\\n\\t Summary : ', summary)\n",
        "    print('--'*100)"
      ],
      "metadata": {
        "id": "Z_BC0dJFTiWx",
        "colab": {
          "base_uri": "https://localhost:8080/"
        },
        "outputId": "aaae5a2f-36ff-46b9-dd06-cbc3dd1d880e"
      },
      "execution_count": 26,
      "outputs": [
        {
          "output_type": "stream",
          "name": "stderr",
          "text": [
            "100%|██████████| 4/4 [00:00<00:00, 2424.45it/s]"
          ]
        },
        {
          "output_type": "stream",
          "name": "stdout",
          "text": [
            "\n",
            " Title :  Manchester United’s blueprint for transformation was right in front of their own eyes at Anfield - The Independent\n",
            "\n",
            "\t Summary :  It was a night so bad for Manchester United that they didn’t just concede four goals, but were seemingly set back a further four years. On the day before this “humiliation” at Anfield, to use Ralph Rangnick’s own word, the German claimed it could take just two or three windows to get back to the top. Then when you are in a difficult situation, you get another knock.” This is why any discussion of Tuesday’s match inevitably evolved into discussion of the last decade. If a team has a gap, it will be more difficult to bridge, and easier to exploit. In other words, they incorporated the intelligence to articulate a clear idea, and took every major decision from there. Then again, the reluctance to take such decisions has been one of the reasons United are where they are.\n",
            "--------------------------------------------------------------------------------------------------------------------------------------------------------------------------------------------------------\n",
            "\n",
            " Title :  The latest leak of Google's upcoming Pixel Watch shows off a familiar design - The Verge\n",
            "\n",
            "\t Summary :  We’ve been hearing rumors about Google’s Pixel Watch for years now, but it does finally seem like pieces for the project are finally falling into place. Interestingly, though, we have seen a smartwatch design that looks like this from Google before: the LG Watch Style, which LG designed in conjunction with the tech giant and released in 2017 to show off Android Wear 2.0.\n",
            "--------------------------------------------------------------------------------------------------------------------------------------------------------------------------------------------------------\n",
            "\n",
            " Title :  Netflix hints at password sharing crackdown as subscribers fall - BBC\n",
            "\n",
            "\t Summary :  Boss Reed Hastings previously described the practice as \"something you have to learn to live with\", adding that much of it is \"legitimate\" between family members. The firm also said account sharing had probably fuelled its growth by getting more people using Netflix.\n",
            "--------------------------------------------------------------------------------------------------------------------------------------------------------------------------------------------------------\n",
            "\n",
            " Title :  Hunt is on for fallen meteorite after massive fireball is seen streaking over the west of England - Daily Mail\n",
            "\n",
            "\t Summary :  A spectacular fireball seen streaking over the west of England last Wednesday night may have dropped a meteorite in Shropshire, scientists claim. Scientists are asking anyone who lives in this area to look out for dark shiny rocks in places they shouldn't be\n",
            "\n",
            "'We think about 500g of meteorite survived to the ground in approximately four fragments just south of Shrewsbury,' said Dr Luke Daly of UKFAll and the University of Glasgow. 'Now the UK Fireball Alliance are asking people in the area if they've found anything interesting in their back gardens or driveways over the bank holiday weekend to let them know.' Weighing around 300g in total the meteorite pierced through the sky and crashed onto their driveway in Winchcombe, Gloucestershire. 'It may be in a place where rocks aren't usually found, like on a lawn or footpath. Although thousands of meteorites have been found, only a few dozen occasions have they been 'witnessed', and traced to a specific impact. The following morning, a pile of dark stones and powder from the object were found on the driveway of a family home. 'They may represent the first chemical steps towards life in the early solar system, and could be the leftover ingredients from the recipe of life.'\n",
            "--------------------------------------------------------------------------------------------------------------------------------------------------------------------------------------------------------\n"
          ]
        },
        {
          "output_type": "stream",
          "name": "stderr",
          "text": [
            "\n"
          ]
        }
      ]
    },
    {
      "cell_type": "markdown",
      "source": [
        "### GPT Model"
      ],
      "metadata": {
        "id": "dzuGRmJIWlVA"
      }
    },
    {
      "cell_type": "code",
      "source": [
        "for article in tqdm(news_lst):\n",
        "    n = article.get_news() \n",
        "    GPT2_model = TransformerSummarizer(transformer_type=\"GPT2\",transformer_model_key=\"gpt2-medium\")\n",
        "    full = ''.join(GPT2_model(n, min_length=60))\n",
        "    article.set_summary(str(full)) \n"
      ],
      "metadata": {
        "id": "B-pIZwOxOXIY",
        "colab": {
          "base_uri": "https://localhost:8080/"
        },
        "outputId": "7c714f1c-1010-458f-8c56-c8bdb5bf7aa8"
      },
      "execution_count": 27,
      "outputs": [
        {
          "output_type": "stream",
          "name": "stderr",
          "text": [
            "100%|██████████| 4/4 [00:31<00:00,  7.95s/it]\n"
          ]
        }
      ]
    },
    {
      "cell_type": "code",
      "source": [
        "for i in tqdm(news_lst):\n",
        "    title , summary = i.get_summary()\n",
        "    print('\\n Title : ', title)\n",
        "    print('\\n\\t Summary : ', summary)\n",
        "    print('--'*100)"
      ],
      "metadata": {
        "id": "TJw__NOLUnYn",
        "colab": {
          "base_uri": "https://localhost:8080/"
        },
        "outputId": "3d54a26f-0a68-44dd-ae0c-3d53a5b4c45f"
      },
      "execution_count": 28,
      "outputs": [
        {
          "output_type": "stream",
          "name": "stderr",
          "text": [
            "100%|██████████| 4/4 [00:00<00:00, 2853.75it/s]"
          ]
        },
        {
          "output_type": "stream",
          "name": "stdout",
          "text": [
            "\n",
            " Title :  Manchester United’s blueprint for transformation was right in front of their own eyes at Anfield - The Independent\n",
            "\n",
            "\t Summary :  It was a night so bad for Manchester United that they didn’t just concede four goals, but were seemingly set back a further four years. This is why any discussion of Tuesday’s match inevitably evolved into discussion of the last decade. All of that also means that, really, there was only one lesson from this game. United’s Bruno Fernandes applauds his team’s travelling support (Manchester United via Getty Images)\n",
            "\n",
            "United should be thoroughly surveying how Liverpool got to this level, as well as every step they took since the 2010 takeover, and seek to update it for 2022. The absence of anything like that at Old Trafford is how United got to this, and such a chastening defeat. It was one of the nights where the nature of the post-match discussion will naturally provoke questions over whether it was more down to Liverpool’s brilliance or United’s problems. Then again, the reluctance to take such decisions has been one of the reasons United are where they are.\n",
            "--------------------------------------------------------------------------------------------------------------------------------------------------------------------------------------------------------\n",
            "\n",
            " Title :  The latest leak of Google's upcoming Pixel Watch shows off a familiar design - The Verge\n",
            "\n",
            "\t Summary :  We’ve been hearing rumors about Google’s Pixel Watch for years now, but it does finally seem like pieces for the project are finally falling into place. If the image looks a bit funny, though, it’s perhaps because of the watch’s rumored bezel-less design (also seen in mock-up renders shared last year by Jon Prosser).\n",
            "--------------------------------------------------------------------------------------------------------------------------------------------------------------------------------------------------------\n",
            "\n",
            " Title :  Netflix hints at password sharing crackdown as subscribers fall - BBC\n",
            "\n",
            "\t Summary :  Boss Reed Hastings previously described the practice as \"something you have to learn to live with\", adding that much of it is \"legitimate\" between family members. The firm also said account sharing had probably fuelled its growth by getting more people using Netflix.\n",
            "--------------------------------------------------------------------------------------------------------------------------------------------------------------------------------------------------------\n",
            "\n",
            " Title :  Hunt is on for fallen meteorite after massive fireball is seen streaking over the west of England - Daily Mail\n",
            "\n",
            "\t Summary :  A spectacular fireball seen streaking over the west of England last Wednesday night may have dropped a meteorite in Shropshire, scientists claim. Scientists are asking anyone who lives in this area to look out for dark shiny rocks in places they shouldn't be\n",
            "\n",
            "'We think about 500g of meteorite survived to the ground in approximately four fragments just south of Shrewsbury,' said Dr Luke Daly of UKFAll and the University of Glasgow. UKFAll scientists are hoping that people in the area may have captured footage of the fireball on their car dashcams or doorbell cameras, which may help to give a better approximation of where it fell. And in all honesty, my original thought was - has someone been driving around the Cotswolds lobbing lumps of coal into people's gardens?' 'It's probably a glossy black or brown colour, maybe with the dark crust broken off in places. 'But if you do find something out-of-place, we'll certainly be interested to check it out.' Following analysis, the Winchcombe meteorite was identified as an unusual CM2 carbonaceous chondrite type of space rock. A 100g (3.5oz) section of the meteorite was donated to London's Natural History Museum for the public to view, but other fragments have been sold to private collectors.\n",
            "--------------------------------------------------------------------------------------------------------------------------------------------------------------------------------------------------------\n"
          ]
        },
        {
          "output_type": "stream",
          "name": "stderr",
          "text": [
            "\n"
          ]
        }
      ]
    },
    {
      "cell_type": "markdown",
      "source": [
        "### Front End of the Application"
      ],
      "metadata": {
        "id": "nl-zm8W8XqZo"
      }
    },
    {
      "cell_type": "code",
      "source": [
        "from datetime import datetime\n",
        "a = datetime.now()\n",
        "\n",
        "# current_time = now.strftime(\"%H:%M:%S\")\n",
        "# print(\"Current Time =\", current_time)\n",
        "\n",
        "# x_time = datetime.strptime('17:00:00',\"%H:%M:%S\")\n",
        "# time_interval = x_time - str(current_time) \n",
        "# if time_interval > 3:\n",
        "#     print(x_time)"
      ],
      "metadata": {
        "id": "b_2wmDyaf403"
      },
      "execution_count": 46,
      "outputs": []
    },
    {
      "cell_type": "code",
      "source": [
        "b = datetime.now()"
      ],
      "metadata": {
        "id": "desi5su6f5AF"
      },
      "execution_count": 71,
      "outputs": []
    },
    {
      "cell_type": "code",
      "source": [
        "c = str(b-a)"
      ],
      "metadata": {
        "id": "xen3V3iOf5Dy"
      },
      "execution_count": 72,
      "outputs": []
    },
    {
      "cell_type": "code",
      "source": [
        "print(c)"
      ],
      "metadata": {
        "id": "MEF-kZO1f5I5",
        "colab": {
          "base_uri": "https://localhost:8080/"
        },
        "outputId": "91068a97-f249-4ff5-ccba-7157768ace9c"
      },
      "execution_count": 73,
      "outputs": [
        {
          "output_type": "stream",
          "name": "stdout",
          "text": [
            "0:03:31.412266\n"
          ]
        }
      ]
    },
    {
      "cell_type": "code",
      "source": [
        "c = c.split(':')\n",
        "if int(c[1]) < 1:\n",
        "    print(c)\n",
        "else:\n",
        "    print('fuck_you')"
      ],
      "metadata": {
        "id": "xCt4RaEdf5MF",
        "colab": {
          "base_uri": "https://localhost:8080/",
          "height": 240
        },
        "outputId": "f71a78d3-6c5a-4bfd-8712-61dcab9cf14d"
      },
      "execution_count": 100,
      "outputs": [
        {
          "output_type": "error",
          "ename": "AttributeError",
          "evalue": "ignored",
          "traceback": [
            "\u001b[0;31m---------------------------------------------------------------------------\u001b[0m",
            "\u001b[0;31mAttributeError\u001b[0m                            Traceback (most recent call last)",
            "\u001b[0;32m<ipython-input-100-26b0e175cef4>\u001b[0m in \u001b[0;36m<module>\u001b[0;34m()\u001b[0m\n\u001b[0;32m----> 1\u001b[0;31m \u001b[0mc\u001b[0m \u001b[0;34m=\u001b[0m \u001b[0mc\u001b[0m\u001b[0;34m.\u001b[0m\u001b[0msplit\u001b[0m\u001b[0;34m(\u001b[0m\u001b[0;34m':'\u001b[0m\u001b[0;34m)\u001b[0m\u001b[0;34m\u001b[0m\u001b[0;34m\u001b[0m\u001b[0m\n\u001b[0m\u001b[1;32m      2\u001b[0m \u001b[0;32mif\u001b[0m \u001b[0mint\u001b[0m\u001b[0;34m(\u001b[0m\u001b[0mc\u001b[0m\u001b[0;34m[\u001b[0m\u001b[0;36m1\u001b[0m\u001b[0;34m]\u001b[0m\u001b[0;34m)\u001b[0m \u001b[0;34m<\u001b[0m \u001b[0;36m1\u001b[0m\u001b[0;34m:\u001b[0m\u001b[0;34m\u001b[0m\u001b[0;34m\u001b[0m\u001b[0m\n\u001b[1;32m      3\u001b[0m     \u001b[0mprint\u001b[0m\u001b[0;34m(\u001b[0m\u001b[0mc\u001b[0m\u001b[0;34m)\u001b[0m\u001b[0;34m\u001b[0m\u001b[0;34m\u001b[0m\u001b[0m\n\u001b[1;32m      4\u001b[0m \u001b[0;32melse\u001b[0m\u001b[0;34m:\u001b[0m\u001b[0;34m\u001b[0m\u001b[0;34m\u001b[0m\u001b[0m\n\u001b[1;32m      5\u001b[0m     \u001b[0mprint\u001b[0m\u001b[0;34m(\u001b[0m\u001b[0;34m'fuck_you'\u001b[0m\u001b[0;34m)\u001b[0m\u001b[0;34m\u001b[0m\u001b[0;34m\u001b[0m\u001b[0m\n",
            "\u001b[0;31mAttributeError\u001b[0m: 'list' object has no attribute 'split'"
          ]
        }
      ]
    },
    {
      "cell_type": "code",
      "source": [
        "res_dict = {'time' : datetime.now()}"
      ],
      "metadata": {
        "id": "-cHwqFsaf5PG"
      },
      "execution_count": 80,
      "outputs": []
    },
    {
      "cell_type": "code",
      "source": [
        "News = []\n",
        "for news in news_lst:\n",
        "    news_dict = {}\n",
        "    category = news.get_category() ; title , summary = news.get_summary();\n",
        "    news_dict['Category'] = category ; news_dict['Title'] = title ; news_dict['Summary'] = summary;\n",
        "    News.append(news_dict)\n",
        "\n",
        "res_dict['News'] = News"
      ],
      "metadata": {
        "id": "DW2SCQFhf5S-"
      },
      "execution_count": 99,
      "outputs": []
    },
    {
      "cell_type": "code",
      "source": [
        "for key,value in res_dict.items():\n",
        "    if key == 'News':\n",
        "        for i in value:\n",
        "            print(i['Summary'])\n",
        "            print(100*'+')"
      ],
      "metadata": {
        "colab": {
          "base_uri": "https://localhost:8080/"
        },
        "id": "jpmSG18nWMXB",
        "outputId": "2034d079-7a3d-419f-edcb-7d57bd822f86"
      },
      "execution_count": 96,
      "outputs": [
        {
          "output_type": "stream",
          "name": "stdout",
          "text": [
            "It was a night so bad for Manchester United that they didn’t just concede four goals, but were seemingly set back a further four years. This is why any discussion of Tuesday’s match inevitably evolved into discussion of the last decade. All of that also means that, really, there was only one lesson from this game. United’s Bruno Fernandes applauds his team’s travelling support (Manchester United via Getty Images)\n",
            "\n",
            "United should be thoroughly surveying how Liverpool got to this level, as well as every step they took since the 2010 takeover, and seek to update it for 2022. The absence of anything like that at Old Trafford is how United got to this, and such a chastening defeat. It was one of the nights where the nature of the post-match discussion will naturally provoke questions over whether it was more down to Liverpool’s brilliance or United’s problems. Then again, the reluctance to take such decisions has been one of the reasons United are where they are.\n",
            "++++++++++++++++++++++++++++++++++++++++++++++++++++++++++++++++++++++++++++++++++++++++++++++++++++\n",
            "We’ve been hearing rumors about Google’s Pixel Watch for years now, but it does finally seem like pieces for the project are finally falling into place. If the image looks a bit funny, though, it’s perhaps because of the watch’s rumored bezel-less design (also seen in mock-up renders shared last year by Jon Prosser).\n",
            "++++++++++++++++++++++++++++++++++++++++++++++++++++++++++++++++++++++++++++++++++++++++++++++++++++\n",
            "Boss Reed Hastings previously described the practice as \"something you have to learn to live with\", adding that much of it is \"legitimate\" between family members. The firm also said account sharing had probably fuelled its growth by getting more people using Netflix.\n",
            "++++++++++++++++++++++++++++++++++++++++++++++++++++++++++++++++++++++++++++++++++++++++++++++++++++\n",
            "A spectacular fireball seen streaking over the west of England last Wednesday night may have dropped a meteorite in Shropshire, scientists claim. Scientists are asking anyone who lives in this area to look out for dark shiny rocks in places they shouldn't be\n",
            "\n",
            "'We think about 500g of meteorite survived to the ground in approximately four fragments just south of Shrewsbury,' said Dr Luke Daly of UKFAll and the University of Glasgow. UKFAll scientists are hoping that people in the area may have captured footage of the fireball on their car dashcams or doorbell cameras, which may help to give a better approximation of where it fell. And in all honesty, my original thought was - has someone been driving around the Cotswolds lobbing lumps of coal into people's gardens?' 'It's probably a glossy black or brown colour, maybe with the dark crust broken off in places. 'But if you do find something out-of-place, we'll certainly be interested to check it out.' Following analysis, the Winchcombe meteorite was identified as an unusual CM2 carbonaceous chondrite type of space rock. A 100g (3.5oz) section of the meteorite was donated to London's Natural History Museum for the public to view, but other fragments have been sold to private collectors.\n",
            "++++++++++++++++++++++++++++++++++++++++++++++++++++++++++++++++++++++++++++++++++++++++++++++++++++\n"
          ]
        }
      ]
    },
    {
      "cell_type": "markdown",
      "source": [
        "\n"
      ],
      "metadata": {
        "id": "U69GKMdsf6RQ"
      }
    },
    {
      "cell_type": "code",
      "source": [
        "import pickle \n",
        "\n",
        "with open('Shit.pickle', 'wb') as handle:\n",
        "    pickle.dump(res_dict, handle, protocol=pickle.HIGHEST_PROTOCOL)\n",
        "\n",
        "with open('Shit.pickle', 'rb') as handle:\n",
        "    b = pickle.load(handle)\n",
        "\n",
        "\n",
        "for key,value in b.items():\n",
        "    if key == 'News':\n",
        "        for i in value:\n",
        "            print(i['Summary'])\n",
        "            print(100*'+')"
      ],
      "metadata": {
        "id": "rNAWPqJdXtCW",
        "colab": {
          "base_uri": "https://localhost:8080/"
        },
        "outputId": "6e67e8ba-2fb9-4e9e-f38e-18abf2e4b138"
      },
      "execution_count": 97,
      "outputs": [
        {
          "output_type": "stream",
          "name": "stdout",
          "text": [
            "It was a night so bad for Manchester United that they didn’t just concede four goals, but were seemingly set back a further four years. This is why any discussion of Tuesday’s match inevitably evolved into discussion of the last decade. All of that also means that, really, there was only one lesson from this game. United’s Bruno Fernandes applauds his team’s travelling support (Manchester United via Getty Images)\n",
            "\n",
            "United should be thoroughly surveying how Liverpool got to this level, as well as every step they took since the 2010 takeover, and seek to update it for 2022. The absence of anything like that at Old Trafford is how United got to this, and such a chastening defeat. It was one of the nights where the nature of the post-match discussion will naturally provoke questions over whether it was more down to Liverpool’s brilliance or United’s problems. Then again, the reluctance to take such decisions has been one of the reasons United are where they are.\n",
            "++++++++++++++++++++++++++++++++++++++++++++++++++++++++++++++++++++++++++++++++++++++++++++++++++++\n",
            "We’ve been hearing rumors about Google’s Pixel Watch for years now, but it does finally seem like pieces for the project are finally falling into place. If the image looks a bit funny, though, it’s perhaps because of the watch’s rumored bezel-less design (also seen in mock-up renders shared last year by Jon Prosser).\n",
            "++++++++++++++++++++++++++++++++++++++++++++++++++++++++++++++++++++++++++++++++++++++++++++++++++++\n",
            "Boss Reed Hastings previously described the practice as \"something you have to learn to live with\", adding that much of it is \"legitimate\" between family members. The firm also said account sharing had probably fuelled its growth by getting more people using Netflix.\n",
            "++++++++++++++++++++++++++++++++++++++++++++++++++++++++++++++++++++++++++++++++++++++++++++++++++++\n",
            "A spectacular fireball seen streaking over the west of England last Wednesday night may have dropped a meteorite in Shropshire, scientists claim. Scientists are asking anyone who lives in this area to look out for dark shiny rocks in places they shouldn't be\n",
            "\n",
            "'We think about 500g of meteorite survived to the ground in approximately four fragments just south of Shrewsbury,' said Dr Luke Daly of UKFAll and the University of Glasgow. UKFAll scientists are hoping that people in the area may have captured footage of the fireball on their car dashcams or doorbell cameras, which may help to give a better approximation of where it fell. And in all honesty, my original thought was - has someone been driving around the Cotswolds lobbing lumps of coal into people's gardens?' 'It's probably a glossy black or brown colour, maybe with the dark crust broken off in places. 'But if you do find something out-of-place, we'll certainly be interested to check it out.' Following analysis, the Winchcombe meteorite was identified as an unusual CM2 carbonaceous chondrite type of space rock. A 100g (3.5oz) section of the meteorite was donated to London's Natural History Museum for the public to view, but other fragments have been sold to private collectors.\n",
            "++++++++++++++++++++++++++++++++++++++++++++++++++++++++++++++++++++++++++++++++++++++++++++++++++++\n"
          ]
        }
      ]
    },
    {
      "cell_type": "code",
      "source": [
        "# #%%writefile app1.py\n",
        "# import streamlit as st\n",
        "# #st.write(' # News topic wise ')\n",
        "\n",
        "# st.write('# Topic wise news with its summary')\n",
        "\n",
        "# col1, col2, col3, col4= st.columns(4)\n",
        "\n",
        "# with col1:\n",
        "#     st.header(\"Sports\")\n",
        "#     st.write('Chelsea FC XI vs Real Madrid: Confirmed team news, predicted lineup and injury latest for Champions League tie - Evening Standard')\n",
        "#     #st.image(\"https://static.streamlit.io/examples/cat.jpg\")\n",
        "\n",
        "# with col2:\n",
        "#     st.header(\"Tech\")\n",
        "#     #st.image(\"https://static.streamlit.io/examples/dog.jpg\")\n",
        "\n",
        "# with col3:\n",
        "#     st.header(\"Business\")\n",
        "#     #st.image(\"https://static.streamlit.io/examples/owl.jpg\")\n",
        "\n",
        "# with col4:\n",
        "#     st.header(\"Science\")\n",
        "\n",
        "# # topic_array = []\n",
        "# # for i in news_lst:\n",
        "# #     topic_array.append(i.get_category())\n",
        "# # for i in topic_array:\n",
        "# #     #c = i.get_category()\n",
        "# #     #st.header(i)\n",
        "# #     #st.subheader('Title')\n",
        "\n",
        "# # print(news_lst)"
      ],
      "metadata": {
        "id": "2mrUo4C4Xtj2"
      },
      "execution_count": null,
      "outputs": []
    },
    {
      "cell_type": "code",
      "source": [
        "# !streamlit run app1.py & npx localtunnel --port 8501"
      ],
      "metadata": {
        "id": "D4Uy0Lc1b-bd"
      },
      "execution_count": null,
      "outputs": []
    },
    {
      "cell_type": "code",
      "source": [
        "# print(news_lst)"
      ],
      "metadata": {
        "id": "4woUSUdicN6o"
      },
      "execution_count": null,
      "outputs": []
    },
    {
      "cell_type": "code",
      "source": [
        "# !streamlit run app2.py & npx localtunnel --port 8501"
      ],
      "metadata": {
        "id": "sNn8QLiuzclu"
      },
      "execution_count": null,
      "outputs": []
    },
    {
      "cell_type": "code",
      "source": [
        ""
      ],
      "metadata": {
        "colab": {
          "base_uri": "https://localhost:8080/",
          "height": 329
        },
        "id": "frwYyWx2Y1Md",
        "outputId": "c6af0ecd-8c0a-4b8a-a887-93e551abf24c"
      },
      "execution_count": 104,
      "outputs": [
        {
          "output_type": "error",
          "ename": "NameError",
          "evalue": "ignored",
          "traceback": [
            "\u001b[0;31m---------------------------------------------------------------------------\u001b[0m",
            "\u001b[0;31mNameError\u001b[0m                                 Traceback (most recent call last)",
            "\u001b[0;32m<ipython-input-104-eac9f2d82966>\u001b[0m in \u001b[0;36m<module>\u001b[0;34m()\u001b[0m\n\u001b[1;32m     18\u001b[0m     \u001b[0mconfig\u001b[0m\u001b[0;34m.\u001b[0m\u001b[0mgpu_options\u001b[0m\u001b[0;34m.\u001b[0m\u001b[0mvisible_device_list\u001b[0m \u001b[0;34m=\u001b[0m \u001b[0;34m\"0\"\u001b[0m\u001b[0;34m\u001b[0m\u001b[0;34m\u001b[0m\u001b[0m\n\u001b[1;32m     19\u001b[0m     \u001b[0mset_session\u001b[0m\u001b[0;34m(\u001b[0m\u001b[0mtf\u001b[0m\u001b[0;34m.\u001b[0m\u001b[0mSession\u001b[0m\u001b[0;34m(\u001b[0m\u001b[0mconfig\u001b[0m\u001b[0;34m=\u001b[0m\u001b[0mconfig\u001b[0m\u001b[0;34m)\u001b[0m\u001b[0;34m)\u001b[0m\u001b[0;34m\u001b[0m\u001b[0;34m\u001b[0m\u001b[0m\n\u001b[0;32m---> 20\u001b[0;31m \u001b[0mreset_keras\u001b[0m\u001b[0;34m(\u001b[0m\u001b[0;34m)\u001b[0m\u001b[0;34m\u001b[0m\u001b[0;34m\u001b[0m\u001b[0m\n\u001b[0m",
            "\u001b[0;32m<ipython-input-104-eac9f2d82966>\u001b[0m in \u001b[0;36mreset_keras\u001b[0;34m()\u001b[0m\n\u001b[1;32m      1\u001b[0m \u001b[0;32mimport\u001b[0m \u001b[0mkeras\u001b[0m\u001b[0;34m\u001b[0m\u001b[0;34m\u001b[0m\u001b[0m\n\u001b[1;32m      2\u001b[0m \u001b[0;32mdef\u001b[0m \u001b[0mreset_keras\u001b[0m\u001b[0;34m(\u001b[0m\u001b[0;34m)\u001b[0m\u001b[0;34m:\u001b[0m\u001b[0;34m\u001b[0m\u001b[0;34m\u001b[0m\u001b[0m\n\u001b[0;32m----> 3\u001b[0;31m     \u001b[0msess\u001b[0m \u001b[0;34m=\u001b[0m \u001b[0mget_session\u001b[0m\u001b[0;34m(\u001b[0m\u001b[0;34m)\u001b[0m\u001b[0;34m\u001b[0m\u001b[0;34m\u001b[0m\u001b[0m\n\u001b[0m\u001b[1;32m      4\u001b[0m     \u001b[0mclear_session\u001b[0m\u001b[0;34m(\u001b[0m\u001b[0;34m)\u001b[0m\u001b[0;34m\u001b[0m\u001b[0;34m\u001b[0m\u001b[0m\n\u001b[1;32m      5\u001b[0m     \u001b[0msess\u001b[0m\u001b[0;34m.\u001b[0m\u001b[0mclose\u001b[0m\u001b[0;34m(\u001b[0m\u001b[0;34m)\u001b[0m\u001b[0;34m\u001b[0m\u001b[0;34m\u001b[0m\u001b[0m\n",
            "\u001b[0;31mNameError\u001b[0m: name 'get_session' is not defined"
          ]
        }
      ]
    },
    {
      "cell_type": "markdown",
      "source": [
        ""
      ],
      "metadata": {
        "id": "JK7msz2SwTf-"
      }
    },
    {
      "cell_type": "code",
      "source": [
        ""
      ],
      "metadata": {
        "id": "oV56CCSjrQW_"
      },
      "execution_count": null,
      "outputs": []
    }
  ]
}