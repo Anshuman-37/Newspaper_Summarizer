{
  "nbformat": 4,
  "nbformat_minor": 0,
  "metadata": {
    "colab": {
      "name": "News_Paper_Summarizer.ipynb",
      "provenance": [],
      "collapsed_sections": [],
      "machine_shape": "hm",
      "authorship_tag": "ABX9TyPQihNeaJyODZasHmkn0Gf8",
      "include_colab_link": true
    },
    "kernelspec": {
      "name": "python3",
      "display_name": "Python 3"
    },
    "language_info": {
      "name": "python"
    },
    "accelerator": "GPU"
  },
  "cells": [
    {
      "cell_type": "markdown",
      "metadata": {
        "id": "view-in-github",
        "colab_type": "text"
      },
      "source": [
        "<a href=\"https://colab.research.google.com/github/Anshuman-37/Newspaper_Summarizer/blob/main/News_Paper_Summarizer.ipynb\" target=\"_parent\"><img src=\"https://colab.research.google.com/assets/colab-badge.svg\" alt=\"Open In Colab\"/></a>"
      ]
    },
    {
      "cell_type": "markdown",
      "source": [
        "### Header File"
      ],
      "metadata": {
        "id": "FoYLDXJsZEfY"
      }
    },
    {
      "cell_type": "code",
      "execution_count": null,
      "metadata": {
        "id": "pST75VbI_3fC"
      },
      "outputs": [],
      "source": [
        "!pip install pygooglenews --upgrade\n",
        "!pip install newspaper3k"
      ]
    },
    {
      "cell_type": "markdown",
      "source": [
        "### Container Class"
      ],
      "metadata": {
        "id": "BJniXSKCZH6M"
      }
    },
    {
      "cell_type": "code",
      "source": [
        "### container for the news\n",
        "\n",
        "class News_article:\n",
        "    # Category : The type of news\n",
        "    # Title : The title of the news\n",
        "    # News : The news\n",
        "    # Hyper_link : to Store the link\n",
        "    # Summay : Stores the summary of the news\n",
        "    def __init__(self, category):\n",
        "        '''Update category of the news'''\n",
        "        self.category = category\n",
        "    def set_title(self,title,link):\n",
        "        ''' Update the news and the Category '''\n",
        "        self.title = title\n",
        "        self.hyper_link = link\n",
        "    def get_link(self):\n",
        "        ''' Return the link '''\n",
        "        return self.hyper_link\n",
        "    def set_news(self,news):\n",
        "        ''' Updates the news for the link '''\n",
        "        self.news = news\n",
        "    def get_news(self):\n",
        "        ''' Return the news for specific article '''\n",
        "        return self.news \n",
        "    def set_summary(self,summary):\n",
        "        ''' Updates the summary for the news '''\n",
        "        self.summary = summary\n",
        "    def get_category(self):\n",
        "        ''' Returns the category of the news '''\n",
        "        return self.category\n",
        "    def get_summary(self):\n",
        "        ''' Returns the Title of the news and its summary '''\n",
        "        return self.title , self.summary\n",
        "    def get_category(self):\n",
        "        ''' Return the category '''\n",
        "        return self.category\n",
        "    def get_n(self):\n",
        "        '''Return the category, title and the link of the news'''\n",
        "        return  self.category,self.title,self.hyper_link\n",
        "    def get_n1(self):\n",
        "        '''Return the category, title, the link, and news'''\n",
        "        return  self.category,self.title,self.hyper_link,self.news\n",
        "    "
      ],
      "metadata": {
        "id": "1LZk4jn_ZKuc"
      },
      "execution_count": 2,
      "outputs": []
    },
    {
      "cell_type": "markdown",
      "source": [
        "### News Acquisition "
      ],
      "metadata": {
        "id": "WVZLAQrxcXrh"
      }
    },
    {
      "cell_type": "code",
      "source": [
        "from pygooglenews import *\n",
        "# Google news object\n",
        "gn = GoogleNews(country='GB')\n",
        "# Topics array\n",
        "topics = ['Sports' , 'Technology', 'Business', 'Science']\n",
        "news_lst = []\n",
        "# Traverse in the topics array and store them for the objects \n",
        "for i in topics:\n",
        "    news_article = News_article(i)\n",
        "    news_lst.append(news_article)\n",
        "\n",
        "# # printing the category of the news for the objects\n",
        "for i in news_lst:\n",
        "    print(i.get_category())\n"
      ],
      "metadata": {
        "id": "86tk_eT1BL8M",
        "colab": {
          "base_uri": "https://localhost:8080/"
        },
        "outputId": "1e5e1179-49ea-4f6d-9875-d75ad6876282"
      },
      "execution_count": 3,
      "outputs": [
        {
          "output_type": "stream",
          "name": "stdout",
          "text": [
            "Sports\n",
            "Technology\n",
            "Business\n",
            "Science\n"
          ]
        }
      ]
    },
    {
      "cell_type": "code",
      "source": [
        "## Traverse in the news article\n",
        "for article in news_lst:\n",
        "    category = article.get_category()\n",
        "    news = gn.topic_headlines(category)\n",
        "    z=0\n",
        "    ## Getting the title of the news\n",
        "    for n in news['entries']: \n",
        "        if z>0 : break;\n",
        "        title = n['title']\n",
        "        #print(n['title']); \n",
        "        z+=1; k=0;\n",
        "        # Getting the link for the specific news\n",
        "        for l in n['links']:\n",
        "            if k>0 : break;\n",
        "            link = l['href']\n",
        "            #print(l['href']); \n",
        "            k+=1\n",
        "    ## popluate the objects with title and link\n",
        "    article.set_title(title,link)\n"
      ],
      "metadata": {
        "id": "SxF2gRiPEQgk"
      },
      "execution_count": 4,
      "outputs": []
    },
    {
      "cell_type": "code",
      "source": [
        "# Printing to make sure everything is running smooth\n",
        "for article in news_lst:\n",
        "    c , t , l = article.get_n()\n",
        "    print('Category : ',c,'\\n\\t Title : ', t,'\\n\\t Link :',l) "
      ],
      "metadata": {
        "colab": {
          "base_uri": "https://localhost:8080/"
        },
        "id": "0j1czawlHVgy",
        "outputId": "6659b02b-4650-43f3-87e2-8159282bfa6f"
      },
      "execution_count": 5,
      "outputs": [
        {
          "output_type": "stream",
          "name": "stdout",
          "text": [
            "Category :  Sports \n",
            "\t Title :  Throwing a much-needed dose of Neil Warnock into Man City v Liverpool - The Guardian \n",
            "\t Link : https://news.google.com/__i/rss/rd/articles/CBMiYWh0dHBzOi8vd3d3LnRoZWd1YXJkaWFuLmNvbS9mb290YmFsbC8yMDIyL2Fwci8xMS9tYW5jaGVzdGVyLWNpdHktbGl2ZXJwb29sLW5laWwtd2Fybm9jay10aGUtZml2ZXLSAWFodHRwczovL2FtcC50aGVndWFyZGlhbi5jb20vZm9vdGJhbGwvMjAyMi9hcHIvMTEvbWFuY2hlc3Rlci1jaXR5LWxpdmVycG9vbC1uZWlsLXdhcm5vY2stdGhlLWZpdmVy?oc=5\n",
            "Category :  Technology \n",
            "\t Title :  The Final Fantasy 9 Remake Rumours Return Following Kingdom Hearts 4 Confirmation - Push Square \n",
            "\t Link : https://news.google.com/__i/rss/rd/articles/CBMieWh0dHBzOi8vd3d3LnB1c2hzcXVhcmUuY29tL25ld3MvMjAyMi8wNC90aGUtZmluYWwtZmFudGFzeS05LXJlbWFrZS1ydW1vdXJzLXJldHVybi1mb2xsb3dpbmcta2luZ2RvbS1oZWFydHMtNC1jb25maXJtYXRpb27SAQA?oc=5\n",
            "Category :  Business \n",
            "\t Title :  UK economy slows more than expected as car production slumps - The Guardian \n",
            "\t Link : https://news.google.com/__i/rss/rd/articles/CBMiTmh0dHBzOi8vd3d3LnRoZWd1YXJkaWFuLmNvbS9idXNpbmVzcy8yMDIyL2Fwci8xMS91ay1lY29ub215LWdkcC1jYXItcHJvZHVjdGlvbtIBAA?oc=5\n",
            "Category :  Science \n",
            "\t Title :  Neptune is even COLDER than we thought: Planet's stratosphere dropped by 14°F between 2003 and 2018 - Daily Mail \n",
            "\t Link : https://news.google.com/__i/rss/rd/articles/CBMigAFodHRwczovL3d3dy5kYWlseW1haWwuY28udWsvc2NpZW5jZXRlY2gvYXJ0aWNsZS0xMDcwNzAyMy9OZXB0dW5lLUNPTERFUi10aG91Z2h0LVBsYW5ldHMtc3RyYXRvc3BoZXJlLWRyb3BwZWQtMTQtRi0yMDAzLTIwMTguaHRtbNIBAA?oc=5\n"
          ]
        }
      ]
    },
    {
      "cell_type": "code",
      "source": [
        "import newspaper \n",
        "## Now getting the news for the specific link using Newspaper3k \n",
        "for article in news_lst:\n",
        "    url = article.get_link()\n",
        "    url_i = newspaper.Article(url=\"%s\"%(url), language='en')\n",
        "    url_i.download()\n",
        "    url_i.parse()\n",
        "    text = url_i.text\n",
        "    article.set_news(text)\n",
        "    # Display scrapped data\n",
        "    #print(url_i.text,'\\n','---'*100)\n"
      ],
      "metadata": {
        "id": "zJGSHzzxHlQg"
      },
      "execution_count": 6,
      "outputs": []
    },
    {
      "cell_type": "code",
      "source": [
        "## Printing to make sure everything runs fine\n",
        "for article in news_lst:\n",
        "    c , t , l , n = article.get_n1()\n",
        "    print('Category : ',c,'\\n\\t Title : ', t,'\\n\\t Link :',l)\n",
        "    print('\\n\\t NEWS : ',n)\n",
        "    print('\\n','---'*50) "
      ],
      "metadata": {
        "colab": {
          "base_uri": "https://localhost:8080/"
        },
        "id": "cd5YzUM2L5ar",
        "outputId": "c60493c5-73b2-4a03-cf83-45336d5d8c2c"
      },
      "execution_count": 9,
      "outputs": [
        {
          "output_type": "stream",
          "name": "stdout",
          "text": [
            "Category :  Sports \n",
            "\t Title :  Throwing a much-needed dose of Neil Warnock into Man City v Liverpool - The Guardian \n",
            "\t Link : https://news.google.com/__i/rss/rd/articles/CBMiYWh0dHBzOi8vd3d3LnRoZWd1YXJkaWFuLmNvbS9mb290YmFsbC8yMDIyL2Fwci8xMS9tYW5jaGVzdGVyLWNpdHktbGl2ZXJwb29sLW5laWwtd2Fybm9jay10aGUtZml2ZXLSAWFodHRwczovL2FtcC50aGVndWFyZGlhbi5jb20vZm9vdGJhbGwvMjAyMi9hcHIvMTEvbWFuY2hlc3Rlci1jaXR5LWxpdmVycG9vbC1uZWlsLXdhcm5vY2stdGhlLWZpdmVy?oc=5\n",
            "\n",
            "\t NEWS :  ETIHATE?\n",
            "\n",
            "The Fiver is all about self-improvement and finds itself incapable of watching a football match without learning the now traditional “five things”. While we already knew that Manchester City and Liverpool were both quite good at football, Sunday’s ding-dong at least served to reinforce that view, even if Liverpool were uncharacteristically poor in the first half before getting what one assumes was a gegen-rocket up the collective backside from Jürgen Klopp at the break.\n",
            "\n",
            "What we learned from one of the post-match interviews is that (1) Kevin De Bruyne knows Virgil van Dijk, (2) that the Manchester City midfielder sees Virgil a lot, (3) that his and Virgil’s children attend the same school and (4) like to play together which (5) provided the background for their “friendly chat” on the final whistle. These revelations that elite, gifted footballers aren’t actually kept cryogenically frozen in chambers only to be thawed out for training and matches appear to have come as a shock to many viewers, who had no idea that the existence of top athletes can be as mundane, if not more crushingly dull than those lived by the rest of us. Or that both men live in Cheshire, hence the pow-wows on the school run.\n",
            "\n",
            "It also went some way towards explaining why Pep Guardiola went full Basil Fawlty – without a trace of irony or awareness – when Van Dijk clipped De Bruyne to bring him down with a technical foul that could not have been more ‘Fernandinho’ if it had a shaved head, was sporting a big 25 on its back and was dancing the samba through Londrina’s main drag. Despite his anger, Pep was all smiles after the game as he and his opposite number Jürgen Klopp wrapped each other in a warm and tight embrace.\n",
            "\n",
            "With ne’er a flying pizza slice, an angry finger-wagging Irishman or a 22-man stramash involving a variety of fists and boots emerging from a cartoon cloud it has become abundantly clear that the rivalry between Liverpool and Manchester City is sadly lacking in the kind of sneering mutual contempt, childish needle and belligerent rancour that powers all the most entertaining feuds. Following a weekend in which Neil Warnock announced his retirement from management, perhaps one or both clubs could bring him in as an anger-management consultant to help generate some much-needed animosity.\n",
            "\n",
            "QUOTE OF THE DAY\n",
            "\n",
            "“Not fun, it really wasn’t fun. I made it, but that’s about it. I often went deep and had to fight often enough, but this was also a real fight”– Arjen Robben, now retired, didn’t exactly love his first marathon experience despite the 38-year-old’s very decent time of three hours, 13 minutes and 40 seconds.\n",
            "\n",
            "Arjen Robben (right, although it’s quite difficult to tell) in Rotterdam. Photograph: Koen van Weel/ANP/AFP/Getty Images\n",
            "\n",
            "RECOMMENDED LISTENING\n",
            "\n",
            "Get your ears around Football Weekly! And while we’re at it – Max, Barry and the pod squad are going back out on tour. Tickets to live shows in June and July are available here so get buying.\n",
            "\n",
            "MOVING THE GOALPOSTS\n",
            "\n",
            "The Fiver has a new sister email, folks! It’s a weekly roundup of the wonderful world of women’s football called Moving the Goalposts. You don’t need to be told that it’s smarter and wittier than us – so sign up here. The first edition has already been sent whistling into inboxes but you can get a taste here.\n",
            "\n",
            "FIVER LETTERS\n",
            "\n",
            "“Can I be one of the 1,057 people to point out that the kid with the broken phone has suffered enough without having to go to Old Trafford to watch a further 90 mins of that dross?” – Martin Fisher.\n",
            "\n",
            "“Having read Max Rushden’s article about the W---- C-- in Qatar, my response is: it’s a travesty and non-event. Ignore it. Don’t bother covering it. I say this even though I’m 81 years old and may not last to 2026” – Dale Chase.\n",
            "\n",
            "Send your letters to the.boss@theguardian.com. And you can always tweet The Fiver via @guardian_sport. Today’s winner of our prizeless letter o’ the day is … Martin Fisher.\n",
            "\n",
            "NEWS, BITS AND BOBS\n",
            "\n",
            "Chelsea meet Real Madrid on Tuesday, 3-1 down from the first leg of their Big Cup quarter-final tie and in grave danger of surrendering the trophy they won last year. “We need nothing else than a fantastic script if we want to be able to overcome this,” Tommy Tactics chin-stroked.\n",
            "\n",
            "Irate at his team’s latest cowardly capitulation, Cristiano Ronaldo appeared to knock a phone out of a young fan’s hand when leaving the pitch at Goodison Park on Saturday. Police are appealing for witnesses but might want to check the videos on various social media disgraces first.\n",
            "\n",
            "Christian Eriksen continued his uplifting, affirming return to full fitness, inspiring Brentford to a comfortable win over an exhausted West Ham.\n",
            "\n",
            "Yesssssssssss. Photograph: Frank Augstein/AP\n",
            "\n",
            "Just when you thought they were out, they pull themselves back in. Norwich aren’t down quite yet, with their victory over Burnley giving them a chance of staying up while delivering a telling blow to their opponents.\n",
            "\n",
            "Dewsbury-Hall may sound like Rishi Sunak’s holiday home, but was actually Leicester’s matchwinner against Palace, with Kiernan scoring his first Premier League goal.\n",
            "\n",
            "Atlético Madrid have been hit with a partial stadium closure for Wednesday’s Big Cup quarter-final second leg against Manchester City after supporters of the Spanish side were caught on camera appearing to perform Nazi salutes at the Etihad.\n",
            "\n",
            "Julian Nagelsmann has promised an improved Bayern performance in their Big Cup quarter-final second leg at home to Villarreal, who lead the tie 1-0. “We played a bad game and they played their best game,” Nagelsmann swaggered. “This will not happen again.”\n",
            "\n",
            "England women play Northern Ireland in a World Cup qualifier on Tuesday, and Lionesses skip Leah Williamson is a tad worried.\n",
            "\n",
            "And congratulations to Donny van de Beek, who now has a daughter with partner Estelle Bergkamp, daughter of Dennis.\n",
            "\n",
            "STILL WANT MORE?\n",
            "\n",
            "Napoli’s chase for the Scudetto took a hit this weekend, as they were beaten at home by Fiorentina. Nicky Bandini has gets all up in the grill of Serie A.\n",
            "\n",
            "This may come as a surprise to anyone who watched him at Arsenal, but Mattéo Guendouzi is actually good at football and has found a soulmate in Jorge Sampaoli, his manager at Marseille. Adam White shares some thoughts on their relationship and the rest of the Ligue 1.\n",
            "\n",
            "In a sold-out Olympiastadion, Union reminded Hertha who bosses Berlin. Here’s Andy Brassell with all the Bundesliga latest.\n",
            "\n",
            "The away end in Berlin, apparently. Photograph: Boris Streubel/Getty Images\n",
            "\n",
            "You may have heard that Manchester City played Liverpool yesterday. Here’s David Hytner’s match report, here’s Barney Ronay on Trent Alexander-Arnold and here’s Jonathan Wilson on City’s pursuit of perfection.\n",
            "\n",
            "There were, apparently, some other games played too. Our writers share 10 reflections on them.\n",
            "\n",
            "“Complex but cool” – yes, the world’s favourite tea-timely email, but also Erik ten Hag. Bart Vliestra has more.\n",
            "\n",
            "And if it’s your thing … you can follow Big Website on Big Social FaceSpace. And INSTACHAT, TOO!\n",
            "\n",
            " ------------------------------------------------------------------------------------------------------------------------------------------------------\n",
            "Category :  Technology \n",
            "\t Title :  The Final Fantasy 9 Remake Rumours Return Following Kingdom Hearts 4 Confirmation - Push Square \n",
            "\t Link : https://news.google.com/__i/rss/rd/articles/CBMieWh0dHBzOi8vd3d3LnB1c2hzcXVhcmUuY29tL25ld3MvMjAyMi8wNC90aGUtZmluYWwtZmFudGFzeS05LXJlbWFrZS1ydW1vdXJzLXJldHVybi1mb2xsb3dpbmcta2luZ2RvbS1oZWFydHMtNC1jb25maXJtYXRpb27SAQA?oc=5\n",
            "\n",
            "\t NEWS :  Right, we need to talk about Final Fantasy IX Remake again, because the rumours have well and truly returned. This supposed remake first popped up in the now infamous Nvidia leak, which outed loads of potential video game projects. Just after the leak happened in September of last year, Nvidia came out and confirmed that the information was legit — but cautioned that the listings were used for \"internal tracking and testing\" only. Basically, the company was trying to throw some water on the fire.\n",
            "\n",
            "The thing is, many of these projects have since been officially announced. Chrono Cross: The Radical Dreamers Edition happened. Street Fighter 6 happened. Crysis 4 happened. Sniper Elite 5 happened. Grand Theft Auto: The Trilogy happened. A bunch of others happened.\n",
            "\n",
            "But perhaps most importantly, one of the leak's most outlandish listings turned out to be real very, very recently. We are of course referring to Kingdom Hearts 4, which was officially revealed over the weekend. Together with the aforementioned Chrono Cross remaster, the heavily rumoured Final Fantasy Tactics remake, and the suspiciously trademarked Tactics Ogre: Reborn, it's looking like the Nvidia leak could be bang on — especially when it comes to Square Enix.\n",
            "\n",
            "Which leads us back to Final Fantasy IX Remake. With every leaked project that becomes a reality, the return of this beloved PlayStation RPG seems increasingly possible. Now, it could just be that the Final Fantasy IX Remake listing did refer to some kind of test, and isn't something that Square Enix is actually working on — but that won't stop the internet from chewing on this rumour for a while yet.\n",
            "\n",
            "What do you think? Could Final Fantasy IX Remake be real? Do you want Square Enix to revisit Zidane's grand adventure? Maybe have your say in our remakes poll, and then kidnap a princess in the comments section below.\n",
            "\n",
            " ------------------------------------------------------------------------------------------------------------------------------------------------------\n",
            "Category :  Business \n",
            "\t Title :  UK economy slows more than expected as car production slumps - The Guardian \n",
            "\t Link : https://news.google.com/__i/rss/rd/articles/CBMiTmh0dHBzOi8vd3d3LnRoZWd1YXJkaWFuLmNvbS9idXNpbmVzcy8yMDIyL2Fwci8xMS91ay1lY29ub215LWdkcC1jYXItcHJvZHVjdGlvbtIBAA?oc=5\n",
            "\n",
            "\t NEWS :  UK economic growth slowed by more than expected in February as a slump in car manufacturing undermined a sharp recovery in holiday bookings after the easing of Covid travel restrictions.\n",
            "\n",
            "The Office for National Statistics said gross domestic product rose by only 0.1% in February, down from a monthly growth rate of 0.8% in January when the economy was recovering from the coronavirus Omicron variant.\n",
            "\n",
            "City economists had forecast a monthly growth rate of 0.3%. Overall, the economy was 1.5% bigger in February than its pre-pandemic level .\n",
            "\n",
            "Raising questions over the strength of the economy before Russia’s invasion of Ukraine in late February, manufacturing slumped as car producers continued to struggle with sourcing parts amid global supply chain disruption and shortages of vital components.\n",
            "\n",
            "Activity in the sector fell 0.4% on the month, driven by a 5.4% drop in the manufacture of transport equipment and a 4.3% fall in computer, electronic and optical products, where disruption to the availability of microchips has hit production volumes around the world.\n",
            "\n",
            "Tourism rose strongly after the easing of pandemic restrictions led to an increase in people booking holidays in the UK and overseas, with growth of 33.1% for travel agencies and tour operators. The accommodation sector, which includes hotels, recorded a 23% rise in activity as more people travelled within the UK, contributing to the first month of positive growth for hotels and camping grounds since August.\n",
            "\n",
            "However, growth in the services sector of the economy slowed amid a drop in the health sector, largely reflecting a fall-back from high levels in the NHS test-and-trace and vaccination programmes in December and January when Omicron was at its peak.\n",
            "\n",
            "The latest snapshot comes as business leaders and economists warn that Britain will probably struggle for growth in the coming months as soaring energy bills and the rising cost of the weekly shop drags down consumer spending power.\n",
            "\n",
            "“The news that the economy was hardly growing at all in February suggests the economy had a little less momentum in the first quarter than we had previously thought,” said Ruth Gregory, senior UK economist at the consultancy Capital Economics. “[It] increases the risk of a contraction in GDP in the coming months as the squeeze on household real incomes intensifies.”\n",
            "\n",
            "Thomas Pugh, an economist at the accountancy firm RSM UK, said February may be the last month of growth for a while. “Surging fuel prices, slumping business and consumer confidence and supply chain disruptions will start to be felt from March and will really kick into gear in April when consumer energy prices rose by 54%,” he said.\n",
            "\n",
            "Some businesses said disruption from the storms Dudley, Eunice and Franklin during the month had hindered trade, including in the building industry, restaurants and takeaways, hairdressing and beauty, and leisure parks and holiday centres. Some companies reported a positive impact, such as those in fencing, torch sales and temporary off-grid power.\n",
            "\n",
            "Reflecting the hit to the building industry as sites were forced to close and cranes became idle amid the disruption, output in the construction sector fell by 0.1% on the month.\n",
            "\n",
            "Suren Thiru, the head of economics at the British Chambers of Commerce, said the government needed to provide more financial support to companies and businesses to deal with rising cost pressures.\n",
            "\n",
            "“February’s slowdown is likely to be the start of a prolonged period of considerably weaker growth as rising inflation, surging energy bills and higher taxes increasingly damages key drivers of UK output, including consumer spending and business investment,” he said.\n",
            "\n",
            "Sign up to the daily Business Today email or follow Guardian Business on Twitter at @BusinessDesk\n",
            "\n",
            "It comes amid growing pressure on the chancellor, Rishi Sunak, over his wife’s tax affairs and criticism for his spring statement last month over a lack of action to help those most in need during the cost of living emergency.\n",
            "\n",
            "Sunak admitted the economy faced uncertainty, although he argued that £22bn of support for the increased cost of living was being made available to households this year, as well as tax cuts worth £1,000 for half a million small businesses.\n",
            "\n",
            "“Russia’s invasion of Ukraine is creating additional economic uncertainty here in the UK, but it is right that we are responding robustly against Putin’s unprovoked invasion,” he said.\n",
            "\n",
            " ------------------------------------------------------------------------------------------------------------------------------------------------------\n",
            "Category :  Science \n",
            "\t Title :  Neptune is even COLDER than we thought: Planet's stratosphere dropped by 14°F between 2003 and 2018 - Daily Mail \n",
            "\t Link : https://news.google.com/__i/rss/rd/articles/CBMigAFodHRwczovL3d3dy5kYWlseW1haWwuY28udWsvc2NpZW5jZXRlY2gvYXJ0aWNsZS0xMDcwNzAyMy9OZXB0dW5lLUNPTERFUi10aG91Z2h0LVBsYW5ldHMtc3RyYXRvc3BoZXJlLWRyb3BwZWQtMTQtRi0yMDAzLTIwMTguaHRtbNIBAA?oc=5\n",
            "\n",
            "\t NEWS :  In its position 2.8 billion miles away from the Sun, it's no surprise that Neptune is one of the coldest planets in the Solar System, with average temperatures of -373°F (-207°C).\n",
            "\n",
            "Now, a new study has revealed that the ice giant may be even colder than we originally thought.\n",
            "\n",
            "Researchers from NASA analysed thermal infrared images of Neptune from multiple observatories over almost 20 years.\n",
            "\n",
            "Their analysis revealed that average temperatures in Neptune's stratosphere unexpectedly dropped by roughly 14°F (8°C) between 2003 and 2018.\n",
            "\n",
            "Dr Michael Roman, Postdoctoral Research Associate at the University of Leicester and lead author on the study, said: 'This change was unexpected. Since we have been observing Neptune during its early southern summer, we would expect temperatures to be slowly growing warmer, not colder.'\n",
            "\n",
            "Researchers from NASA analysed thermal infrared images of Neptune from multiple observatories over almost 20 years. Their analysis revealed that average temperatures in Neptune's stratosphere unexpectedly dropped by roughly 14°F (8°C) between 2003 and 2018\n",
            "\n",
            "Neptune: The most distant planet in our solar system Dark, cold, and whipped by supersonic winds, ice giant Neptune is the eighth and most distant planet in our solar system. More than 30 times as far from the Sun as Earth, Neptune is the only planet in our solar system not visible to the naked eye and the first predicted by mathematics before its discovery. In 2011 Neptune completed its first 165-year orbit since its discovery in 1846. NASA's Voyager 2 is the only spacecraft to have visited Neptune up close. It flew past in 1989 on its way out of the solar system. Source: NASA Advertisement\n",
            "\n",
            "In the study, the researchers studied thermal infrared images from a range of observatories, including the European Southern Observatory's Very Large Telescope and Gemini South telescope in Chile, the Subaru Telescope, Keck Telescope, and the Gemini North telescope, all in Hawaii, and NASA's Spitzer Space Telescope.\n",
            "\n",
            "The images revealed that between 2003 and 2018, temperatures in Neptune's stratosphere – the second layer of the atmosphere as you move upward – dropped by 14°F (8°C).\n",
            "\n",
            "Like Earth, Neptune experiences seasons.\n",
            "\n",
            "However, while Earth takes 365 days to complete an orbit around the sun, Neptune takes over 165 years.\n",
            "\n",
            "This means that seasons on the icy giant change much more slowly, lasting over 40 Earth-years each.\n",
            "\n",
            "Dr Glenn Orton, Senior Research Scientist at NASA's Jet Propulsion Laboratory, and co-author of the study, said: 'Our data cover less than half of a Neptune season, so no one was expecting to see large and rapid changes.'\n",
            "\n",
            "While the thermal data revealed that temperatures across the stratosphere had dropped from 2003 to 2018, surprisingly, the opposite was true for Neptune's south pole from 2018 to 2020.\n",
            "\n",
            "In the study, the researchers studied thermal infrared images from a range of observatories, including the European Southern Observatory's Very Large Telescope and Gemini South telescope in Chile, the Subaru Telescope, Keck Telescope, and the Gemini North telescope, all in Hawaii, and NASA's Spitzer Space Telescope\n",
            "\n",
            "The images revealed that between 2003 and 2018, temperatures in Neptune's stratosphere – the second layer of the atmosphere as you upward – dropped by 14°F (8°C)\n",
            "\n",
            "There, the stratosphere actually warmed by roughly 20°F (11°C) – something that has never been observed before.\n",
            "\n",
            "The researchers are currently unsure what is causing these temperature changes.\n",
            "\n",
            "'Temperature variations may be related to seasonal changes in Neptune's atmospheric chemistry, which can alter how effectively the atmosphere cools,' Dr Roman explained.\n",
            "\n",
            "'But random variability in weather patterns or even a response to the 11-year solar activity cycle may also have an effect.'\n",
            "\n",
            "Like Earth, Neptune experiences seasons. However, while Earth takes 365 days to complete an orbit around the sun, Neptune takes over 165 years. This means that seasons on the icy giant change much more slowly, lasting over 40 Earth-years each\n",
            "\n",
            "The Sun follows an 11-year cycle, during which its activity and sunspots vary. Previous research has suggest that Neptune's visible brightness fluctuates based on this cycle, and the new study reveals a possible link between the planet's temperatures too\n",
            "\n",
            "The Sun follows an 11-year cycle, during which its activity and sunspots vary.\n",
            "\n",
            "Previous research has suggested that Neptune's visible brightness fluctuates based on this cycle, and the new study reveals a possible link with the planet's temperatures too.\n",
            "\n",
            "The team now hopes to use the James Webb Space Telescope to further observe the temperature and cloud patterns on Neptune.\n",
            "\n",
            "Professor Leigh Fletcher, co-author of the study, added: 'The exquisite sensitivity of the space telescope's mid-infrared instrument, MIRI, will provide unprecedented new maps of the chemistry and temperatures in Neptune's atmosphere, helping to better identify the nature of these recent changes.'\n",
            "\n",
            " ------------------------------------------------------------------------------------------------------------------------------------------------------\n"
          ]
        }
      ]
    }
  ]
}