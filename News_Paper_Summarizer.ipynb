{
  "nbformat": 4,
  "nbformat_minor": 0,
  "metadata": {
    "colab": {
      "name": "News_Paper_Summarizer.ipynb",
      "provenance": [],
      "collapsed_sections": [],
      "machine_shape": "hm",
      "authorship_tag": "ABX9TyPmHbfiBQiMQ5njgQdo4iwP",
      "include_colab_link": true
    },
    "kernelspec": {
      "name": "python3",
      "display_name": "Python 3"
    },
    "language_info": {
      "name": "python"
    },
    "accelerator": "GPU",
    "widgets": {
      "application/vnd.jupyter.widget-state+json": {
        "69f6ac4eb98342af855c29be29ae188e": {
          "model_module": "@jupyter-widgets/controls",
          "model_name": "HBoxModel",
          "model_module_version": "1.5.0",
          "state": {
            "_dom_classes": [],
            "_model_module": "@jupyter-widgets/controls",
            "_model_module_version": "1.5.0",
            "_model_name": "HBoxModel",
            "_view_count": null,
            "_view_module": "@jupyter-widgets/controls",
            "_view_module_version": "1.5.0",
            "_view_name": "HBoxView",
            "box_style": "",
            "children": [
              "IPY_MODEL_53c10d2731bc40779d401a301a870b4c",
              "IPY_MODEL_7726cc31a05c4908a2448071a8f68b70",
              "IPY_MODEL_b2705fc270744a71a57138f223c26189"
            ],
            "layout": "IPY_MODEL_d0e1153cffd7482996577c1dc85af6e3"
          }
        },
        "53c10d2731bc40779d401a301a870b4c": {
          "model_module": "@jupyter-widgets/controls",
          "model_name": "HTMLModel",
          "model_module_version": "1.5.0",
          "state": {
            "_dom_classes": [],
            "_model_module": "@jupyter-widgets/controls",
            "_model_module_version": "1.5.0",
            "_model_name": "HTMLModel",
            "_view_count": null,
            "_view_module": "@jupyter-widgets/controls",
            "_view_module_version": "1.5.0",
            "_view_name": "HTMLView",
            "description": "",
            "description_tooltip": null,
            "layout": "IPY_MODEL_052462cec06a4fee899abb70ee82a0a4",
            "placeholder": "​",
            "style": "IPY_MODEL_db1dc990e3c9483a96f1bc8a737c5577",
            "value": "Downloading: 100%"
          }
        },
        "7726cc31a05c4908a2448071a8f68b70": {
          "model_module": "@jupyter-widgets/controls",
          "model_name": "FloatProgressModel",
          "model_module_version": "1.5.0",
          "state": {
            "_dom_classes": [],
            "_model_module": "@jupyter-widgets/controls",
            "_model_module_version": "1.5.0",
            "_model_name": "FloatProgressModel",
            "_view_count": null,
            "_view_module": "@jupyter-widgets/controls",
            "_view_module_version": "1.5.0",
            "_view_name": "ProgressView",
            "bar_style": "success",
            "description": "",
            "description_tooltip": null,
            "layout": "IPY_MODEL_94d0c8b3f00f47a2bee0dddced82a97d",
            "max": 718,
            "min": 0,
            "orientation": "horizontal",
            "style": "IPY_MODEL_0e8cb8d0d62945a88b6737872461be00",
            "value": 718
          }
        },
        "b2705fc270744a71a57138f223c26189": {
          "model_module": "@jupyter-widgets/controls",
          "model_name": "HTMLModel",
          "model_module_version": "1.5.0",
          "state": {
            "_dom_classes": [],
            "_model_module": "@jupyter-widgets/controls",
            "_model_module_version": "1.5.0",
            "_model_name": "HTMLModel",
            "_view_count": null,
            "_view_module": "@jupyter-widgets/controls",
            "_view_module_version": "1.5.0",
            "_view_name": "HTMLView",
            "description": "",
            "description_tooltip": null,
            "layout": "IPY_MODEL_0809790a7c744fa9b1196dac8d9f87b8",
            "placeholder": "​",
            "style": "IPY_MODEL_bfd34ec6c92248f58e8fb47364d8ed25",
            "value": " 718/718 [00:00&lt;00:00, 21.9kB/s]"
          }
        },
        "d0e1153cffd7482996577c1dc85af6e3": {
          "model_module": "@jupyter-widgets/base",
          "model_name": "LayoutModel",
          "model_module_version": "1.2.0",
          "state": {
            "_model_module": "@jupyter-widgets/base",
            "_model_module_version": "1.2.0",
            "_model_name": "LayoutModel",
            "_view_count": null,
            "_view_module": "@jupyter-widgets/base",
            "_view_module_version": "1.2.0",
            "_view_name": "LayoutView",
            "align_content": null,
            "align_items": null,
            "align_self": null,
            "border": null,
            "bottom": null,
            "display": null,
            "flex": null,
            "flex_flow": null,
            "grid_area": null,
            "grid_auto_columns": null,
            "grid_auto_flow": null,
            "grid_auto_rows": null,
            "grid_column": null,
            "grid_gap": null,
            "grid_row": null,
            "grid_template_areas": null,
            "grid_template_columns": null,
            "grid_template_rows": null,
            "height": null,
            "justify_content": null,
            "justify_items": null,
            "left": null,
            "margin": null,
            "max_height": null,
            "max_width": null,
            "min_height": null,
            "min_width": null,
            "object_fit": null,
            "object_position": null,
            "order": null,
            "overflow": null,
            "overflow_x": null,
            "overflow_y": null,
            "padding": null,
            "right": null,
            "top": null,
            "visibility": null,
            "width": null
          }
        },
        "052462cec06a4fee899abb70ee82a0a4": {
          "model_module": "@jupyter-widgets/base",
          "model_name": "LayoutModel",
          "model_module_version": "1.2.0",
          "state": {
            "_model_module": "@jupyter-widgets/base",
            "_model_module_version": "1.2.0",
            "_model_name": "LayoutModel",
            "_view_count": null,
            "_view_module": "@jupyter-widgets/base",
            "_view_module_version": "1.2.0",
            "_view_name": "LayoutView",
            "align_content": null,
            "align_items": null,
            "align_self": null,
            "border": null,
            "bottom": null,
            "display": null,
            "flex": null,
            "flex_flow": null,
            "grid_area": null,
            "grid_auto_columns": null,
            "grid_auto_flow": null,
            "grid_auto_rows": null,
            "grid_column": null,
            "grid_gap": null,
            "grid_row": null,
            "grid_template_areas": null,
            "grid_template_columns": null,
            "grid_template_rows": null,
            "height": null,
            "justify_content": null,
            "justify_items": null,
            "left": null,
            "margin": null,
            "max_height": null,
            "max_width": null,
            "min_height": null,
            "min_width": null,
            "object_fit": null,
            "object_position": null,
            "order": null,
            "overflow": null,
            "overflow_x": null,
            "overflow_y": null,
            "padding": null,
            "right": null,
            "top": null,
            "visibility": null,
            "width": null
          }
        },
        "db1dc990e3c9483a96f1bc8a737c5577": {
          "model_module": "@jupyter-widgets/controls",
          "model_name": "DescriptionStyleModel",
          "model_module_version": "1.5.0",
          "state": {
            "_model_module": "@jupyter-widgets/controls",
            "_model_module_version": "1.5.0",
            "_model_name": "DescriptionStyleModel",
            "_view_count": null,
            "_view_module": "@jupyter-widgets/base",
            "_view_module_version": "1.2.0",
            "_view_name": "StyleView",
            "description_width": ""
          }
        },
        "94d0c8b3f00f47a2bee0dddced82a97d": {
          "model_module": "@jupyter-widgets/base",
          "model_name": "LayoutModel",
          "model_module_version": "1.2.0",
          "state": {
            "_model_module": "@jupyter-widgets/base",
            "_model_module_version": "1.2.0",
            "_model_name": "LayoutModel",
            "_view_count": null,
            "_view_module": "@jupyter-widgets/base",
            "_view_module_version": "1.2.0",
            "_view_name": "LayoutView",
            "align_content": null,
            "align_items": null,
            "align_self": null,
            "border": null,
            "bottom": null,
            "display": null,
            "flex": null,
            "flex_flow": null,
            "grid_area": null,
            "grid_auto_columns": null,
            "grid_auto_flow": null,
            "grid_auto_rows": null,
            "grid_column": null,
            "grid_gap": null,
            "grid_row": null,
            "grid_template_areas": null,
            "grid_template_columns": null,
            "grid_template_rows": null,
            "height": null,
            "justify_content": null,
            "justify_items": null,
            "left": null,
            "margin": null,
            "max_height": null,
            "max_width": null,
            "min_height": null,
            "min_width": null,
            "object_fit": null,
            "object_position": null,
            "order": null,
            "overflow": null,
            "overflow_x": null,
            "overflow_y": null,
            "padding": null,
            "right": null,
            "top": null,
            "visibility": null,
            "width": null
          }
        },
        "0e8cb8d0d62945a88b6737872461be00": {
          "model_module": "@jupyter-widgets/controls",
          "model_name": "ProgressStyleModel",
          "model_module_version": "1.5.0",
          "state": {
            "_model_module": "@jupyter-widgets/controls",
            "_model_module_version": "1.5.0",
            "_model_name": "ProgressStyleModel",
            "_view_count": null,
            "_view_module": "@jupyter-widgets/base",
            "_view_module_version": "1.2.0",
            "_view_name": "StyleView",
            "bar_color": null,
            "description_width": ""
          }
        },
        "0809790a7c744fa9b1196dac8d9f87b8": {
          "model_module": "@jupyter-widgets/base",
          "model_name": "LayoutModel",
          "model_module_version": "1.2.0",
          "state": {
            "_model_module": "@jupyter-widgets/base",
            "_model_module_version": "1.2.0",
            "_model_name": "LayoutModel",
            "_view_count": null,
            "_view_module": "@jupyter-widgets/base",
            "_view_module_version": "1.2.0",
            "_view_name": "LayoutView",
            "align_content": null,
            "align_items": null,
            "align_self": null,
            "border": null,
            "bottom": null,
            "display": null,
            "flex": null,
            "flex_flow": null,
            "grid_area": null,
            "grid_auto_columns": null,
            "grid_auto_flow": null,
            "grid_auto_rows": null,
            "grid_column": null,
            "grid_gap": null,
            "grid_row": null,
            "grid_template_areas": null,
            "grid_template_columns": null,
            "grid_template_rows": null,
            "height": null,
            "justify_content": null,
            "justify_items": null,
            "left": null,
            "margin": null,
            "max_height": null,
            "max_width": null,
            "min_height": null,
            "min_width": null,
            "object_fit": null,
            "object_position": null,
            "order": null,
            "overflow": null,
            "overflow_x": null,
            "overflow_y": null,
            "padding": null,
            "right": null,
            "top": null,
            "visibility": null,
            "width": null
          }
        },
        "bfd34ec6c92248f58e8fb47364d8ed25": {
          "model_module": "@jupyter-widgets/controls",
          "model_name": "DescriptionStyleModel",
          "model_module_version": "1.5.0",
          "state": {
            "_model_module": "@jupyter-widgets/controls",
            "_model_module_version": "1.5.0",
            "_model_name": "DescriptionStyleModel",
            "_view_count": null,
            "_view_module": "@jupyter-widgets/base",
            "_view_module_version": "1.2.0",
            "_view_name": "StyleView",
            "description_width": ""
          }
        },
        "1f9c514e9b9842de9a2d0f73f9d6be4f": {
          "model_module": "@jupyter-widgets/controls",
          "model_name": "HBoxModel",
          "model_module_version": "1.5.0",
          "state": {
            "_dom_classes": [],
            "_model_module": "@jupyter-widgets/controls",
            "_model_module_version": "1.5.0",
            "_model_name": "HBoxModel",
            "_view_count": null,
            "_view_module": "@jupyter-widgets/controls",
            "_view_module_version": "1.5.0",
            "_view_name": "HBoxView",
            "box_style": "",
            "children": [
              "IPY_MODEL_db53036c0bcb4dca806cfaa5102fcb08",
              "IPY_MODEL_9ca386f3cbef41f5b1c9755cbb5efe73",
              "IPY_MODEL_6605d937489d45c99cc4d44ffc808c70"
            ],
            "layout": "IPY_MODEL_4c9cd660e7304addabfbc79d8a41bad3"
          }
        },
        "db53036c0bcb4dca806cfaa5102fcb08": {
          "model_module": "@jupyter-widgets/controls",
          "model_name": "HTMLModel",
          "model_module_version": "1.5.0",
          "state": {
            "_dom_classes": [],
            "_model_module": "@jupyter-widgets/controls",
            "_model_module_version": "1.5.0",
            "_model_name": "HTMLModel",
            "_view_count": null,
            "_view_module": "@jupyter-widgets/controls",
            "_view_module_version": "1.5.0",
            "_view_name": "HTMLView",
            "description": "",
            "description_tooltip": null,
            "layout": "IPY_MODEL_46f1c7f32d33430bb6bdbf754ffe2c11",
            "placeholder": "​",
            "style": "IPY_MODEL_3ad66fd953af49f39c350c4d2e5efe3a",
            "value": "Downloading: 100%"
          }
        },
        "9ca386f3cbef41f5b1c9755cbb5efe73": {
          "model_module": "@jupyter-widgets/controls",
          "model_name": "FloatProgressModel",
          "model_module_version": "1.5.0",
          "state": {
            "_dom_classes": [],
            "_model_module": "@jupyter-widgets/controls",
            "_model_module_version": "1.5.0",
            "_model_name": "FloatProgressModel",
            "_view_count": null,
            "_view_module": "@jupyter-widgets/controls",
            "_view_module_version": "1.5.0",
            "_view_name": "ProgressView",
            "bar_style": "success",
            "description": "",
            "description_tooltip": null,
            "layout": "IPY_MODEL_c3e8b728b8c64c358128ce0d3c15c557",
            "max": 1520013706,
            "min": 0,
            "orientation": "horizontal",
            "style": "IPY_MODEL_08a522764a6d476b91df8389f7fd7fcf",
            "value": 1520013706
          }
        },
        "6605d937489d45c99cc4d44ffc808c70": {
          "model_module": "@jupyter-widgets/controls",
          "model_name": "HTMLModel",
          "model_module_version": "1.5.0",
          "state": {
            "_dom_classes": [],
            "_model_module": "@jupyter-widgets/controls",
            "_model_module_version": "1.5.0",
            "_model_name": "HTMLModel",
            "_view_count": null,
            "_view_module": "@jupyter-widgets/controls",
            "_view_module_version": "1.5.0",
            "_view_name": "HTMLView",
            "description": "",
            "description_tooltip": null,
            "layout": "IPY_MODEL_0ee8e5a5ec6a461dbb25a78255374f7c",
            "placeholder": "​",
            "style": "IPY_MODEL_8bc30b055d6345ab852e7bcac98aec47",
            "value": " 1.42G/1.42G [00:26&lt;00:00, 64.9MB/s]"
          }
        },
        "4c9cd660e7304addabfbc79d8a41bad3": {
          "model_module": "@jupyter-widgets/base",
          "model_name": "LayoutModel",
          "model_module_version": "1.2.0",
          "state": {
            "_model_module": "@jupyter-widgets/base",
            "_model_module_version": "1.2.0",
            "_model_name": "LayoutModel",
            "_view_count": null,
            "_view_module": "@jupyter-widgets/base",
            "_view_module_version": "1.2.0",
            "_view_name": "LayoutView",
            "align_content": null,
            "align_items": null,
            "align_self": null,
            "border": null,
            "bottom": null,
            "display": null,
            "flex": null,
            "flex_flow": null,
            "grid_area": null,
            "grid_auto_columns": null,
            "grid_auto_flow": null,
            "grid_auto_rows": null,
            "grid_column": null,
            "grid_gap": null,
            "grid_row": null,
            "grid_template_areas": null,
            "grid_template_columns": null,
            "grid_template_rows": null,
            "height": null,
            "justify_content": null,
            "justify_items": null,
            "left": null,
            "margin": null,
            "max_height": null,
            "max_width": null,
            "min_height": null,
            "min_width": null,
            "object_fit": null,
            "object_position": null,
            "order": null,
            "overflow": null,
            "overflow_x": null,
            "overflow_y": null,
            "padding": null,
            "right": null,
            "top": null,
            "visibility": null,
            "width": null
          }
        },
        "46f1c7f32d33430bb6bdbf754ffe2c11": {
          "model_module": "@jupyter-widgets/base",
          "model_name": "LayoutModel",
          "model_module_version": "1.2.0",
          "state": {
            "_model_module": "@jupyter-widgets/base",
            "_model_module_version": "1.2.0",
            "_model_name": "LayoutModel",
            "_view_count": null,
            "_view_module": "@jupyter-widgets/base",
            "_view_module_version": "1.2.0",
            "_view_name": "LayoutView",
            "align_content": null,
            "align_items": null,
            "align_self": null,
            "border": null,
            "bottom": null,
            "display": null,
            "flex": null,
            "flex_flow": null,
            "grid_area": null,
            "grid_auto_columns": null,
            "grid_auto_flow": null,
            "grid_auto_rows": null,
            "grid_column": null,
            "grid_gap": null,
            "grid_row": null,
            "grid_template_areas": null,
            "grid_template_columns": null,
            "grid_template_rows": null,
            "height": null,
            "justify_content": null,
            "justify_items": null,
            "left": null,
            "margin": null,
            "max_height": null,
            "max_width": null,
            "min_height": null,
            "min_width": null,
            "object_fit": null,
            "object_position": null,
            "order": null,
            "overflow": null,
            "overflow_x": null,
            "overflow_y": null,
            "padding": null,
            "right": null,
            "top": null,
            "visibility": null,
            "width": null
          }
        },
        "3ad66fd953af49f39c350c4d2e5efe3a": {
          "model_module": "@jupyter-widgets/controls",
          "model_name": "DescriptionStyleModel",
          "model_module_version": "1.5.0",
          "state": {
            "_model_module": "@jupyter-widgets/controls",
            "_model_module_version": "1.5.0",
            "_model_name": "DescriptionStyleModel",
            "_view_count": null,
            "_view_module": "@jupyter-widgets/base",
            "_view_module_version": "1.2.0",
            "_view_name": "StyleView",
            "description_width": ""
          }
        },
        "c3e8b728b8c64c358128ce0d3c15c557": {
          "model_module": "@jupyter-widgets/base",
          "model_name": "LayoutModel",
          "model_module_version": "1.2.0",
          "state": {
            "_model_module": "@jupyter-widgets/base",
            "_model_module_version": "1.2.0",
            "_model_name": "LayoutModel",
            "_view_count": null,
            "_view_module": "@jupyter-widgets/base",
            "_view_module_version": "1.2.0",
            "_view_name": "LayoutView",
            "align_content": null,
            "align_items": null,
            "align_self": null,
            "border": null,
            "bottom": null,
            "display": null,
            "flex": null,
            "flex_flow": null,
            "grid_area": null,
            "grid_auto_columns": null,
            "grid_auto_flow": null,
            "grid_auto_rows": null,
            "grid_column": null,
            "grid_gap": null,
            "grid_row": null,
            "grid_template_areas": null,
            "grid_template_columns": null,
            "grid_template_rows": null,
            "height": null,
            "justify_content": null,
            "justify_items": null,
            "left": null,
            "margin": null,
            "max_height": null,
            "max_width": null,
            "min_height": null,
            "min_width": null,
            "object_fit": null,
            "object_position": null,
            "order": null,
            "overflow": null,
            "overflow_x": null,
            "overflow_y": null,
            "padding": null,
            "right": null,
            "top": null,
            "visibility": null,
            "width": null
          }
        },
        "08a522764a6d476b91df8389f7fd7fcf": {
          "model_module": "@jupyter-widgets/controls",
          "model_name": "ProgressStyleModel",
          "model_module_version": "1.5.0",
          "state": {
            "_model_module": "@jupyter-widgets/controls",
            "_model_module_version": "1.5.0",
            "_model_name": "ProgressStyleModel",
            "_view_count": null,
            "_view_module": "@jupyter-widgets/base",
            "_view_module_version": "1.2.0",
            "_view_name": "StyleView",
            "bar_color": null,
            "description_width": ""
          }
        },
        "0ee8e5a5ec6a461dbb25a78255374f7c": {
          "model_module": "@jupyter-widgets/base",
          "model_name": "LayoutModel",
          "model_module_version": "1.2.0",
          "state": {
            "_model_module": "@jupyter-widgets/base",
            "_model_module_version": "1.2.0",
            "_model_name": "LayoutModel",
            "_view_count": null,
            "_view_module": "@jupyter-widgets/base",
            "_view_module_version": "1.2.0",
            "_view_name": "LayoutView",
            "align_content": null,
            "align_items": null,
            "align_self": null,
            "border": null,
            "bottom": null,
            "display": null,
            "flex": null,
            "flex_flow": null,
            "grid_area": null,
            "grid_auto_columns": null,
            "grid_auto_flow": null,
            "grid_auto_rows": null,
            "grid_column": null,
            "grid_gap": null,
            "grid_row": null,
            "grid_template_areas": null,
            "grid_template_columns": null,
            "grid_template_rows": null,
            "height": null,
            "justify_content": null,
            "justify_items": null,
            "left": null,
            "margin": null,
            "max_height": null,
            "max_width": null,
            "min_height": null,
            "min_width": null,
            "object_fit": null,
            "object_position": null,
            "order": null,
            "overflow": null,
            "overflow_x": null,
            "overflow_y": null,
            "padding": null,
            "right": null,
            "top": null,
            "visibility": null,
            "width": null
          }
        },
        "8bc30b055d6345ab852e7bcac98aec47": {
          "model_module": "@jupyter-widgets/controls",
          "model_name": "DescriptionStyleModel",
          "model_module_version": "1.5.0",
          "state": {
            "_model_module": "@jupyter-widgets/controls",
            "_model_module_version": "1.5.0",
            "_model_name": "DescriptionStyleModel",
            "_view_count": null,
            "_view_module": "@jupyter-widgets/base",
            "_view_module_version": "1.2.0",
            "_view_name": "StyleView",
            "description_width": ""
          }
        },
        "9c60a9af08334996844ddc6b7aae24ac": {
          "model_module": "@jupyter-widgets/controls",
          "model_name": "HBoxModel",
          "model_module_version": "1.5.0",
          "state": {
            "_dom_classes": [],
            "_model_module": "@jupyter-widgets/controls",
            "_model_module_version": "1.5.0",
            "_model_name": "HBoxModel",
            "_view_count": null,
            "_view_module": "@jupyter-widgets/controls",
            "_view_module_version": "1.5.0",
            "_view_name": "HBoxView",
            "box_style": "",
            "children": [
              "IPY_MODEL_bcf4e6d3db594231ba858cda06a812da",
              "IPY_MODEL_cc8e07532e0240f389fda9c63863751a",
              "IPY_MODEL_de36bd315a35448f9cca8cee81561350"
            ],
            "layout": "IPY_MODEL_d832d5f40e034ee8a20fd0e7d2898fba"
          }
        },
        "bcf4e6d3db594231ba858cda06a812da": {
          "model_module": "@jupyter-widgets/controls",
          "model_name": "HTMLModel",
          "model_module_version": "1.5.0",
          "state": {
            "_dom_classes": [],
            "_model_module": "@jupyter-widgets/controls",
            "_model_module_version": "1.5.0",
            "_model_name": "HTMLModel",
            "_view_count": null,
            "_view_module": "@jupyter-widgets/controls",
            "_view_module_version": "1.5.0",
            "_view_name": "HTMLView",
            "description": "",
            "description_tooltip": null,
            "layout": "IPY_MODEL_9171b496267a447299c9bc9f43c91586",
            "placeholder": "​",
            "style": "IPY_MODEL_e4dec435ebdc42ce8071cc2f57f82909",
            "value": "Downloading: 100%"
          }
        },
        "cc8e07532e0240f389fda9c63863751a": {
          "model_module": "@jupyter-widgets/controls",
          "model_name": "FloatProgressModel",
          "model_module_version": "1.5.0",
          "state": {
            "_dom_classes": [],
            "_model_module": "@jupyter-widgets/controls",
            "_model_module_version": "1.5.0",
            "_model_name": "FloatProgressModel",
            "_view_count": null,
            "_view_module": "@jupyter-widgets/controls",
            "_view_module_version": "1.5.0",
            "_view_name": "ProgressView",
            "bar_style": "success",
            "description": "",
            "description_tooltip": null,
            "layout": "IPY_MODEL_124ca88c9a6d4a8187d711650ab6d052",
            "max": 1042301,
            "min": 0,
            "orientation": "horizontal",
            "style": "IPY_MODEL_a78e88c3a34e4e01b4a118987f6c0758",
            "value": 1042301
          }
        },
        "de36bd315a35448f9cca8cee81561350": {
          "model_module": "@jupyter-widgets/controls",
          "model_name": "HTMLModel",
          "model_module_version": "1.5.0",
          "state": {
            "_dom_classes": [],
            "_model_module": "@jupyter-widgets/controls",
            "_model_module_version": "1.5.0",
            "_model_name": "HTMLModel",
            "_view_count": null,
            "_view_module": "@jupyter-widgets/controls",
            "_view_module_version": "1.5.0",
            "_view_name": "HTMLView",
            "description": "",
            "description_tooltip": null,
            "layout": "IPY_MODEL_b5e54c330c154d69821cf2db872eb6fe",
            "placeholder": "​",
            "style": "IPY_MODEL_c64277b3bf3a420687f4cbdb67aa08c4",
            "value": " 0.99M/0.99M [00:01&lt;00:00, 1.06MB/s]"
          }
        },
        "d832d5f40e034ee8a20fd0e7d2898fba": {
          "model_module": "@jupyter-widgets/base",
          "model_name": "LayoutModel",
          "model_module_version": "1.2.0",
          "state": {
            "_model_module": "@jupyter-widgets/base",
            "_model_module_version": "1.2.0",
            "_model_name": "LayoutModel",
            "_view_count": null,
            "_view_module": "@jupyter-widgets/base",
            "_view_module_version": "1.2.0",
            "_view_name": "LayoutView",
            "align_content": null,
            "align_items": null,
            "align_self": null,
            "border": null,
            "bottom": null,
            "display": null,
            "flex": null,
            "flex_flow": null,
            "grid_area": null,
            "grid_auto_columns": null,
            "grid_auto_flow": null,
            "grid_auto_rows": null,
            "grid_column": null,
            "grid_gap": null,
            "grid_row": null,
            "grid_template_areas": null,
            "grid_template_columns": null,
            "grid_template_rows": null,
            "height": null,
            "justify_content": null,
            "justify_items": null,
            "left": null,
            "margin": null,
            "max_height": null,
            "max_width": null,
            "min_height": null,
            "min_width": null,
            "object_fit": null,
            "object_position": null,
            "order": null,
            "overflow": null,
            "overflow_x": null,
            "overflow_y": null,
            "padding": null,
            "right": null,
            "top": null,
            "visibility": null,
            "width": null
          }
        },
        "9171b496267a447299c9bc9f43c91586": {
          "model_module": "@jupyter-widgets/base",
          "model_name": "LayoutModel",
          "model_module_version": "1.2.0",
          "state": {
            "_model_module": "@jupyter-widgets/base",
            "_model_module_version": "1.2.0",
            "_model_name": "LayoutModel",
            "_view_count": null,
            "_view_module": "@jupyter-widgets/base",
            "_view_module_version": "1.2.0",
            "_view_name": "LayoutView",
            "align_content": null,
            "align_items": null,
            "align_self": null,
            "border": null,
            "bottom": null,
            "display": null,
            "flex": null,
            "flex_flow": null,
            "grid_area": null,
            "grid_auto_columns": null,
            "grid_auto_flow": null,
            "grid_auto_rows": null,
            "grid_column": null,
            "grid_gap": null,
            "grid_row": null,
            "grid_template_areas": null,
            "grid_template_columns": null,
            "grid_template_rows": null,
            "height": null,
            "justify_content": null,
            "justify_items": null,
            "left": null,
            "margin": null,
            "max_height": null,
            "max_width": null,
            "min_height": null,
            "min_width": null,
            "object_fit": null,
            "object_position": null,
            "order": null,
            "overflow": null,
            "overflow_x": null,
            "overflow_y": null,
            "padding": null,
            "right": null,
            "top": null,
            "visibility": null,
            "width": null
          }
        },
        "e4dec435ebdc42ce8071cc2f57f82909": {
          "model_module": "@jupyter-widgets/controls",
          "model_name": "DescriptionStyleModel",
          "model_module_version": "1.5.0",
          "state": {
            "_model_module": "@jupyter-widgets/controls",
            "_model_module_version": "1.5.0",
            "_model_name": "DescriptionStyleModel",
            "_view_count": null,
            "_view_module": "@jupyter-widgets/base",
            "_view_module_version": "1.2.0",
            "_view_name": "StyleView",
            "description_width": ""
          }
        },
        "124ca88c9a6d4a8187d711650ab6d052": {
          "model_module": "@jupyter-widgets/base",
          "model_name": "LayoutModel",
          "model_module_version": "1.2.0",
          "state": {
            "_model_module": "@jupyter-widgets/base",
            "_model_module_version": "1.2.0",
            "_model_name": "LayoutModel",
            "_view_count": null,
            "_view_module": "@jupyter-widgets/base",
            "_view_module_version": "1.2.0",
            "_view_name": "LayoutView",
            "align_content": null,
            "align_items": null,
            "align_self": null,
            "border": null,
            "bottom": null,
            "display": null,
            "flex": null,
            "flex_flow": null,
            "grid_area": null,
            "grid_auto_columns": null,
            "grid_auto_flow": null,
            "grid_auto_rows": null,
            "grid_column": null,
            "grid_gap": null,
            "grid_row": null,
            "grid_template_areas": null,
            "grid_template_columns": null,
            "grid_template_rows": null,
            "height": null,
            "justify_content": null,
            "justify_items": null,
            "left": null,
            "margin": null,
            "max_height": null,
            "max_width": null,
            "min_height": null,
            "min_width": null,
            "object_fit": null,
            "object_position": null,
            "order": null,
            "overflow": null,
            "overflow_x": null,
            "overflow_y": null,
            "padding": null,
            "right": null,
            "top": null,
            "visibility": null,
            "width": null
          }
        },
        "a78e88c3a34e4e01b4a118987f6c0758": {
          "model_module": "@jupyter-widgets/controls",
          "model_name": "ProgressStyleModel",
          "model_module_version": "1.5.0",
          "state": {
            "_model_module": "@jupyter-widgets/controls",
            "_model_module_version": "1.5.0",
            "_model_name": "ProgressStyleModel",
            "_view_count": null,
            "_view_module": "@jupyter-widgets/base",
            "_view_module_version": "1.2.0",
            "_view_name": "StyleView",
            "bar_color": null,
            "description_width": ""
          }
        },
        "b5e54c330c154d69821cf2db872eb6fe": {
          "model_module": "@jupyter-widgets/base",
          "model_name": "LayoutModel",
          "model_module_version": "1.2.0",
          "state": {
            "_model_module": "@jupyter-widgets/base",
            "_model_module_version": "1.2.0",
            "_model_name": "LayoutModel",
            "_view_count": null,
            "_view_module": "@jupyter-widgets/base",
            "_view_module_version": "1.2.0",
            "_view_name": "LayoutView",
            "align_content": null,
            "align_items": null,
            "align_self": null,
            "border": null,
            "bottom": null,
            "display": null,
            "flex": null,
            "flex_flow": null,
            "grid_area": null,
            "grid_auto_columns": null,
            "grid_auto_flow": null,
            "grid_auto_rows": null,
            "grid_column": null,
            "grid_gap": null,
            "grid_row": null,
            "grid_template_areas": null,
            "grid_template_columns": null,
            "grid_template_rows": null,
            "height": null,
            "justify_content": null,
            "justify_items": null,
            "left": null,
            "margin": null,
            "max_height": null,
            "max_width": null,
            "min_height": null,
            "min_width": null,
            "object_fit": null,
            "object_position": null,
            "order": null,
            "overflow": null,
            "overflow_x": null,
            "overflow_y": null,
            "padding": null,
            "right": null,
            "top": null,
            "visibility": null,
            "width": null
          }
        },
        "c64277b3bf3a420687f4cbdb67aa08c4": {
          "model_module": "@jupyter-widgets/controls",
          "model_name": "DescriptionStyleModel",
          "model_module_version": "1.5.0",
          "state": {
            "_model_module": "@jupyter-widgets/controls",
            "_model_module_version": "1.5.0",
            "_model_name": "DescriptionStyleModel",
            "_view_count": null,
            "_view_module": "@jupyter-widgets/base",
            "_view_module_version": "1.2.0",
            "_view_name": "StyleView",
            "description_width": ""
          }
        },
        "7c4ac40ad50c444b8c290e93b2016d7f": {
          "model_module": "@jupyter-widgets/controls",
          "model_name": "HBoxModel",
          "model_module_version": "1.5.0",
          "state": {
            "_dom_classes": [],
            "_model_module": "@jupyter-widgets/controls",
            "_model_module_version": "1.5.0",
            "_model_name": "HBoxModel",
            "_view_count": null,
            "_view_module": "@jupyter-widgets/controls",
            "_view_module_version": "1.5.0",
            "_view_name": "HBoxView",
            "box_style": "",
            "children": [
              "IPY_MODEL_97710e3b4a064768b3050df44e7ca6ab",
              "IPY_MODEL_8d70b962e8a54b2f883946611f2ea824",
              "IPY_MODEL_2c7d1bd5f90547a78a6c780500c7e1ff"
            ],
            "layout": "IPY_MODEL_e60886cf127c45d1834d7b3ccac9124c"
          }
        },
        "97710e3b4a064768b3050df44e7ca6ab": {
          "model_module": "@jupyter-widgets/controls",
          "model_name": "HTMLModel",
          "model_module_version": "1.5.0",
          "state": {
            "_dom_classes": [],
            "_model_module": "@jupyter-widgets/controls",
            "_model_module_version": "1.5.0",
            "_model_name": "HTMLModel",
            "_view_count": null,
            "_view_module": "@jupyter-widgets/controls",
            "_view_module_version": "1.5.0",
            "_view_name": "HTMLView",
            "description": "",
            "description_tooltip": null,
            "layout": "IPY_MODEL_6f4aae1ae4cd401f9877675360809f3b",
            "placeholder": "​",
            "style": "IPY_MODEL_fa385209e5c744dfbedf353de9d38dab",
            "value": "Downloading: 100%"
          }
        },
        "8d70b962e8a54b2f883946611f2ea824": {
          "model_module": "@jupyter-widgets/controls",
          "model_name": "FloatProgressModel",
          "model_module_version": "1.5.0",
          "state": {
            "_dom_classes": [],
            "_model_module": "@jupyter-widgets/controls",
            "_model_module_version": "1.5.0",
            "_model_name": "FloatProgressModel",
            "_view_count": null,
            "_view_module": "@jupyter-widgets/controls",
            "_view_module_version": "1.5.0",
            "_view_name": "ProgressView",
            "bar_style": "success",
            "description": "",
            "description_tooltip": null,
            "layout": "IPY_MODEL_ec03c0ebccbf4e139bd461193a034c7d",
            "max": 456318,
            "min": 0,
            "orientation": "horizontal",
            "style": "IPY_MODEL_e695c0b2d76046c8b0d3bdbc85bb7d1e",
            "value": 456318
          }
        },
        "2c7d1bd5f90547a78a6c780500c7e1ff": {
          "model_module": "@jupyter-widgets/controls",
          "model_name": "HTMLModel",
          "model_module_version": "1.5.0",
          "state": {
            "_dom_classes": [],
            "_model_module": "@jupyter-widgets/controls",
            "_model_module_version": "1.5.0",
            "_model_name": "HTMLModel",
            "_view_count": null,
            "_view_module": "@jupyter-widgets/controls",
            "_view_module_version": "1.5.0",
            "_view_name": "HTMLView",
            "description": "",
            "description_tooltip": null,
            "layout": "IPY_MODEL_8aa859c71afc44ee961a1d33bffe1c60",
            "placeholder": "​",
            "style": "IPY_MODEL_dfa5c7607b3c4f20aadc3cf0bb619362",
            "value": " 446k/446k [00:00&lt;00:00, 559kB/s]"
          }
        },
        "e60886cf127c45d1834d7b3ccac9124c": {
          "model_module": "@jupyter-widgets/base",
          "model_name": "LayoutModel",
          "model_module_version": "1.2.0",
          "state": {
            "_model_module": "@jupyter-widgets/base",
            "_model_module_version": "1.2.0",
            "_model_name": "LayoutModel",
            "_view_count": null,
            "_view_module": "@jupyter-widgets/base",
            "_view_module_version": "1.2.0",
            "_view_name": "LayoutView",
            "align_content": null,
            "align_items": null,
            "align_self": null,
            "border": null,
            "bottom": null,
            "display": null,
            "flex": null,
            "flex_flow": null,
            "grid_area": null,
            "grid_auto_columns": null,
            "grid_auto_flow": null,
            "grid_auto_rows": null,
            "grid_column": null,
            "grid_gap": null,
            "grid_row": null,
            "grid_template_areas": null,
            "grid_template_columns": null,
            "grid_template_rows": null,
            "height": null,
            "justify_content": null,
            "justify_items": null,
            "left": null,
            "margin": null,
            "max_height": null,
            "max_width": null,
            "min_height": null,
            "min_width": null,
            "object_fit": null,
            "object_position": null,
            "order": null,
            "overflow": null,
            "overflow_x": null,
            "overflow_y": null,
            "padding": null,
            "right": null,
            "top": null,
            "visibility": null,
            "width": null
          }
        },
        "6f4aae1ae4cd401f9877675360809f3b": {
          "model_module": "@jupyter-widgets/base",
          "model_name": "LayoutModel",
          "model_module_version": "1.2.0",
          "state": {
            "_model_module": "@jupyter-widgets/base",
            "_model_module_version": "1.2.0",
            "_model_name": "LayoutModel",
            "_view_count": null,
            "_view_module": "@jupyter-widgets/base",
            "_view_module_version": "1.2.0",
            "_view_name": "LayoutView",
            "align_content": null,
            "align_items": null,
            "align_self": null,
            "border": null,
            "bottom": null,
            "display": null,
            "flex": null,
            "flex_flow": null,
            "grid_area": null,
            "grid_auto_columns": null,
            "grid_auto_flow": null,
            "grid_auto_rows": null,
            "grid_column": null,
            "grid_gap": null,
            "grid_row": null,
            "grid_template_areas": null,
            "grid_template_columns": null,
            "grid_template_rows": null,
            "height": null,
            "justify_content": null,
            "justify_items": null,
            "left": null,
            "margin": null,
            "max_height": null,
            "max_width": null,
            "min_height": null,
            "min_width": null,
            "object_fit": null,
            "object_position": null,
            "order": null,
            "overflow": null,
            "overflow_x": null,
            "overflow_y": null,
            "padding": null,
            "right": null,
            "top": null,
            "visibility": null,
            "width": null
          }
        },
        "fa385209e5c744dfbedf353de9d38dab": {
          "model_module": "@jupyter-widgets/controls",
          "model_name": "DescriptionStyleModel",
          "model_module_version": "1.5.0",
          "state": {
            "_model_module": "@jupyter-widgets/controls",
            "_model_module_version": "1.5.0",
            "_model_name": "DescriptionStyleModel",
            "_view_count": null,
            "_view_module": "@jupyter-widgets/base",
            "_view_module_version": "1.2.0",
            "_view_name": "StyleView",
            "description_width": ""
          }
        },
        "ec03c0ebccbf4e139bd461193a034c7d": {
          "model_module": "@jupyter-widgets/base",
          "model_name": "LayoutModel",
          "model_module_version": "1.2.0",
          "state": {
            "_model_module": "@jupyter-widgets/base",
            "_model_module_version": "1.2.0",
            "_model_name": "LayoutModel",
            "_view_count": null,
            "_view_module": "@jupyter-widgets/base",
            "_view_module_version": "1.2.0",
            "_view_name": "LayoutView",
            "align_content": null,
            "align_items": null,
            "align_self": null,
            "border": null,
            "bottom": null,
            "display": null,
            "flex": null,
            "flex_flow": null,
            "grid_area": null,
            "grid_auto_columns": null,
            "grid_auto_flow": null,
            "grid_auto_rows": null,
            "grid_column": null,
            "grid_gap": null,
            "grid_row": null,
            "grid_template_areas": null,
            "grid_template_columns": null,
            "grid_template_rows": null,
            "height": null,
            "justify_content": null,
            "justify_items": null,
            "left": null,
            "margin": null,
            "max_height": null,
            "max_width": null,
            "min_height": null,
            "min_width": null,
            "object_fit": null,
            "object_position": null,
            "order": null,
            "overflow": null,
            "overflow_x": null,
            "overflow_y": null,
            "padding": null,
            "right": null,
            "top": null,
            "visibility": null,
            "width": null
          }
        },
        "e695c0b2d76046c8b0d3bdbc85bb7d1e": {
          "model_module": "@jupyter-widgets/controls",
          "model_name": "ProgressStyleModel",
          "model_module_version": "1.5.0",
          "state": {
            "_model_module": "@jupyter-widgets/controls",
            "_model_module_version": "1.5.0",
            "_model_name": "ProgressStyleModel",
            "_view_count": null,
            "_view_module": "@jupyter-widgets/base",
            "_view_module_version": "1.2.0",
            "_view_name": "StyleView",
            "bar_color": null,
            "description_width": ""
          }
        },
        "8aa859c71afc44ee961a1d33bffe1c60": {
          "model_module": "@jupyter-widgets/base",
          "model_name": "LayoutModel",
          "model_module_version": "1.2.0",
          "state": {
            "_model_module": "@jupyter-widgets/base",
            "_model_module_version": "1.2.0",
            "_model_name": "LayoutModel",
            "_view_count": null,
            "_view_module": "@jupyter-widgets/base",
            "_view_module_version": "1.2.0",
            "_view_name": "LayoutView",
            "align_content": null,
            "align_items": null,
            "align_self": null,
            "border": null,
            "bottom": null,
            "display": null,
            "flex": null,
            "flex_flow": null,
            "grid_area": null,
            "grid_auto_columns": null,
            "grid_auto_flow": null,
            "grid_auto_rows": null,
            "grid_column": null,
            "grid_gap": null,
            "grid_row": null,
            "grid_template_areas": null,
            "grid_template_columns": null,
            "grid_template_rows": null,
            "height": null,
            "justify_content": null,
            "justify_items": null,
            "left": null,
            "margin": null,
            "max_height": null,
            "max_width": null,
            "min_height": null,
            "min_width": null,
            "object_fit": null,
            "object_position": null,
            "order": null,
            "overflow": null,
            "overflow_x": null,
            "overflow_y": null,
            "padding": null,
            "right": null,
            "top": null,
            "visibility": null,
            "width": null
          }
        },
        "dfa5c7607b3c4f20aadc3cf0bb619362": {
          "model_module": "@jupyter-widgets/controls",
          "model_name": "DescriptionStyleModel",
          "model_module_version": "1.5.0",
          "state": {
            "_model_module": "@jupyter-widgets/controls",
            "_model_module_version": "1.5.0",
            "_model_name": "DescriptionStyleModel",
            "_view_count": null,
            "_view_module": "@jupyter-widgets/base",
            "_view_module_version": "1.2.0",
            "_view_name": "StyleView",
            "description_width": ""
          }
        }
      }
    }
  },
  "cells": [
    {
      "cell_type": "markdown",
      "metadata": {
        "id": "view-in-github",
        "colab_type": "text"
      },
      "source": [
        "<a href=\"https://colab.research.google.com/github/Anshuman-37/Newspaper_Summarizer/blob/main/News_Paper_Summarizer.ipynb\" target=\"_parent\"><img src=\"https://colab.research.google.com/assets/colab-badge.svg\" alt=\"Open In Colab\"/></a>"
      ]
    },
    {
      "cell_type": "markdown",
      "source": [
        "### Header File"
      ],
      "metadata": {
        "id": "FoYLDXJsZEfY"
      }
    },
    {
      "cell_type": "code",
      "execution_count": null,
      "metadata": {
        "id": "pST75VbI_3fC"
      },
      "outputs": [],
      "source": [
        "!pip install pygooglenews --upgrade\n",
        "!pip install newspaper3k"
      ]
    },
    {
      "cell_type": "markdown",
      "source": [
        "### Container Class"
      ],
      "metadata": {
        "id": "BJniXSKCZH6M"
      }
    },
    {
      "cell_type": "code",
      "source": [
        "### container for the news\n",
        "\n",
        "class News_article:\n",
        "    # Category : The type of news\n",
        "    # Title : The title of the news\n",
        "    # News : The news\n",
        "    # Hyper_link : to Store the link\n",
        "    # Summay : Stores the summary of the news\n",
        "    def __init__(self, category):\n",
        "        '''Update category of the news'''\n",
        "        self.category = category\n",
        "    def set_title(self,title,link):\n",
        "        ''' Update the news and the Category '''\n",
        "        self.title = title\n",
        "        self.hyper_link = link\n",
        "    def get_link(self):\n",
        "        ''' Return the link '''\n",
        "        return self.hyper_link\n",
        "    def set_news(self,news):\n",
        "        ''' Updates the news for the link '''\n",
        "        self.news = news\n",
        "    def get_news(self):\n",
        "        ''' Return the news for specific article '''\n",
        "        return self.news \n",
        "    def set_summary(self,summary):\n",
        "        ''' Updates the summary for the news '''\n",
        "        self.summary = summary\n",
        "    def get_category(self):\n",
        "        ''' Returns the category of the news '''\n",
        "        return self.category\n",
        "    def get_summary(self):\n",
        "        ''' Returns the Title of the news and its summary '''\n",
        "        return self.title , self.summary\n",
        "    def get_category(self):\n",
        "        ''' Return the category '''\n",
        "        return self.category\n",
        "    def get_n(self):\n",
        "        '''Return the category, title and the link of the news'''\n",
        "        return  self.category,self.title,self.hyper_link\n",
        "    def get_n1(self):\n",
        "        '''Return the category, title, the link, and news'''\n",
        "        return  self.category,self.title,self.hyper_link,self.news\n",
        "    "
      ],
      "metadata": {
        "id": "1LZk4jn_ZKuc"
      },
      "execution_count": 2,
      "outputs": []
    },
    {
      "cell_type": "markdown",
      "source": [
        "### News Acquisition "
      ],
      "metadata": {
        "id": "WVZLAQrxcXrh"
      }
    },
    {
      "cell_type": "code",
      "source": [
        "from pygooglenews import *\n",
        "# Google news object\n",
        "gn = GoogleNews(country='GB')\n",
        "# Topics array\n",
        "topics = ['Sports' , 'Technology', 'Business', 'Science']\n",
        "news_lst = []\n",
        "# Traverse in the topics array and store them for the objects \n",
        "for i in topics:\n",
        "    news_article = News_article(i)\n",
        "    news_lst.append(news_article)\n",
        "\n",
        "# # printing the category of the news for the objects\n",
        "for i in news_lst:\n",
        "    print(i.get_category())\n"
      ],
      "metadata": {
        "id": "86tk_eT1BL8M",
        "colab": {
          "base_uri": "https://localhost:8080/"
        },
        "outputId": "b1e524e0-861f-41ee-da3b-021b13038527"
      },
      "execution_count": 3,
      "outputs": [
        {
          "output_type": "stream",
          "name": "stdout",
          "text": [
            "Sports\n",
            "Technology\n",
            "Business\n",
            "Science\n"
          ]
        }
      ]
    },
    {
      "cell_type": "code",
      "source": [
        "## Traverse in the news article\n",
        "for article in news_lst:\n",
        "    category = article.get_category()\n",
        "    news = gn.topic_headlines(category)\n",
        "    z=0\n",
        "    ## Getting the title of the news\n",
        "    for n in news['entries']: \n",
        "        if z>0 : break;\n",
        "        title = n['title']\n",
        "        #print(n['title']); \n",
        "        z+=1; k=0;\n",
        "        # Getting the link for the specific news\n",
        "        for l in n['links']:\n",
        "            if k>0 : break;\n",
        "            link = l['href']\n",
        "            #print(l['href']); \n",
        "            k+=1\n",
        "    ## popluate the objects with title and link\n",
        "    article.set_title(title,link)\n"
      ],
      "metadata": {
        "id": "SxF2gRiPEQgk"
      },
      "execution_count": 4,
      "outputs": []
    },
    {
      "cell_type": "code",
      "source": [
        "# Printing to make sure everything is running smooth\n",
        "for article in news_lst:\n",
        "    c , t , l = article.get_n()\n",
        "    print('Category : ',c,'\\n\\t Title : ', t,'\\n\\t Link :',l) "
      ],
      "metadata": {
        "colab": {
          "base_uri": "https://localhost:8080/"
        },
        "id": "0j1czawlHVgy",
        "outputId": "248fc742-1bf8-41c8-d060-c1f19a9cd188"
      },
      "execution_count": 5,
      "outputs": [
        {
          "output_type": "stream",
          "name": "stdout",
          "text": [
            "Category :  Sports \n",
            "\t Title :  Chelsea FC XI vs Real Madrid: Confirmed team news, predicted lineup and injury latest for Champions League tie - Evening Standard \n",
            "\t Link : https://news.google.com/__i/rss/rd/articles/CBMiogFodHRwczovL3d3dy5zdGFuZGFyZC5jby51ay9zcG9ydC9mb290YmFsbC9jaGVsc2VhLWZjLXhpLXZzLXJlYWwtbWFkcmlkLWNvbmZpcm1lZC10ZWFtLW5ld3MtcHJlZGljdGVkLWxpbmV1cC1pbmp1cnktbGF0ZXN0LWNoYW1waW9ucy1sZWFndWUtMjAyMi10b2RheS1iOTkzNjU1Lmh0bWzSAQA?oc=5\n",
            "Category :  Technology \n",
            "\t Title :  Changing your Sky TV box mode could save you a fortune - quick guide on how to change - Express \n",
            "\t Link : https://news.google.com/__i/rss/rd/articles/CBMicGh0dHBzOi8vd3d3LmV4cHJlc3MuY28udWsvbGlmZS1zdHlsZS9zY2llbmNlLXRlY2hub2xvZ3kvMTU5NDY5OC9Ta3ktVFYtUS1ib3gtc2V0dGluZ3MtY2hhbmdlLUVjby1tb2RlLXNhdmUtbW9uZXnSAQA?oc=5\n",
            "Category :  Business \n",
            "\t Title :  UK jobless rate drops as Covid drives up long-term sickness; real public sector pay shrinks – business live - The Guardian \n",
            "\t Link : https://news.google.com/__i/rss/rd/articles/CBMihgFodHRwczovL3d3dy50aGVndWFyZGlhbi5jb20vYnVzaW5lc3MvbGl2ZS8yMDIyL2Fwci8xMi91ay1qb2JsZXNzLXJhdGUtd2FnZS1zcXVlZXplLWluYWN0aXZpdHktaW5mbGF0aW9uLXVzLXN0b2NrLW1hcmtldHMtYnVzaW5lc3MtbGl2ZdIBAA?oc=5\n",
            "Category :  Science \n",
            "\t Title :  Scientists shocked by unexpected and dramatic changes in Neptune’s temperature - The Independent \n",
            "\t Link : https://news.google.com/__i/rss/rd/articles/CBMiXmh0dHBzOi8vd3d3LmluZGVwZW5kZW50LmNvLnVrL3NwYWNlL25lcHR1bmUtdGVtcGVyYXR1cmUtdGVsZXNjb3BlLXNlYXNvbnMtcGxhbmV0LWIyMDU1MzU3Lmh0bWzSAWJodHRwczovL3d3dy5pbmRlcGVuZGVudC5jby51ay9zcGFjZS9uZXB0dW5lLXRlbXBlcmF0dXJlLXRlbGVzY29wZS1zZWFzb25zLXBsYW5ldC1iMjA1NTM1Ny5odG1sP2FtcA?oc=5\n"
          ]
        }
      ]
    },
    {
      "cell_type": "code",
      "source": [
        "import newspaper \n",
        "## Now getting the news for the specific link using Newspaper3k \n",
        "for article in news_lst:\n",
        "    url = article.get_link()\n",
        "    url_i = newspaper.Article(url=\"%s\"%(url), language='en')\n",
        "    url_i.download()\n",
        "    url_i.parse()\n",
        "    text = url_i.text\n",
        "    article.set_news(text)\n",
        "    # Display scrapped data\n",
        "    #print(url_i.text,'\\n','---'*100)\n"
      ],
      "metadata": {
        "id": "zJGSHzzxHlQg"
      },
      "execution_count": 6,
      "outputs": []
    },
    {
      "cell_type": "code",
      "source": [
        "## Printing to make sure everything runs fine\n",
        "for article in news_lst:\n",
        "    c , t , l , n = article.get_n1()\n",
        "    print('Category : ',c,'\\n\\t Title : ', t,'\\n\\t Link :',l)\n",
        "    print('\\n\\t NEWS : ',n)\n",
        "    print('\\n','---'*50) "
      ],
      "metadata": {
        "id": "cd5YzUM2L5ar",
        "colab": {
          "base_uri": "https://localhost:8080/"
        },
        "outputId": "5d192251-ea87-42f3-bd0d-0c083b4a9925"
      },
      "execution_count": 7,
      "outputs": [
        {
          "output_type": "stream",
          "name": "stdout",
          "text": [
            "Category :  Sports \n",
            "\t Title :  Chelsea FC XI vs Real Madrid: Confirmed team news, predicted lineup and injury latest for Champions League tie - Evening Standard \n",
            "\t Link : https://news.google.com/__i/rss/rd/articles/CBMiogFodHRwczovL3d3dy5zdGFuZGFyZC5jby51ay9zcG9ydC9mb290YmFsbC9jaGVsc2VhLWZjLXhpLXZzLXJlYWwtbWFkcmlkLWNvbmZpcm1lZC10ZWFtLW5ld3MtcHJlZGljdGVkLWxpbmV1cC1pbmp1cnktbGF0ZXN0LWNoYW1waW9ucy1sZWFndWUtMjAyMi10b2RheS1iOTkzNjU1Lmh0bWzSAQA?oc=5\n",
            "\n",
            "\t NEWS :  R omelu Lukaku will be absent tonight as Chelsea plot a comeback in their Champions League quarter-final tie against Real Madrid.\n",
            "\n",
            "The Belgian striker was sidelined for Saturday’s 6-0 thrashing of Southampton in the Premier League due to an Achilles issue and has not travelled to Spain for this evening’s second-leg clash at the Bernabeu.\n",
            "\n",
            "However, Blues captain Cesar Azpilicueta is available again after he missed the St Mary’s thumping due to Covid-19.\n",
            "\n",
            "“Romelu will not travel with us due to his pain in the Achilles,” said Chelsea manager Thomas Tuchel on Monday. “Azpi is in the group. He has tested several times negative.”\n",
            "\n",
            "Chelsea travel to Madrid looking to overturn a 3-1 first-leg deficit following defeat at Stamford Bridge last week.\n",
            "\n",
            "Lukaku missed several good chances when he came off the bench in the first leg and it is unlikely he would have started in Madrid, but his absence is still a blow for Chelsea.\n",
            "\n",
            "Timo Werner scored twice in the rout of Southampton but Tuchel warned the meeting with Real will be a different challenge, suggesting Christian Pulisic will come back into the side.\n",
            "\n",
            "Callum Hudson-Odoi remains sideined with an Achilles problem, while Ross Barkley has been ruled out due to illness.\n",
            "\n",
            "Predicted Chelsea XI (3-4-3): Mendy; Christensen, Silva, Rudiger; James, Kante, Kovacic, Alonso; Mount, Havertz, Pulisic.\n",
            "\n",
            " ------------------------------------------------------------------------------------------------------------------------------------------------------\n",
            "Category :  Technology \n",
            "\t Title :  Changing your Sky TV box mode could save you a fortune - quick guide on how to change - Express \n",
            "\t Link : https://news.google.com/__i/rss/rd/articles/CBMicGh0dHBzOi8vd3d3LmV4cHJlc3MuY28udWsvbGlmZS1zdHlsZS9zY2llbmNlLXRlY2hub2xvZ3kvMTU5NDY5OC9Ta3ktVFYtUS1ib3gtc2V0dGluZ3MtY2hhbmdlLUVjby1tb2RlLXNhdmUtbW9uZXnSAQA?oc=5\n",
            "\n",
            "\t NEWS :  How to turn Eco mode on your Sky Q box\n",
            "\n",
            "FREE for the biggest new releases, reviews and tech hacks SUBSCRIBE Invalid email Sign up forfor the biggest new releases, reviews and tech hacks We use your sign-up to provide content in ways you've consented to and to improve our understanding of you. This may include adverts from us and 3rd parties based on our understanding. You can unsubscribe at any time. More info\n",
            "\n",
            "At the start of this month, millions of UK homes were hit by a record 54 percent hike in energy prices which could see some bills hit almost £2,000 per year. With things rocketing, now is a very good time to make sure you are not wasting any energy and there's one very simple Sky Q trick that will definitely help to save a few precious pennies.\n",
            "\n",
            "Sky Q + Superfast Broadband drops to 'Best Ever Price' Sky Q Lite Deal Sky has launched an unmissable bargain offering its award-winning Sky Q box bundled with speedy broadband at a very low price. This bundle gives access to over 200 channels, the Sky Q box to pause and rewind live telly and stream Netflix and Prime Video, all powered by average broadband speeds of some 36Mbps. Of course, you can add paid-for channels, Sky Sports, Sky Cinema and Netflix at checkout too Contract length: 18-months | Set-up cost: £29.95 £31 View Deal Brought to you by\n",
            "\n",
            "You might not be aware but buried in the settings of this popular set-top box is a special \"Eco\" mode. As the name suggests, this basically puts the box into a digital slumber during the night and helps cut down on the amount of energy it munches through whilst you are tucked up in bed. Sky says that once activated, Eco mode will automatically kick in between 2.30am and 5:45am - that's the time when the majority of customers aren't using their devices. To check if your box is set to save you some money simply head to Settings > Setup and select Preferences. Here you'll find three different standby modes including the option to switch on Eco. Now, before you get worried that your Sky box won't store your overnight boxset binges it's worth noting that Eco mode will only become active if the box hasn't been set to record anything. Once a show has been primed between 2.30am and 5:45am the Sky Q device will stay active - if nothing is set to record then it will go into hibernation for a few hours. READ MORE: Best Sky TV Deals: Get Discounts On Sky Glass And Sky Q Packages\n",
            "\n",
            "Sky Q explain simple way to navigate the home screen\n",
            "\n",
            "Sky Q features an Eco Mode\n",
            "\n",
            "If you should wake up early and fancy tuning into Sky then you can wake the box although Sky warns that it can take a few minutes before everything becomes fully operational. Clearly, Eco mode isn't going to end your electricity bill shock but small changes like this can shave a few pence off your monthly outgoings and it's well worth switching on if you don't use your Sky Q device overnight. Along with that hidden trick, there's more good news for Sky users with the firm finally giving customers the broadband speed boost they deserve thanks to the launch of its new Gigafast plan. This service, which is available from today, is fully capable of beaming the web into living rooms at speeds in excess of 890Mbps. At that rapid rate, it would take just 45 seconds to download a full HD Hollywood blockbuster which is around 13 times faster than the current UK average. This upgrade means Sky is now in the same speed league as two of its biggest rivals with BT and Virgin Media already offering hyperfast downloads to millions of users across the UK.\n",
            "\n",
            "Trending\n",
            "\n",
            " ------------------------------------------------------------------------------------------------------------------------------------------------------\n",
            "Category :  Business \n",
            "\t Title :  UK jobless rate drops as Covid drives up long-term sickness; real public sector pay shrinks – business live - The Guardian \n",
            "\t Link : https://news.google.com/__i/rss/rd/articles/CBMihgFodHRwczovL3d3dy50aGVndWFyZGlhbi5jb20vYnVzaW5lc3MvbGl2ZS8yMDIyL2Fwci8xMi91ay1qb2JsZXNzLXJhdGUtd2FnZS1zcXVlZXplLWluYWN0aXZpdHktaW5mbGF0aW9uLXVzLXN0b2NrLW1hcmtldHMtYnVzaW5lc3MtbGl2ZdIBAA?oc=5\n",
            "\n",
            "\t NEWS :  What term do you want to search? Search with google\n",
            "\n",
            " ------------------------------------------------------------------------------------------------------------------------------------------------------\n",
            "Category :  Science \n",
            "\t Title :  Scientists shocked by unexpected and dramatic changes in Neptune’s temperature - The Independent \n",
            "\t Link : https://news.google.com/__i/rss/rd/articles/CBMiXmh0dHBzOi8vd3d3LmluZGVwZW5kZW50LmNvLnVrL3NwYWNlL25lcHR1bmUtdGVtcGVyYXR1cmUtdGVsZXNjb3BlLXNlYXNvbnMtcGxhbmV0LWIyMDU1MzU3Lmh0bWzSAWJodHRwczovL3d3dy5pbmRlcGVuZGVudC5jby51ay9zcGFjZS9uZXB0dW5lLXRlbXBlcmF0dXJlLXRlbGVzY29wZS1zZWFzb25zLXBsYW5ldC1iMjA1NTM1Ny5odG1sP2FtcA?oc=5\n",
            "\n",
            "\t NEWS :  Scientists have been surprised by unexpected changes in the temperature of Neptune.\n",
            "\n",
            "Researchers found that the planet’s temperature dropped in a way they did not forecast – and then dramatically warmed at the south pole.\n",
            "\n",
            "The researchers made the discovery after tracking the planet’s temperature changes over 17 years.\n",
            "\n",
            "“This change was unexpected,” said Michael Roman, lead author on the new study, in a statement. “Since we have been observing Neptune during its early southern summer, we expected temperatures to be slowly growing warmer, not colder.”\n",
            "\n",
            "The variations were so shocking that researchers are not yet able to explain them. They coulddbe the result of chemistry on the planet, weather patterns, or changes in the Sun – and researchers hope to answer that question and more with future observations.\n",
            "\n",
            "“I think Neptune is itself very intriguing to many of us because we still know so little about it,” said Dr Roman. “This all points towards a more complicated picture of Neptune’s atmosphere and how it changes with time.”\n",
            "\n",
            "Neptune goes through seasons, just like Earth does, as it moves around the Sun. But a Neptune season is much longer, at about 40 years, since a whole Neptune year takes 165 Earth years.\n",
            "\n",
            "That meant that scientists were keen to understand how those long seasonal changes might happen, especially in the wake of the summer solstice on the south of Neptune. To track them, scientists looked at almost 100 thermal-infrared images of the planet.\n",
            "\n",
            "They found that even though summer had arrived, most of the planet had actually cooled. But then the south pole started warming again.\n",
            "\n",
            "Between 2003 and 2018, the average temperature across the planet dropped by 8C. Then, at the south pole, it rose 11C between 2018 and 2020.\n",
            "\n",
            "Neither of those rapid changes were expected by scientists. The period covered is less than one season, and so scientists had expected far more gradual variations.\n",
            "\n",
            "The research is described in a new paper, ‘Sub-Seasonal Variation in Neptune’s Mid-Infrared Emission’, published in The Planetary Science Journal today.\n",
            "\n",
            " ------------------------------------------------------------------------------------------------------------------------------------------------------\n"
          ]
        }
      ]
    },
    {
      "cell_type": "code",
      "source": [
        "### Now to create a summary of the text using transformers\n",
        "!pip install transformers\n",
        "!pip install bert-extractive-summarizer\n",
        "#pip install spacy==2.0.12"
      ],
      "metadata": {
        "id": "9SvLjPHMNxP_"
      },
      "execution_count": null,
      "outputs": []
    },
    {
      "cell_type": "markdown",
      "source": [
        "### Model Bert"
      ],
      "metadata": {
        "id": "u0QbpLpsWgaI"
      }
    },
    {
      "cell_type": "code",
      "source": [
        "from transformers import pipeline\n",
        "from tokenizers import Tokenizer\n",
        "from summarizer import Summarizer,TransformerSummarizer\n",
        "\n",
        "for article in news_lst:\n",
        "    n = article.get_news() \n",
        "    bert_model = Summarizer()\n",
        "    bert_summary = ''.join(bert_model(n, min_length=60))\n",
        "    article.set_summary(str(bert_summary))"
      ],
      "metadata": {
        "id": "wwNjIw02OUZP"
      },
      "execution_count": null,
      "outputs": []
    },
    {
      "cell_type": "code",
      "source": [
        "for i in news_lst:\n",
        "    title , summary = i.get_summary()\n",
        "    print('\\n Title : ', title)\n",
        "    print('\\n\\t Summary : ', summary)\n",
        "    print('--'*100)"
      ],
      "metadata": {
        "colab": {
          "base_uri": "https://localhost:8080/"
        },
        "id": "Z_BC0dJFTiWx",
        "outputId": "e5d30a71-e35b-45ee-fd51-11994cacfcb9"
      },
      "execution_count": 10,
      "outputs": [
        {
          "output_type": "stream",
          "name": "stdout",
          "text": [
            "\n",
            " Title :  Chelsea FC XI vs Real Madrid: Confirmed team news, predicted lineup and injury latest for Champions League tie - Evening Standard\n",
            "\n",
            "\t Summary :  R omelu Lukaku will be absent tonight as Chelsea plot a comeback in their Champions League quarter-final tie against Real Madrid. The Belgian striker was sidelined for Saturday’s 6-0 thrashing of Southampton in the Premier League due to an Achilles issue and has not travelled to Spain for this evening’s second-leg clash at the Bernabeu.\n",
            "--------------------------------------------------------------------------------------------------------------------------------------------------------------------------------------------------------\n",
            "\n",
            " Title :  Changing your Sky TV box mode could save you a fortune - quick guide on how to change - Express\n",
            "\n",
            "\t Summary :  How to turn Eco mode on your Sky Q box\n",
            "\n",
            "FREE for the biggest new releases, reviews and tech hacks SUBSCRIBE Invalid email Sign up forfor the biggest new releases, reviews and tech hacks We use your sign-up to provide content in ways you've consented to and to improve our understanding of you. Of course, you can add paid-for channels, Sky Sports, Sky Cinema and Netflix at checkout too Contract length: 18-months | Set-up cost: £29.95 £31 View Deal Brought to you by\n",
            "\n",
            "You might not be aware but buried in the settings of this popular set-top box is a special \"Eco\" mode. To check if your box is set to save you some money simply head to Settings > Setup and select Preferences. Once a show has been primed between 2.30am and 5:45am the Sky Q device will stay active - if nothing is set to record then it will go into hibernation for a few hours.\n",
            "--------------------------------------------------------------------------------------------------------------------------------------------------------------------------------------------------------\n",
            "\n",
            " Title :  UK jobless rate drops as Covid drives up long-term sickness; real public sector pay shrinks – business live - The Guardian\n",
            "\n",
            "\t Summary :  \n",
            "--------------------------------------------------------------------------------------------------------------------------------------------------------------------------------------------------------\n",
            "\n",
            " Title :  Scientists shocked by unexpected and dramatic changes in Neptune’s temperature - The Independent\n",
            "\n",
            "\t Summary :  Scientists have been surprised by unexpected changes in the temperature of Neptune. They coulddbe the result of chemistry on the planet, weather patterns, or changes in the Sun – and researchers hope to answer that question and more with future observations. But a Neptune season is much longer, at about 40 years, since a whole Neptune year takes 165 Earth years. The period covered is less than one season, and so scientists had expected far more gradual variations.\n",
            "--------------------------------------------------------------------------------------------------------------------------------------------------------------------------------------------------------\n"
          ]
        }
      ]
    },
    {
      "cell_type": "markdown",
      "source": [
        "## GPT Model"
      ],
      "metadata": {
        "id": "dzuGRmJIWlVA"
      }
    },
    {
      "cell_type": "code",
      "source": [
        "for article in news_lst:\n",
        "    n = article.get_news() \n",
        "    GPT2_model = TransformerSummarizer(transformer_type=\"GPT2\",transformer_model_key=\"gpt2-medium\")\n",
        "    full = ''.join(GPT2_model(n, min_length=60))\n",
        "    article.set_summary(str(full)) \n"
      ],
      "metadata": {
        "id": "B-pIZwOxOXIY",
        "colab": {
          "base_uri": "https://localhost:8080/",
          "height": 145,
          "referenced_widgets": [
            "69f6ac4eb98342af855c29be29ae188e",
            "53c10d2731bc40779d401a301a870b4c",
            "7726cc31a05c4908a2448071a8f68b70",
            "b2705fc270744a71a57138f223c26189",
            "d0e1153cffd7482996577c1dc85af6e3",
            "052462cec06a4fee899abb70ee82a0a4",
            "db1dc990e3c9483a96f1bc8a737c5577",
            "94d0c8b3f00f47a2bee0dddced82a97d",
            "0e8cb8d0d62945a88b6737872461be00",
            "0809790a7c744fa9b1196dac8d9f87b8",
            "bfd34ec6c92248f58e8fb47364d8ed25",
            "1f9c514e9b9842de9a2d0f73f9d6be4f",
            "db53036c0bcb4dca806cfaa5102fcb08",
            "9ca386f3cbef41f5b1c9755cbb5efe73",
            "6605d937489d45c99cc4d44ffc808c70",
            "4c9cd660e7304addabfbc79d8a41bad3",
            "46f1c7f32d33430bb6bdbf754ffe2c11",
            "3ad66fd953af49f39c350c4d2e5efe3a",
            "c3e8b728b8c64c358128ce0d3c15c557",
            "08a522764a6d476b91df8389f7fd7fcf",
            "0ee8e5a5ec6a461dbb25a78255374f7c",
            "8bc30b055d6345ab852e7bcac98aec47",
            "9c60a9af08334996844ddc6b7aae24ac",
            "bcf4e6d3db594231ba858cda06a812da",
            "cc8e07532e0240f389fda9c63863751a",
            "de36bd315a35448f9cca8cee81561350",
            "d832d5f40e034ee8a20fd0e7d2898fba",
            "9171b496267a447299c9bc9f43c91586",
            "e4dec435ebdc42ce8071cc2f57f82909",
            "124ca88c9a6d4a8187d711650ab6d052",
            "a78e88c3a34e4e01b4a118987f6c0758",
            "b5e54c330c154d69821cf2db872eb6fe",
            "c64277b3bf3a420687f4cbdb67aa08c4",
            "7c4ac40ad50c444b8c290e93b2016d7f",
            "97710e3b4a064768b3050df44e7ca6ab",
            "8d70b962e8a54b2f883946611f2ea824",
            "2c7d1bd5f90547a78a6c780500c7e1ff",
            "e60886cf127c45d1834d7b3ccac9124c",
            "6f4aae1ae4cd401f9877675360809f3b",
            "fa385209e5c744dfbedf353de9d38dab",
            "ec03c0ebccbf4e139bd461193a034c7d",
            "e695c0b2d76046c8b0d3bdbc85bb7d1e",
            "8aa859c71afc44ee961a1d33bffe1c60",
            "dfa5c7607b3c4f20aadc3cf0bb619362"
          ]
        },
        "outputId": "4b0ab4f2-5368-41cc-922b-c1d80221a96c"
      },
      "execution_count": 11,
      "outputs": [
        {
          "output_type": "display_data",
          "data": {
            "text/plain": [
              "Downloading:   0%|          | 0.00/718 [00:00<?, ?B/s]"
            ],
            "application/vnd.jupyter.widget-view+json": {
              "version_major": 2,
              "version_minor": 0,
              "model_id": "69f6ac4eb98342af855c29be29ae188e"
            }
          },
          "metadata": {}
        },
        {
          "output_type": "display_data",
          "data": {
            "text/plain": [
              "Downloading:   0%|          | 0.00/1.42G [00:00<?, ?B/s]"
            ],
            "application/vnd.jupyter.widget-view+json": {
              "version_major": 2,
              "version_minor": 0,
              "model_id": "1f9c514e9b9842de9a2d0f73f9d6be4f"
            }
          },
          "metadata": {}
        },
        {
          "output_type": "display_data",
          "data": {
            "text/plain": [
              "Downloading:   0%|          | 0.00/0.99M [00:00<?, ?B/s]"
            ],
            "application/vnd.jupyter.widget-view+json": {
              "version_major": 2,
              "version_minor": 0,
              "model_id": "9c60a9af08334996844ddc6b7aae24ac"
            }
          },
          "metadata": {}
        },
        {
          "output_type": "display_data",
          "data": {
            "text/plain": [
              "Downloading:   0%|          | 0.00/446k [00:00<?, ?B/s]"
            ],
            "application/vnd.jupyter.widget-view+json": {
              "version_major": 2,
              "version_minor": 0,
              "model_id": "7c4ac40ad50c444b8c290e93b2016d7f"
            }
          },
          "metadata": {}
        }
      ]
    },
    {
      "cell_type": "code",
      "source": [
        "for i in news_lst:\n",
        "    title , summary = i.get_summary()\n",
        "    print('\\n Title : ', title)\n",
        "    print('\\n\\t Summary : ', summary)\n",
        "    print('--'*100)"
      ],
      "metadata": {
        "colab": {
          "base_uri": "https://localhost:8080/"
        },
        "id": "TJw__NOLUnYn",
        "outputId": "082e5f78-a230-4f3f-aa8a-9787388cd75e"
      },
      "execution_count": 12,
      "outputs": [
        {
          "output_type": "stream",
          "name": "stdout",
          "text": [
            "\n",
            " Title :  Chelsea FC XI vs Real Madrid: Confirmed team news, predicted lineup and injury latest for Champions League tie - Evening Standard\n",
            "\n",
            "\t Summary :  R omelu Lukaku will be absent tonight as Chelsea plot a comeback in their Champions League quarter-final tie against Real Madrid. The Belgian striker was sidelined for Saturday’s 6-0 thrashing of Southampton in the Premier League due to an Achilles issue and has not travelled to Spain for this evening’s second-leg clash at the Bernabeu.\n",
            "--------------------------------------------------------------------------------------------------------------------------------------------------------------------------------------------------------\n",
            "\n",
            " Title :  Changing your Sky TV box mode could save you a fortune - quick guide on how to change - Express\n",
            "\n",
            "\t Summary :  How to turn Eco mode on your Sky Q box\n",
            "\n",
            "FREE for the biggest new releases, reviews and tech hacks SUBSCRIBE Invalid email Sign up forfor the biggest new releases, reviews and tech hacks We use your sign-up to provide content in ways you've consented to and to improve our understanding of you. To check if your box is set to save you some money simply head to Settings > Setup and select Preferences. Now, before you get worried that your Sky box won't store your overnight boxset binges it's worth noting that Eco mode will only become active if the box hasn't been set to record anything. This upgrade means Sky is now in the same speed league as two of its biggest rivals with BT and Virgin Media already offering hyperfast downloads to millions of users across the UK.\n",
            "--------------------------------------------------------------------------------------------------------------------------------------------------------------------------------------------------------\n",
            "\n",
            " Title :  UK jobless rate drops as Covid drives up long-term sickness; real public sector pay shrinks – business live - The Guardian\n",
            "\n",
            "\t Summary :  \n",
            "--------------------------------------------------------------------------------------------------------------------------------------------------------------------------------------------------------\n",
            "\n",
            " Title :  Scientists shocked by unexpected and dramatic changes in Neptune’s temperature - The Independent\n",
            "\n",
            "\t Summary :  Scientists have been surprised by unexpected changes in the temperature of Neptune. “This change was unexpected,” said Michael Roman, lead author on the new study, in a statement. “ That meant that scientists were keen to understand how those long seasonal changes might happen, especially in the wake of the summer solstice on the south of Neptune. The period covered is less than one season, and so scientists had expected far more gradual variations.\n",
            "--------------------------------------------------------------------------------------------------------------------------------------------------------------------------------------------------------\n"
          ]
        }
      ]
    },
    {
      "cell_type": "markdown",
      "source": [
        "### Front End of the Application"
      ],
      "metadata": {
        "id": "nl-zm8W8XqZo"
      }
    },
    {
      "cell_type": "code",
      "source": [
        "!pip install streamlit -q"
      ],
      "metadata": {
        "id": "rNAWPqJdXtCW"
      },
      "execution_count": null,
      "outputs": []
    },
    {
      "cell_type": "code",
      "source": [
        "%%writefile app.py\n",
        "\n",
        "import streamlit as st\n",
        "st.write(' # This shit is lit ')\n"
      ],
      "metadata": {
        "colab": {
          "base_uri": "https://localhost:8080/"
        },
        "id": "2mrUo4C4Xtj2",
        "outputId": "d2178228-96ae-4dbf-dfa7-4ae9c205abb8"
      },
      "execution_count": 14,
      "outputs": [
        {
          "output_type": "stream",
          "name": "stdout",
          "text": [
            "Writing app.py\n"
          ]
        }
      ]
    },
    {
      "cell_type": "code",
      "source": [
        "!streamlit run app.py & npx localtunnel --port 8501"
      ],
      "metadata": {
        "colab": {
          "base_uri": "https://localhost:8080/"
        },
        "id": "D4Uy0Lc1b-bd",
        "outputId": "7aefcdae-33fc-4cf3-f54a-e9957df6d52a"
      },
      "execution_count": 15,
      "outputs": [
        {
          "output_type": "stream",
          "name": "stdout",
          "text": [
            "2022-04-12 11:22:48.072 INFO    numexpr.utils: NumExpr defaulting to 4 threads.\n",
            "\u001b[0m\n",
            "\u001b[34m\u001b[1m  You can now view your Streamlit app in your browser.\u001b[0m\n",
            "\u001b[0m\n",
            "\u001b[34m  Network URL: \u001b[0m\u001b[1mhttp://172.28.0.2:8501\u001b[0m\n",
            "\u001b[34m  External URL: \u001b[0m\u001b[1mhttp://35.236.151.14:8501\u001b[0m\n",
            "\u001b[0m\n",
            "\u001b[K\u001b[?25hnpx: installed 22 in 2.592s\n",
            "your url is: https://horrible-bullfrog-69.loca.lt\n",
            "\u001b[34m  Stopping...\u001b[0m\n",
            "^C\n"
          ]
        }
      ]
    },
    {
      "cell_type": "code",
      "source": [
        ""
      ],
      "metadata": {
        "id": "4woUSUdicN6o"
      },
      "execution_count": 15,
      "outputs": []
    }
  ]
}