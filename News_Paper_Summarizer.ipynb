{
  "nbformat": 4,
  "nbformat_minor": 0,
  "metadata": {
    "colab": {
      "name": "News_Paper_Summarizer.ipynb",
      "provenance": [],
      "collapsed_sections": [],
      "machine_shape": "hm",
      "authorship_tag": "ABX9TyPoGH5GGOPRViW0mShmuZWH",
      "include_colab_link": true
    },
    "kernelspec": {
      "name": "python3",
      "display_name": "Python 3"
    },
    "language_info": {
      "name": "python"
    },
    "accelerator": "GPU"
  },
  "cells": [
    {
      "cell_type": "markdown",
      "metadata": {
        "id": "view-in-github",
        "colab_type": "text"
      },
      "source": [
        "<a href=\"https://colab.research.google.com/github/Anshuman-37/Newspaper_Summarizer/blob/main/News_Paper_Summarizer.ipynb\" target=\"_parent\"><img src=\"https://colab.research.google.com/assets/colab-badge.svg\" alt=\"Open In Colab\"/></a>"
      ]
    },
    {
      "cell_type": "code",
      "execution_count": null,
      "metadata": {
        "id": "pST75VbI_3fC"
      },
      "outputs": [],
      "source": [
        "!pip install pygooglenews --upgrade"
      ]
    },
    {
      "cell_type": "code",
      "source": [
        "from pygooglenews import *\n",
        "\n",
        "# Google news object\n",
        "gn = GoogleNews(country='GB')\n",
        "\n",
        "# Topics array\n",
        "topics = ['Sports' , 'Technology', 'business']"
      ],
      "metadata": {
        "id": "86tk_eT1BL8M"
      },
      "execution_count": 31,
      "outputs": []
    },
    {
      "cell_type": "code",
      "source": [
        "# Dictonary to store the topic of news as a key and the top news of that topic as value\n",
        "news_type = {}\n",
        "for i in topics:\n",
        "    news = gn.topic_headlines(i)\n",
        "    news_type[i] = news"
      ],
      "metadata": {
        "id": "SxF2gRiPEQgk"
      },
      "execution_count": 32,
      "outputs": []
    },
    {
      "cell_type": "code",
      "source": [
        "for i,j in news_type.items():\n",
        "    print(i)\n",
        "    z = 0\n",
        "    for x in j['entries']:\n",
        "        if z >=9 : break\n",
        "        print('\\t',x['title']); z+=1;\n"
      ],
      "metadata": {
        "colab": {
          "base_uri": "https://localhost:8080/"
        },
        "id": "vWmaFNePEfRe",
        "outputId": "79661c65-aca1-4678-fd66-21fa1759e76c"
      },
      "execution_count": 33,
      "outputs": [
        {
          "output_type": "stream",
          "name": "stdout",
          "text": [
            "Sports\n",
            "\t Grand National Tips: Paddy Power's Cheat Sheet for Saturday's showpiece - Paddy Power News\n",
            "\t Manchester United transfer targets: Harry Kane, Declan Rice and Arnaut Danjuma rated - Daily Mail\n",
            "\t Everton v Manchester United: match preview | Premier League - The Guardian\n",
            "\t The Masters: Tiger Woods impresses with opening-round 71 in return to action at Augusta National - Sky Sports\n",
            "\t Every word from Pep Guardiola and Jurgen Klopp ahead of Man City vs Liverpool FC - Manchester Evening News\n",
            "\t Vettel fined for Australian GP FP1 scooter excursion - Autosport\n",
            "\t Mo Salah offers latest Liverpool contract update - \"can't say yes or no\" - The Mirror\n",
            "\t Downforce decision key to Red Bull's pursuit of Ferrari in Melbourne · RaceFans - RaceFans\n",
            "\t West Ham manager David Moyes sends warning to Lyon forward Moussa Dembele following cheeky wink - Evening Standard\n",
            "Technology\n",
            "\t Returnal Team Hopeful PS Plus Extra Members Will 'Dare to Try It' - Push Square\n",
            "\t Halo Infinite season 2, Lone Wolves, launching in early May - Polygon\n",
            "\t Criterion's new Need for Speed will reportedly launch this November - Eurogamer.net\n",
            "\t ANOTHER bid to ruin Wordle? New York Times launches a tool that picks apart your strategy - Daily Mail\n",
            "\t Activision Blizzard converting all game-testing temps into full-time employees - Eurogamer.net\n",
            "\t Google will stop users downloading hundreds of apps unless developers update them - The Independent\n",
            "\t Google joins Samsung in working with iFixit on a self-repair program - The Verge\n",
            "\t One of our favorite cheap 4K TVs has been slashed $250 at Best Buy - Tom's Guide\n",
            "\t LEGO x Epic Games Announced, Planning A 'Metaverse' For Kids - Nintendo Life\n",
            "business\n",
            "\t Belgium orders Ferrero plant to shut over 'Kinder salmonella link' - Sky News\n",
            "\t New Cambo owner tries to fast-track North Sea project - The Telegraph\n",
            "\t UK’s energy strategy may take years to bring down bills, says Kwarteng - The Guardian\n",
            "\t Airport chaos – live: Easter breaks disrupted with more than 100 UK flights cancelled - The Independent\n",
            "\t Joint biggest shareholder in Manchester Airports Group finally speaks out amid passenger chaos - Manchester Evening News\n",
            "\t Kent town named best place to live in the south east - Kent Online\n",
            "\t P&O Ferries suspends all services and tells customers to find alternative travel - Daily Record\n",
            "\t Elon Musk says Tesla's long-delayed Cybertruck will FINALLY ship from 2023 and announces 'robotaxi' - Daily Mail\n",
            "\t Five key tips to save money on fuel as prices soar - In Your Area\n"
          ]
        }
      ]
    },
    {
      "cell_type": "code",
      "source": [
        ""
      ],
      "metadata": {
        "id": "4Auqy2htF3Hz"
      },
      "execution_count": null,
      "outputs": []
    }
  ]
}