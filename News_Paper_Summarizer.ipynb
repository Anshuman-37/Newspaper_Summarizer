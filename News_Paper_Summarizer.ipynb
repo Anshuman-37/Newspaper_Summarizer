{
  "nbformat": 4,
  "nbformat_minor": 0,
  "metadata": {
    "colab": {
      "name": "News_Paper_Summarizer.ipynb",
      "provenance": [],
      "collapsed_sections": [],
      "machine_shape": "hm",
      "authorship_tag": "ABX9TyONNWp7USiL2TKEXd9LhZ9U",
      "include_colab_link": true
    },
    "kernelspec": {
      "name": "python3",
      "display_name": "Python 3"
    },
    "language_info": {
      "name": "python"
    },
    "accelerator": "GPU"
  },
  "cells": [
    {
      "cell_type": "markdown",
      "metadata": {
        "id": "view-in-github",
        "colab_type": "text"
      },
      "source": [
        "<a href=\"https://colab.research.google.com/github/Anshuman-37/Newspaper_Summarizer/blob/main/News_Paper_Summarizer.ipynb\" target=\"_parent\"><img src=\"https://colab.research.google.com/assets/colab-badge.svg\" alt=\"Open In Colab\"/></a>"
      ]
    },
    {
      "cell_type": "markdown",
      "source": [
        "### Header File"
      ],
      "metadata": {
        "id": "FoYLDXJsZEfY"
      }
    },
    {
      "cell_type": "code",
      "execution_count": null,
      "metadata": {
        "id": "pST75VbI_3fC"
      },
      "outputs": [],
      "source": [
        "!pip install pygooglenews --upgrade\n",
        "!pip install newspaper3k"
      ]
    },
    {
      "cell_type": "markdown",
      "source": [
        "### Container Class"
      ],
      "metadata": {
        "id": "BJniXSKCZH6M"
      }
    },
    {
      "cell_type": "code",
      "source": [
        "### container for the news\n",
        "\n",
        "class News_article:\n",
        "    # To store the type of news\n",
        "    # To store the title of news\n",
        "    category = ''\n",
        "    title = ''\n",
        "    news = ''\n",
        "    summary = ''\n",
        "    def __init__(self, category,title,news):\n",
        "        ## To initialize the object of the class\n",
        "        self.category = category\n",
        "        self.age = title\n",
        "        self.news = news\n",
        "    def get_news():\n",
        "        '''Return the news for specific article'''\n",
        "        return self.news\n",
        "    def set_summary(summary):\n",
        "        '''Updates the summary for the news'''\n",
        "        self.summary = summary\n",
        "    def get_category():\n",
        "        '''Returns the category of the news'''\n",
        "        return self.category\n",
        "    def get_summary():\n",
        "        '''Returns the Title of the news and its summary'''\n",
        "        return self.title , self.summary"
      ],
      "metadata": {
        "id": "1LZk4jn_ZKuc"
      },
      "execution_count": 9,
      "outputs": []
    },
    {
      "cell_type": "code",
      "source": [
        "from pygooglenews import *\n",
        "# Google news object\n",
        "gn = GoogleNews(country='GB')\n",
        "# Topics array\n",
        "topics = ['Sports' , 'Technology', 'Business', 'Science']"
      ],
      "metadata": {
        "id": "86tk_eT1BL8M"
      },
      "execution_count": null,
      "outputs": []
    },
    {
      "cell_type": "code",
      "source": [
        "# Dictonary to store the topic of news as a key and the top news of that topic as value\n",
        "news_type = {}\n",
        "for i in topics:\n",
        "    news = gn.topic_headlines(i)\n",
        "    news_type[i] = news"
      ],
      "metadata": {
        "id": "SxF2gRiPEQgk"
      },
      "execution_count": null,
      "outputs": []
    },
    {
      "cell_type": "code",
      "source": [
        "# Print the news to make sure everythings is working\n",
        "for i,j in news_type.items():\n",
        "    print(i)\n",
        "    z = 0\n",
        "    for x in j['entries']:\n",
        "        if z >=1 : break\n",
        "        link = x['links']\n",
        "        for a in link:\n",
        "            print('\\t',a['href']); z+=1;"
      ],
      "metadata": {
        "colab": {
          "base_uri": "https://localhost:8080/"
        },
        "id": "vWmaFNePEfRe",
        "outputId": "913210d5-f563-46da-850d-a773d78854a9"
      },
      "execution_count": null,
      "outputs": [
        {
          "output_type": "stream",
          "name": "stdout",
          "text": [
            "Sports\n",
            "\t https://news.google.com/__i/rss/rd/articles/CBMibWh0dHBzOi8vd3d3LnRoZWd1YXJkaWFuLmNvbS9zcG9ydC8yMDIyL2Fwci8wOC90YWxraW5nLWhvcnNlcy1sb25naG91c2UtcG9ldC1nb29kLXZhbHVlLXRvLWxhbmQtZ3JhbmQtbmF0aW9uYWzSAW1odHRwczovL2FtcC50aGVndWFyZGlhbi5jb20vc3BvcnQvMjAyMi9hcHIvMDgvdGFsa2luZy1ob3JzZXMtbG9uZ2hvdXNlLXBvZXQtZ29vZC12YWx1ZS10by1sYW5kLWdyYW5kLW5hdGlvbmFs?oc=5\n",
            "Technology\n",
            "\t https://news.google.com/__i/rss/rd/articles/CBMiZ2h0dHBzOi8vd3d3LnB1c2hzcXVhcmUuY29tL25ld3MvMjAyMi8wNC9yZXR1cm5hbC10ZWFtLWhvcGVmdWwtcHMtcGx1cy1leHRyYS1tZW1iZXJzLXdpbGwtZGFyZS10by10cnktaXTSAQA?oc=5\n",
            "Business\n",
            "\t https://news.google.com/__i/rss/rd/articles/CBMiZGh0dHBzOi8vbmV3cy5za3kuY29tL3N0b3J5L2JlbGdpdW0tb3JkZXJzLWZlcnJlcm8tcGxhbnQtdG8tc2h1dC1vdmVyLWtpbmRlci1zYWxtb25lbGxhLWxpbmstMTI1ODU1MzTSAWhodHRwczovL25ld3Muc2t5LmNvbS9zdG9yeS9hbXAvYmVsZ2l1bS1vcmRlcnMtZmVycmVyby1wbGFudC10by1zaHV0LW92ZXIta2luZGVyLXNhbG1vbmVsbGEtbGluay0xMjU4NTUzNA?oc=5\n",
            "Science\n",
            "\t https://news.google.com/__i/rss/rd/articles/CBMid2h0dHBzOi8vd3d3LmRhaWx5bWFpbC5jby51ay9zY2llbmNldGVjaC9hcnRpY2xlLTEwNjk5OTg3L1NwYWNlWC1BeGlvbS1TcGFjZS1sYXVuY2gtZnVsbHktY29tbWVyY2lhbC1jcmV3LUlTUy10b2RheS5odG1s0gEA?oc=5\n"
          ]
        }
      ]
    },
    {
      "cell_type": "markdown",
      "source": [
        ""
      ],
      "metadata": {
        "id": "XZj91Odry6Jl"
      }
    },
    {
      "cell_type": "code",
      "source": [
        "for i,j in news_type.items():\n",
        "    print(i); z=0;\n",
        "    for x in j['entries']:\n",
        "        if z >=1 : break\n",
        "        links = x['links']\n",
        "        for a in links:\n",
        "            url = str(a['href']);\n",
        "        print(url); z+=1;"
      ],
      "metadata": {
        "colab": {
          "base_uri": "https://localhost:8080/"
        },
        "id": "fDetcQHey6uX",
        "outputId": "72874a58-f7ee-4adb-94ee-3e538cc51353"
      },
      "execution_count": null,
      "outputs": [
        {
          "output_type": "stream",
          "name": "stdout",
          "text": [
            "Sports\n",
            "https://news.google.com/__i/rss/rd/articles/CBMibWh0dHBzOi8vd3d3LnRoZWd1YXJkaWFuLmNvbS9zcG9ydC8yMDIyL2Fwci8wOC90YWxraW5nLWhvcnNlcy1sb25naG91c2UtcG9ldC1nb29kLXZhbHVlLXRvLWxhbmQtZ3JhbmQtbmF0aW9uYWzSAW1odHRwczovL2FtcC50aGVndWFyZGlhbi5jb20vc3BvcnQvMjAyMi9hcHIvMDgvdGFsa2luZy1ob3JzZXMtbG9uZ2hvdXNlLXBvZXQtZ29vZC12YWx1ZS10by1sYW5kLWdyYW5kLW5hdGlvbmFs?oc=5\n",
            "Technology\n",
            "https://news.google.com/__i/rss/rd/articles/CBMiZ2h0dHBzOi8vd3d3LnB1c2hzcXVhcmUuY29tL25ld3MvMjAyMi8wNC9yZXR1cm5hbC10ZWFtLWhvcGVmdWwtcHMtcGx1cy1leHRyYS1tZW1iZXJzLXdpbGwtZGFyZS10by10cnktaXTSAQA?oc=5\n",
            "Business\n",
            "https://news.google.com/__i/rss/rd/articles/CBMiZGh0dHBzOi8vbmV3cy5za3kuY29tL3N0b3J5L2JlbGdpdW0tb3JkZXJzLWZlcnJlcm8tcGxhbnQtdG8tc2h1dC1vdmVyLWtpbmRlci1zYWxtb25lbGxhLWxpbmstMTI1ODU1MzTSAWhodHRwczovL25ld3Muc2t5LmNvbS9zdG9yeS9hbXAvYmVsZ2l1bS1vcmRlcnMtZmVycmVyby1wbGFudC10by1zaHV0LW92ZXIta2luZGVyLXNhbG1vbmVsbGEtbGluay0xMjU4NTUzNA?oc=5\n",
            "Science\n",
            "https://news.google.com/__i/rss/rd/articles/CBMid2h0dHBzOi8vd3d3LmRhaWx5bWFpbC5jby51ay9zY2llbmNldGVjaC9hcnRpY2xlLTEwNjk5OTg3L1NwYWNlWC1BeGlvbS1TcGFjZS1sYXVuY2gtZnVsbHktY29tbWVyY2lhbC1jcmV3LUlTUy10b2RheS5odG1s0gEA?oc=5\n"
          ]
        }
      ]
    },
    {
      "cell_type": "code",
      "source": [
        "# Now get the whole text from the website\n",
        "import requests\n",
        "from bs4 import BeautifulSoup\n",
        "\n",
        "# try:\n",
        "#     url = \"https://www.thisisafaultyurl.com/faulty/url/\"\n",
        "#     r = requests.get(url)\n",
        "#     print(\"HTML:\\n\", r.text)\n",
        "# except:\n",
        "#     print(\"Invalid URL or some error occured while making the GET request to the specified URL\")\n",
        "\n",
        "\n",
        "for i,j in news_type.items():\n",
        "    print(i); z=0;\n",
        "    for x in j['entries']:\n",
        "        if z >=1 : break\n",
        "        links = x['links']\n",
        "        for a in links:\n",
        "            url = str(a['href']);\n",
        "        print(url); z+=1;\n",
        "        try:\n",
        "            r = requests.get(url)\n",
        "            soup = BeautifulSoup(r.content, \"html.parser\")\n",
        "            results = soup.find(id=\"body\")\n",
        "            print('NEWS - \\n', results.prettify())\n",
        "            print('-'*50)\n",
        "        except:\n",
        "            print(\"Invalid URL or some error occured while making the GET request to the specified URL\")\n",
        "            #print('\\t',x['title']); z+=1;\n"
      ],
      "metadata": {
        "id": "4Auqy2htF3Hz"
      },
      "execution_count": null,
      "outputs": []
    },
    {
      "cell_type": "code",
      "source": [
        "## Fuck has to make a new start ... FUCK \n",
        "\n",
        "from bs4 import BeautifulSoup\n",
        "import requests\n",
        "\n"
      ],
      "metadata": {
        "id": "3VIrVG4Izqiu"
      },
      "execution_count": null,
      "outputs": []
    },
    {
      "cell_type": "code",
      "source": [
        "import newspaper \n",
        "url = 'https://news.sky.com/story/belgium-orders-ferrero-plant-to-shut-over-kinder-salmonella-link-12585534'\n",
        "\n",
        "url_i = newspaper.Article(url=\"%s\"%(url), language='en')\n",
        "url_i.download()\n",
        "url_i.parse()\n",
        " \n",
        "# Display scrapped data\n",
        "print(url_i.text)"
      ],
      "metadata": {
        "id": "DAxTf0p5Co5G",
        "colab": {
          "base_uri": "https://localhost:8080/"
        },
        "outputId": "e52e94b7-f489-4509-a491-23a001739a4a"
      },
      "execution_count": 7,
      "outputs": [
        {
          "output_type": "stream",
          "name": "stdout",
          "text": [
            "Italian confectionary group Ferrero has been ordered to suspend production at its plant in Belgium following an investigation into dozens of cases of salmonella allegedly linked to the company's Kinder chocolates.\n",
            "\n",
            "Earlier this week, certain Kinder Surprise chocolate eggs were recalled by the UK's Food Standards Agency (FSA) due to the possible presence of salmonella.\n",
            "\n",
            "The UK Health Security Agency said on Wednesday that 63 people in the UK, mostly young children, were known to have been infected with salmonella in the outbreak linked to the treats.\n",
            "\n",
            "On Friday, Belgian health authorities called for the factory suspension after the firm recalled several batches of Kinder Surprise chocolate eggs and other products from shelves in Spain, Britain, Ireland and US.\n",
            "\n",
            "Ferrero said that other Kinder products made at its Arlon site in Belgium had also been recalled, but it did not explicitly link the recall to the salmonella cases.\n",
            "\n",
            "Advertisement\n",
            "\n",
            "According to Belgium's food safety agency AFSCA-FAVV, a link had been confirmed between more than 100 cases of salmonella over several weeks and Ferrero production in southern Belgium.\n",
            "\n",
            "It comes after Europe's health agency on Wednesday said it was investigating dozens of reported salmonella cases linked with eating chocolate in at least nine countries, mostly among children aged under 10.\n",
            "\n",
            "Ferrero said that the Arlon plant accounts for around 7% of total global volumes of Kinder products.\n",
            "\n",
            "The decision to suspend production at the plant was taken after the Belgian agency concluded that information from Ferrero was incomplete.\n",
            "\n",
            "The agency said that the suspension would be lifted only when the plant could prove it was meeting all food safety rules, and also urged consumers not to eat any of the recalled products in the meantime, including Kinder Surprise, Kinder Surprise Maxi, Kinder Mini Eggs and Kinder Schokobons.\n",
            "\n",
            "Ferrero said there were internal inefficiencies that created delays in retrieving and sharing information in a\n",
            "\n",
            "timely manner.\n",
            "\n",
            "Image: Kinder Surprise eggs were recalled this week over salmonella fears\n",
            "\n",
            "It previously described recalls as precautionary and said that no Kinder products released to the market had tested positive for salmonella.\n",
            "\n",
            "The first recall on Monday included batches of Kinder Surprise individual 20g eggs and those that come in packs of three with a best before date of between 11 July 2022 and 7 October 2022. That was later extended to include those products with a best before date of all dates up to and including 7 October 2022.\n",
            "\n",
            "Kinder Surprise packs (100g), Kinder Mini Eggs packs (75g), and Kinder Schokobons (200g), with a best before date between 20 April 2022 and 21 August 2022, have also been recalled.\n",
            "\n",
            "As have Kinder Egg Hunt Kits (150g) with best before dates from 21 April 2022 to 21 August 2022.\n",
            "\n",
            "The FSA said all the eggs affected had been made in the same factory in Belgium.\n",
            "\n",
            "The recall comes weeks before Easter, when Ferrero would likely have been hoping for a boost in sales.\n"
          ]
        }
      ]
    },
    {
      "cell_type": "code",
      "source": [
        "!pip install gradio "
      ],
      "metadata": {
        "id": "x0MJ4dp2CpCs",
        "colab": {
          "base_uri": "https://localhost:8080/"
        },
        "outputId": "dea00398-a916-4dbf-a086-93242f490764"
      },
      "execution_count": 6,
      "outputs": [
        {
          "output_type": "stream",
          "name": "stdout",
          "text": [
            "Collecting gradio\n",
            "  Downloading gradio-2.9.1-py3-none-any.whl (1.7 MB)\n",
            "\u001b[K     |████████████████████████████████| 1.7 MB 5.0 MB/s \n",
            "\u001b[?25hCollecting fastapi\n",
            "  Downloading fastapi-0.75.1-py3-none-any.whl (54 kB)\n",
            "\u001b[K     |████████████████████████████████| 54 kB 3.4 MB/s \n",
            "\u001b[?25hCollecting ffmpy\n",
            "  Downloading ffmpy-0.3.0.tar.gz (4.8 kB)\n",
            "Collecting pycryptodome\n",
            "  Downloading pycryptodome-3.14.1-cp35-abi3-manylinux2010_x86_64.whl (2.0 MB)\n",
            "\u001b[K     |████████████████████████████████| 2.0 MB 63.8 MB/s \n",
            "\u001b[?25hCollecting analytics-python\n",
            "  Downloading analytics_python-1.4.0-py2.py3-none-any.whl (15 kB)\n",
            "Requirement already satisfied: requests in /usr/local/lib/python3.7/dist-packages (from gradio) (2.27.1)\n",
            "Collecting pydub\n",
            "  Downloading pydub-0.25.1-py2.py3-none-any.whl (32 kB)\n",
            "Collecting markdown-it-py[linkify,plugins]\n",
            "  Downloading markdown_it_py-2.0.1-py3-none-any.whl (84 kB)\n",
            "\u001b[K     |████████████████████████████████| 84 kB 3.6 MB/s \n",
            "\u001b[?25hRequirement already satisfied: matplotlib in /usr/local/lib/python3.7/dist-packages (from gradio) (3.2.2)\n",
            "Collecting paramiko\n",
            "  Downloading paramiko-2.10.3-py2.py3-none-any.whl (211 kB)\n",
            "\u001b[K     |████████████████████████████████| 211 kB 77.3 MB/s \n",
            "\u001b[?25hCollecting uvicorn\n",
            "  Downloading uvicorn-0.17.6-py3-none-any.whl (53 kB)\n",
            "\u001b[K     |████████████████████████████████| 53 kB 2.7 MB/s \n",
            "\u001b[?25hCollecting aiohttp\n",
            "  Downloading aiohttp-3.8.1-cp37-cp37m-manylinux_2_5_x86_64.manylinux1_x86_64.manylinux_2_12_x86_64.manylinux2010_x86_64.whl (1.1 MB)\n",
            "\u001b[K     |████████████████████████████████| 1.1 MB 66.7 MB/s \n",
            "\u001b[?25hCollecting orjson\n",
            "  Downloading orjson-3.6.7-cp37-cp37m-manylinux_2_24_x86_64.whl (255 kB)\n",
            "\u001b[K     |████████████████████████████████| 255 kB 87.0 MB/s \n",
            "\u001b[?25hRequirement already satisfied: pillow in /usr/local/lib/python3.7/dist-packages (from gradio) (7.1.2)\n",
            "Collecting python-multipart\n",
            "  Downloading python-multipart-0.0.5.tar.gz (32 kB)\n",
            "Requirement already satisfied: numpy in /usr/local/lib/python3.7/dist-packages (from gradio) (1.21.5)\n",
            "Requirement already satisfied: pandas in /usr/local/lib/python3.7/dist-packages (from gradio) (1.3.5)\n",
            "Collecting multidict<7.0,>=4.5\n",
            "  Downloading multidict-6.0.2-cp37-cp37m-manylinux_2_17_x86_64.manylinux2014_x86_64.whl (94 kB)\n",
            "\u001b[K     |████████████████████████████████| 94 kB 4.4 MB/s \n",
            "\u001b[?25hRequirement already satisfied: typing-extensions>=3.7.4 in /usr/local/lib/python3.7/dist-packages (from aiohttp->gradio) (3.10.0.2)\n",
            "Collecting async-timeout<5.0,>=4.0.0a3\n",
            "  Downloading async_timeout-4.0.2-py3-none-any.whl (5.8 kB)\n",
            "Collecting yarl<2.0,>=1.0\n",
            "  Downloading yarl-1.7.2-cp37-cp37m-manylinux_2_5_x86_64.manylinux1_x86_64.manylinux_2_12_x86_64.manylinux2010_x86_64.whl (271 kB)\n",
            "\u001b[K     |████████████████████████████████| 271 kB 88.1 MB/s \n",
            "\u001b[?25hCollecting aiosignal>=1.1.2\n",
            "  Downloading aiosignal-1.2.0-py3-none-any.whl (8.2 kB)\n",
            "Requirement already satisfied: attrs>=17.3.0 in /usr/local/lib/python3.7/dist-packages (from aiohttp->gradio) (21.4.0)\n",
            "Requirement already satisfied: charset-normalizer<3.0,>=2.0 in /usr/local/lib/python3.7/dist-packages (from aiohttp->gradio) (2.0.12)\n",
            "Collecting frozenlist>=1.1.1\n",
            "  Downloading frozenlist-1.3.0-cp37-cp37m-manylinux_2_5_x86_64.manylinux1_x86_64.manylinux_2_17_x86_64.manylinux2014_x86_64.whl (144 kB)\n",
            "\u001b[K     |████████████████████████████████| 144 kB 103.5 MB/s \n",
            "\u001b[?25hCollecting asynctest==0.13.0\n",
            "  Downloading asynctest-0.13.0-py3-none-any.whl (26 kB)\n",
            "Requirement already satisfied: idna>=2.0 in /usr/local/lib/python3.7/dist-packages (from yarl<2.0,>=1.0->aiohttp->gradio) (2.10)\n",
            "Requirement already satisfied: six>=1.5 in /usr/local/lib/python3.7/dist-packages (from analytics-python->gradio) (1.15.0)\n",
            "Collecting backoff==1.10.0\n",
            "  Downloading backoff-1.10.0-py2.py3-none-any.whl (31 kB)\n",
            "Collecting monotonic>=1.5\n",
            "  Downloading monotonic-1.6-py2.py3-none-any.whl (8.2 kB)\n",
            "Requirement already satisfied: python-dateutil>2.1 in /usr/local/lib/python3.7/dist-packages (from analytics-python->gradio) (2.8.2)\n",
            "Requirement already satisfied: urllib3<1.27,>=1.21.1 in /usr/local/lib/python3.7/dist-packages (from requests->gradio) (1.24.3)\n",
            "Requirement already satisfied: certifi>=2017.4.17 in /usr/local/lib/python3.7/dist-packages (from requests->gradio) (2021.10.8)\n",
            "Collecting starlette==0.17.1\n",
            "  Downloading starlette-0.17.1-py3-none-any.whl (58 kB)\n",
            "\u001b[K     |████████████████████████████████| 58 kB 7.3 MB/s \n",
            "\u001b[?25hCollecting pydantic!=1.7,!=1.7.1,!=1.7.2,!=1.7.3,!=1.8,!=1.8.1,<2.0.0,>=1.6.2\n",
            "  Downloading pydantic-1.9.0-cp37-cp37m-manylinux_2_17_x86_64.manylinux2014_x86_64.whl (10.9 MB)\n",
            "\u001b[K     |████████████████████████████████| 10.9 MB 58.5 MB/s \n",
            "\u001b[?25hCollecting anyio<4,>=3.0.0\n",
            "  Downloading anyio-3.5.0-py3-none-any.whl (79 kB)\n",
            "\u001b[K     |████████████████████████████████| 79 kB 7.4 MB/s \n",
            "\u001b[?25hCollecting sniffio>=1.1\n",
            "  Downloading sniffio-1.2.0-py3-none-any.whl (10 kB)\n",
            "Collecting mdurl~=0.1\n",
            "  Downloading mdurl-0.1.0-py3-none-any.whl (11 kB)\n",
            "Collecting mdit-py-plugins\n",
            "  Downloading mdit_py_plugins-0.3.0-py3-none-any.whl (43 kB)\n",
            "\u001b[K     |████████████████████████████████| 43 kB 2.6 MB/s \n",
            "\u001b[?25hCollecting linkify-it-py~=1.0\n",
            "  Downloading linkify_it_py-1.0.3-py3-none-any.whl (19 kB)\n",
            "Collecting uc-micro-py\n",
            "  Downloading uc_micro_py-1.0.1-py3-none-any.whl (6.2 kB)\n",
            "Requirement already satisfied: cycler>=0.10 in /usr/local/lib/python3.7/dist-packages (from matplotlib->gradio) (0.11.0)\n",
            "Requirement already satisfied: kiwisolver>=1.0.1 in /usr/local/lib/python3.7/dist-packages (from matplotlib->gradio) (1.4.0)\n",
            "Requirement already satisfied: pyparsing!=2.0.4,!=2.1.2,!=2.1.6,>=2.0.1 in /usr/local/lib/python3.7/dist-packages (from matplotlib->gradio) (3.0.7)\n",
            "Requirement already satisfied: pytz>=2017.3 in /usr/local/lib/python3.7/dist-packages (from pandas->gradio) (2018.9)\n",
            "Collecting bcrypt>=3.1.3\n",
            "  Downloading bcrypt-3.2.0-cp36-abi3-manylinux_2_17_x86_64.manylinux2014_x86_64.manylinux_2_24_x86_64.whl (61 kB)\n",
            "\u001b[K     |████████████████████████████████| 61 kB 548 kB/s \n",
            "\u001b[?25hCollecting cryptography>=2.5\n",
            "  Downloading cryptography-36.0.2-cp36-abi3-manylinux_2_24_x86_64.whl (3.6 MB)\n",
            "\u001b[K     |████████████████████████████████| 3.6 MB 79.2 MB/s \n",
            "\u001b[?25hCollecting pynacl>=1.0.1\n",
            "  Downloading PyNaCl-1.5.0-cp36-abi3-manylinux_2_17_x86_64.manylinux2014_x86_64.manylinux_2_24_x86_64.whl (856 kB)\n",
            "\u001b[K     |████████████████████████████████| 856 kB 85.9 MB/s \n",
            "\u001b[?25hRequirement already satisfied: cffi>=1.1 in /usr/local/lib/python3.7/dist-packages (from bcrypt>=3.1.3->paramiko->gradio) (1.15.0)\n",
            "Requirement already satisfied: pycparser in /usr/local/lib/python3.7/dist-packages (from cffi>=1.1->bcrypt>=3.1.3->paramiko->gradio) (2.21)\n",
            "Collecting h11>=0.8\n",
            "  Downloading h11-0.13.0-py3-none-any.whl (58 kB)\n",
            "\u001b[K     |████████████████████████████████| 58 kB 7.9 MB/s \n",
            "\u001b[?25hRequirement already satisfied: click>=7.0 in /usr/local/lib/python3.7/dist-packages (from uvicorn->gradio) (7.1.2)\n",
            "Collecting asgiref>=3.4.0\n",
            "  Downloading asgiref-3.5.0-py3-none-any.whl (22 kB)\n",
            "Building wheels for collected packages: ffmpy, python-multipart\n",
            "  Building wheel for ffmpy (setup.py) ... \u001b[?25l\u001b[?25hdone\n",
            "  Created wheel for ffmpy: filename=ffmpy-0.3.0-py3-none-any.whl size=4712 sha256=82918489796dfe14ace1f13477b6927416afd157df95f4ec4ecae7b2bf7d9fad\n",
            "  Stored in directory: /root/.cache/pip/wheels/13/e4/6c/e8059816e86796a597c6e6b0d4c880630f51a1fcfa0befd5e6\n",
            "  Building wheel for python-multipart (setup.py) ... \u001b[?25l\u001b[?25hdone\n",
            "  Created wheel for python-multipart: filename=python_multipart-0.0.5-py3-none-any.whl size=31678 sha256=9d2a88df8c6c18c86cbd7e75755d9d7f963d2e376d75d182cbfb826df476a31c\n",
            "  Stored in directory: /root/.cache/pip/wheels/2c/41/7c/bfd1c180534ffdcc0972f78c5758f89881602175d48a8bcd2c\n",
            "Successfully built ffmpy python-multipart\n",
            "Installing collected packages: sniffio, mdurl, uc-micro-py, multidict, markdown-it-py, frozenlist, anyio, yarl, starlette, pynacl, pydantic, monotonic, mdit-py-plugins, linkify-it-py, h11, cryptography, bcrypt, backoff, asynctest, async-timeout, asgiref, aiosignal, uvicorn, python-multipart, pydub, pycryptodome, paramiko, orjson, ffmpy, fastapi, analytics-python, aiohttp, gradio\n",
            "Successfully installed aiohttp-3.8.1 aiosignal-1.2.0 analytics-python-1.4.0 anyio-3.5.0 asgiref-3.5.0 async-timeout-4.0.2 asynctest-0.13.0 backoff-1.10.0 bcrypt-3.2.0 cryptography-36.0.2 fastapi-0.75.1 ffmpy-0.3.0 frozenlist-1.3.0 gradio-2.9.1 h11-0.13.0 linkify-it-py-1.0.3 markdown-it-py-2.0.1 mdit-py-plugins-0.3.0 mdurl-0.1.0 monotonic-1.6 multidict-6.0.2 orjson-3.6.7 paramiko-2.10.3 pycryptodome-3.14.1 pydantic-1.9.0 pydub-0.25.1 pynacl-1.5.0 python-multipart-0.0.5 sniffio-1.2.0 starlette-0.17.1 uc-micro-py-1.0.1 uvicorn-0.17.6 yarl-1.7.2\n"
          ]
        }
      ]
    },
    {
      "cell_type": "code",
      "source": [
        ""
      ],
      "metadata": {
        "id": "-IJNeTEhXjUP"
      },
      "execution_count": null,
      "outputs": []
    }
  ]
}